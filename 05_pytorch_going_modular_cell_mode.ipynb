{
  "nbformat": 4,
  "nbformat_minor": 0,
  "metadata": {
    "colab": {
      "provenance": [],
      "authorship_tag": "ABX9TyMJZ46GceTgJ/f3WMxRpocj",
      "include_colab_link": true
    },
    "kernelspec": {
      "name": "python3",
      "display_name": "Python 3"
    },
    "language_info": {
      "name": "python"
    }
  },
  "cells": [
    {
      "cell_type": "markdown",
      "metadata": {
        "id": "view-in-github",
        "colab_type": "text"
      },
      "source": [
        "<a href=\"https://colab.research.google.com/github/UMB200/pytorch_projects/blob/main/05_pytorch_going_modular_cell_mode.ipynb\" target=\"_parent\"><img src=\"https://colab.research.google.com/assets/colab-badge.svg\" alt=\"Open In Colab\"/></a>"
      ]
    },
    {
      "cell_type": "markdown",
      "source": [
        "## 1.0 Get data"
      ],
      "metadata": {
        "id": "whM8G1h_BLib"
      }
    },
    {
      "cell_type": "markdown",
      "source": [
        "### 1.1 Import necessary libariaries"
      ],
      "metadata": {
        "id": "lmPEIbPsBZyd"
      }
    },
    {
      "cell_type": "code",
      "source": [
        "import os\n",
        "import requests\n",
        "import zipfile\n",
        "from pathlib import Path"
      ],
      "metadata": {
        "id": "mtnGrOFbBN6q"
      },
      "execution_count": null,
      "outputs": []
    },
    {
      "cell_type": "markdown",
      "source": [
        "### 1.2 Get data"
      ],
      "metadata": {
        "id": "jGWpe7tyBd58"
      }
    },
    {
      "cell_type": "code",
      "source": [
        "# Setup path to data folder\n",
        "data_path = Path(\"data_path/\")\n",
        "img_path = data_path / \"pizza_steak_sushi\"\n",
        "\n",
        "# If the image folder doesn't exists, download it and prepare it\n",
        "if img_path.is_dir():\n",
        "  print(f\"{img_path} directory already exists\")\n",
        "else:\n",
        "  print(f\"Creating directory {img_path}\")\n",
        "  img_path.mkdir(parents=True, exist_ok=True)\n",
        "# Download data\n",
        "url_to_download = \"https://github.com/mrdbourke/pytorch-deep-learning/raw/main/data/pizza_steak_sushi.zip\"\n",
        "file_path = data_path / \"pizza_steak_sushi.zip\"\n",
        "with open(file_path, \"wb\") as f:\n",
        "  print(f\"Downloading data\")\n",
        "  f.write(requests.get(url_to_download).content)\n",
        "#Unzip data\n",
        "with zipfile.ZipFile(file_path, \"r\") as zip_ref:\n",
        "  print(f\"Unzipping: {file_path}\")\n",
        "  zip_ref.extractall(img_path)\n",
        "\n",
        "# Remove zip file\n",
        "os.remove(file_path)"
      ],
      "metadata": {
        "colab": {
          "base_uri": "https://localhost:8080/"
        },
        "id": "5tu6clf4BgEd",
        "outputId": "298902a2-a9dc-425c-df07-73bc3ea3a67d"
      },
      "execution_count": null,
      "outputs": [
        {
          "output_type": "stream",
          "name": "stdout",
          "text": [
            "Creating directory data_path/pizza_steak_sushi\n",
            "Downloading data\n",
            "Unzipping: data_path/pizza_steak_sushi.zip\n"
          ]
        }
      ]
    },
    {
      "cell_type": "code",
      "source": [
        "# Setup training and testing paths\n",
        "train_dir = img_path / \"train\"\n",
        "test_dir = img_path / \"test\"\n",
        "\n",
        "train_dir, test_dir"
      ],
      "metadata": {
        "colab": {
          "base_uri": "https://localhost:8080/"
        },
        "id": "7HTWFxG0Md6q",
        "outputId": "35d38b4e-7cf9-4a4d-eae5-0bddb90b8f9e"
      },
      "execution_count": null,
      "outputs": [
        {
          "output_type": "execute_result",
          "data": {
            "text/plain": [
              "(PosixPath('data_path/pizza_steak_sushi/train'),\n",
              " PosixPath('data_path/pizza_steak_sushi/test'))"
            ]
          },
          "metadata": {},
          "execution_count": 3
        }
      ]
    },
    {
      "cell_type": "markdown",
      "source": [
        "## 2.0 Create Datasets & DataLoaders\n",
        "\n",
        "Convert code to script: `%%writefile going_modular/data_setup.py`"
      ],
      "metadata": {
        "id": "crRzuV3ID-9R"
      }
    },
    {
      "cell_type": "code",
      "source": [
        "# Transform images to tensors\n",
        "from torchvision import transforms\n",
        "img_to_tensor_transform = transforms.Compose([transforms.Resize(size=(64, 64)),\n",
        "                                     transforms.ToTensor()])"
      ],
      "metadata": {
        "id": "AOBlxi9_MPbr"
      },
      "execution_count": null,
      "outputs": []
    },
    {
      "cell_type": "code",
      "source": [
        "import os\n",
        "os.makedirs(\"going_modular\", exist_ok=True)"
      ],
      "metadata": {
        "id": "tl96KWvRF1j6"
      },
      "execution_count": null,
      "outputs": []
    },
    {
      "cell_type": "code",
      "source": [
        "%%writefile going_modular/data_setup.py\n",
        "\"\"\"\n",
        "Contains functionality for creating PyTorch DataLoaders for\n",
        "image classification data.\n",
        "\"\"\"\n",
        "import os\n",
        "from torchvision import datasets, transforms\n",
        "from torch.utils.data import DataLoader\n",
        "\n",
        "NUM_WORKERS = os.cpu_count()\n",
        "\n",
        "def create_dataloaders(\n",
        "    train_dir: str,\n",
        "    test_dir: str,\n",
        "    transform: transforms.Compose,\n",
        "    batch_size: int,\n",
        "    num_workers: int=NUM_WORKERS\n",
        "):\n",
        "  \"\"\"Creates training and testing DataLoaders.\n",
        "\n",
        "  Takes in a training directory and testing directory path and turns\n",
        "  them into PyTorch Datasets and then into PyTorch DataLoaders.\n",
        "\n",
        "  Args:\n",
        "    train_dir: Path to training directory.\n",
        "    test_dir: Path to testing directory.\n",
        "    transform: torchvision transforms to perform on training and testing data.\n",
        "    batch_size: Number of samples per batch in each of the DataLoaders.\n",
        "    num_workers: An integer for number of workers per DataLoader.\n",
        "\n",
        "  Returns:\n",
        "    A tuple of (train_dataloader, test_dataloader, class_names).\n",
        "    Where class_names is a list of the target classes.\n",
        "    Example usage:\n",
        "      train_dataloader, test_dataloader, class_names = \\\n",
        "        = create_dataloaders(train_dir=path/to/train_dir,\n",
        "                             test_dir=path/to/test_dir,\n",
        "                             transform=some_transform,\n",
        "                             batch_size=32,\n",
        "                             num_workers=4)\n",
        "  \"\"\"\n",
        "\n",
        "  # Use ImageFolder to create dataset(s)\n",
        "  train_dataset = datasets.ImageFolder(train_dir, transform=transform)\n",
        "  test_dataset = datasets.ImageFolder(test_dir,transform=transform)\n",
        "\n",
        "  # Get class names\n",
        "  class_names = train_dataset.classes\n",
        "\n",
        "  # Turn datasets to DataLoaders\n",
        "  train_dataloader = DataLoader(train_dataset,\n",
        "                                batch_size=batch_size,\n",
        "                                num_workers=num_workers,\n",
        "                                shuffle=True,\n",
        "                                pin_memory=True)\n",
        "  test_dataloader = DataLoader(dataset=test_dataset,\n",
        "                               batch_size=batch_size,\n",
        "                               num_workers=num_workers,\n",
        "                               shuffle=False,\n",
        "                               pin_memory=True)\n",
        "\n",
        "  return train_dataloader, test_dataloader, class_names"
      ],
      "metadata": {
        "colab": {
          "base_uri": "https://localhost:8080/"
        },
        "id": "zBoLllHSGtVm",
        "outputId": "f2c6fdef-d753-4102-dfbd-99e97f0a6b06"
      },
      "execution_count": null,
      "outputs": [
        {
          "output_type": "stream",
          "name": "stdout",
          "text": [
            "Writing going_modular/data_setup.py\n"
          ]
        }
      ]
    },
    {
      "cell_type": "code",
      "source": [
        "from going_modular import data_setup\n",
        "train_dataloader, test_dataloader, class_names = data_setup.create_dataloaders(\n",
        "    train_dir,\n",
        "    test_dir,\n",
        "    img_to_tensor_transform,\n",
        "    batch_size = 32)"
      ],
      "metadata": {
        "id": "_4uFiW8PLZmE"
      },
      "execution_count": null,
      "outputs": []
    },
    {
      "cell_type": "markdown",
      "source": [
        "## 3.0 Making a model"
      ],
      "metadata": {
        "id": "h5dUyU-uiC1A"
      }
    },
    {
      "cell_type": "code",
      "source": [
        "train_dataloader, test_dataloader, class_names"
      ],
      "metadata": {
        "colab": {
          "base_uri": "https://localhost:8080/"
        },
        "id": "ZCxdwlwxNMvw",
        "outputId": "0a5981ae-181d-4683-e99f-1008c830414a"
      },
      "execution_count": null,
      "outputs": [
        {
          "output_type": "execute_result",
          "data": {
            "text/plain": [
              "(<torch.utils.data.dataloader.DataLoader at 0x77fc85d07610>,\n",
              " <torch.utils.data.dataloader.DataLoader at 0x77fc85e81950>,\n",
              " ['pizza', 'steak', 'sushi'])"
            ]
          },
          "metadata": {},
          "execution_count": 8
        }
      ]
    },
    {
      "cell_type": "code",
      "source": [
        "%%writefile going_modular/model_builder.py\n",
        "\"\"\"\n",
        "    Model architecture copying TinyVGG from:\n",
        "    https://poloclub.github.io/cnn-explainer/\n",
        "    Contains PyTorch model code to instantiate a TinyVGG model.\n",
        "\"\"\"\n",
        "\n",
        "import torch\n",
        "from torch import nn\n",
        "\n",
        "class Model_Builder_TinyVGG(nn.Module):\n",
        "  \"\"\"Creates the TinyVGG architecture.\n",
        "\n",
        "    Replicates the TinyVGG architecture from the CNN explainer website in PyTorch.\n",
        "    See the original architecture here: https://poloclub.github.io/cnn-explainer/\n",
        "\n",
        "    Args:\n",
        "      input_shape: An integer indicating number of input channels.\n",
        "      hidden_units: An integer indicating number of hidden units between layers.\n",
        "      output_shape: An integer indicating number of output units.\n",
        "      num_of_units: An integer indicating image size downsamples\n",
        "  \"\"\"\n",
        "\n",
        "\n",
        "  def __init__(self,\n",
        "               input_shape: int,\n",
        "               hidden_units: int,\n",
        "               output_shape: int,\n",
        "               num_of_units: int) -> None:\n",
        "               super().__init__()\n",
        "               self.cnn_block_1 = nn.Sequential(\n",
        "                   nn.Conv2d(in_channels=input_shape,\n",
        "                             out_channels=hidden_units,\n",
        "                             kernel_size=3,\n",
        "                             stride=1,\n",
        "                             padding=1),\n",
        "                   nn.ReLU(),\n",
        "                   nn.Conv2d(in_channels=hidden_units,\n",
        "                             out_channels=hidden_units,\n",
        "                             kernel_size=3,\n",
        "                             stride=1,\n",
        "                             padding=1),\n",
        "                   nn.ReLU(),\n",
        "                   nn.MaxPool2d(kernel_size=2,\n",
        "                                stride=2)\n",
        "               )\n",
        "               self.cnn_block_2 = nn.Sequential(\n",
        "                   nn.Conv2d(hidden_units, hidden_units, 3, 1, 1),\n",
        "                   nn.ReLU(),\n",
        "                   nn.Conv2d(hidden_units, hidden_units, 3, 1, 1),\n",
        "                   nn.ReLU(),\n",
        "                   nn.MaxPool2d(2)\n",
        "               )\n",
        "               self.classifier = nn.Sequential(\n",
        "                   nn.Flatten(),\n",
        "                   nn.Linear(in_features=hidden_units*num_of_units*num_of_units,\n",
        "                             out_features=output_shape)\n",
        "               )\n",
        "  def forward(self, x: torch.Tensor):\n",
        "    return self.classifier(self.cnn_block_2(self.cnn_block_1(x)))"
      ],
      "metadata": {
        "colab": {
          "base_uri": "https://localhost:8080/"
        },
        "id": "26xmTVmjN7xL",
        "outputId": "9aec2256-cac5-4e2c-895f-2071c1904ef8"
      },
      "execution_count": null,
      "outputs": [
        {
          "output_type": "stream",
          "name": "stdout",
          "text": [
            "Writing going_modular/model_builder.py\n"
          ]
        }
      ]
    },
    {
      "cell_type": "code",
      "source": [
        "from going_modular import model_builder\n",
        "import torch\n",
        "device  = \"cuda\" if torch.cuda.is_available() else \"cpu\"\n",
        "\n",
        "model_1 = model_builder.Model_Builder_TinyVGG(input_shape=3,\n",
        "                                             hidden_units=10,\n",
        "                                             output_shape=len(class_names),\n",
        "                                             num_of_units=13).to(device)\n",
        "model_1"
      ],
      "metadata": {
        "colab": {
          "base_uri": "https://localhost:8080/"
        },
        "id": "j4DhlW0Gf_Rt",
        "outputId": "7ad4eb46-8689-4f25-b872-3bd2190160a6"
      },
      "execution_count": null,
      "outputs": [
        {
          "output_type": "execute_result",
          "data": {
            "text/plain": [
              "Model_Builder_TinyVGG(\n",
              "  (cnn_block_1): Sequential(\n",
              "    (0): Conv2d(3, 10, kernel_size=(3, 3), stride=(1, 1), padding=(1, 1))\n",
              "    (1): ReLU()\n",
              "    (2): Conv2d(10, 10, kernel_size=(3, 3), stride=(1, 1), padding=(1, 1))\n",
              "    (3): ReLU()\n",
              "    (4): MaxPool2d(kernel_size=2, stride=2, padding=0, dilation=1, ceil_mode=False)\n",
              "  )\n",
              "  (cnn_block_2): Sequential(\n",
              "    (0): Conv2d(10, 10, kernel_size=(3, 3), stride=(1, 1), padding=(1, 1))\n",
              "    (1): ReLU()\n",
              "    (2): Conv2d(10, 10, kernel_size=(3, 3), stride=(1, 1), padding=(1, 1))\n",
              "    (3): ReLU()\n",
              "    (4): MaxPool2d(kernel_size=2, stride=2, padding=0, dilation=1, ceil_mode=False)\n",
              "  )\n",
              "  (classifier): Sequential(\n",
              "    (0): Flatten(start_dim=1, end_dim=-1)\n",
              "    (1): Linear(in_features=1690, out_features=3, bias=True)\n",
              "  )\n",
              ")"
            ]
          },
          "metadata": {},
          "execution_count": 10
        }
      ]
    },
    {
      "cell_type": "markdown",
      "source": [
        "## 4.0 Create `train_step()` and `test_step()` and `train()` to combine them"
      ],
      "metadata": {
        "id": "4R9hCZUaiGmq"
      }
    },
    {
      "cell_type": "markdown",
      "source": [
        "### 4.1 Create `engine()`"
      ],
      "metadata": {
        "id": "N7cUZITronlW"
      }
    },
    {
      "cell_type": "code",
      "source": [
        "%%writefile going_modular/engine.py\n",
        "\n",
        "import torch\n",
        "from tqdm.auto import tqdm\n",
        "from typing import Dict, List, Tuple\n",
        "from torch import nn\n",
        "\n",
        "def train_step_loop(model: torch.nn.Module,\n",
        "                    data_loader: torch.utils.data.DataLoader,\n",
        "                    loss_fn: torch.nn.Module,\n",
        "                    optimizer: torch.optim.Optimizer,\n",
        "                    device: torch.device) -> Tuple[float, float]:\n",
        "  \"\"\"Trains a PyTorch model for a single epoch.\n",
        "\n",
        "  Turns a target PyTorch model to training mode and then\n",
        "  runs through all of the required training steps (forward\n",
        "  pass, loss calculation, optimizer step).\n",
        "\n",
        "  Args:\n",
        "    model: A PyTorch model to be trained.\n",
        "    dataloader: A DataLoader instance for the model to be trained on.\n",
        "    loss_fn: A PyTorch loss function to minimize.\n",
        "    optimizer: A PyTorch optimizer to help minimize the loss function.\n",
        "    device: A target device to compute on (e.g. \"cuda\" or \"cpu\").\n",
        "\n",
        "  Returns:\n",
        "    A tuple of training loss and training accuracy metrics.\n",
        "    In the form (train_loss, train_accuracy). For example:\n",
        "\n",
        "    (0.1112, 0.8743)\n",
        "  \"\"\"\n",
        "  model.train()\n",
        "  train_loss, train_acc = 0, 0\n",
        "\n",
        "  for batch, (X, y) in enumerate(data_loader):\n",
        "    X, y = X.to(device), y.to(device)\n",
        "    y_pred = model(X)\n",
        "    loss = loss_fn(y_pred, y)\n",
        "    train_loss += loss.item()\n",
        "    optimizer.zero_grad()\n",
        "    loss.backward()\n",
        "    optimizer.step()\n",
        "    y_pred_class = torch.argmax(torch.softmax(y_pred, dim=1), dim=1)\n",
        "    train_acc += (y_pred_class == y).sum().item()/len(y_pred)\n",
        "  train_loss /= len(data_loader)\n",
        "  train_acc /= len(data_loader)\n",
        "  return train_loss, train_acc\n",
        "\n",
        "def test_step_loop(model: torch.nn.Module,\n",
        "                    data_loader: torch.utils.data.DataLoader,\n",
        "                   loss_fn: torch.nn.Module,\n",
        "                   device: torch.device) -> Tuple[float, float]:\n",
        "  \"\"\"Tests a PyTorch model for a single epoch.\n",
        "\n",
        "  Turns a target PyTorch model to \"eval\" mode and then performs\n",
        "  a forward pass on a testing dataset.\n",
        "\n",
        "  Args:\n",
        "    model: A PyTorch model to be tested.\n",
        "    dataloader: A DataLoader instance for the model to be tested on.\n",
        "    loss_fn: A PyTorch loss function to calculate loss on the test data.\n",
        "    device: A target device to compute on (e.g. \"cuda\" or \"cpu\").\n",
        "\n",
        "  Returns:\n",
        "    A tuple of testing loss and testing accuracy metrics.\n",
        "    In the form (test_loss, test_accuracy). For example:\n",
        "\n",
        "    (0.0223, 0.8985)\n",
        "  \"\"\"\n",
        "  model.eval()\n",
        "  test_loss, test_acc = 0, 0\n",
        "  with torch.inference_mode():\n",
        "    for batch, (X, y) in enumerate(data_loader):\n",
        "      X, y = X.to(device), y.to(device)\n",
        "      test_pred_logits = model(X)\n",
        "\n",
        "      loss = loss_fn(test_pred_logits, y)\n",
        "      test_loss += loss.item()\n",
        "\n",
        "      test_pred_labels = test_pred_logits.argmax(dim=1)\n",
        "      test_acc += (test_pred_labels == y).sum().item()/len(test_pred_labels)\n",
        "  test_loss /= len(data_loader)\n",
        "  test_acc /= len(data_loader)\n",
        "  return test_loss, test_acc\n",
        "\n",
        "def train(model: torch.nn.Module,\n",
        "               train_dataloader: torch.utils.data.DataLoader,\n",
        "               test_dataloader: torch.utils.data.DataLoader,\n",
        "               optimizer: torch.optim.Optimizer,\n",
        "               loss_fn: torch.nn.Module,\n",
        "               epochs: int,\n",
        "               device: torch.device)-> Dict[str, List]:\n",
        "  \"\"\"Trains and tests a PyTorch model.\n",
        "\n",
        "  Passes a target PyTorch models through train_step() and test_step()\n",
        "  functions for a number of epochs, training and testing the model\n",
        "  in the same epoch loop.\n",
        "\n",
        "  Calculates, prints and stores evaluation metrics throughout.\n",
        "\n",
        "  Args:\n",
        "    model: A PyTorch model to be trained and tested.\n",
        "    train_dataloader: A DataLoader instance for the model to be trained on.\n",
        "    test_dataloader: A DataLoader instance for the model to be tested on.\n",
        "    optimizer: A PyTorch optimizer to help minimize the loss function.\n",
        "    loss_fn: A PyTorch loss function to calculate loss on both datasets.\n",
        "    epochs: An integer indicating how many epochs to train for.\n",
        "    device: A target device to compute on (e.g. \"cuda\" or \"cpu\").\n",
        "\n",
        "  Returns:\n",
        "    A dictionary of training and testing loss as well as training and\n",
        "    testing accuracy metrics. Each metric has a value in a list for\n",
        "    each epoch.\n",
        "    In the form: {train_loss: [...],\n",
        "                  train_acc: [...],\n",
        "                  test_loss: [...],\n",
        "                  test_acc: [...]}\n",
        "    For example if training for epochs=2:\n",
        "                 {train_loss: [2.0616, 1.0537],\n",
        "                  train_acc: [0.3945, 0.3945],\n",
        "                  test_loss: [1.2641, 1.5706],\n",
        "                  test_acc: [0.3400, 0.2973]}\n",
        "  \"\"\"\n",
        "  results = {\"train_loss\": [],\n",
        "             \"train_acc\": [],\n",
        "             \"test_loss\": [],\n",
        "             \"test_acc\": []}\n",
        "  for epoch in tqdm(range(epochs)):\n",
        "    train_loss, train_acc = train_step_loop(model=model,\n",
        "                                            data_loader=train_dataloader,\n",
        "                                            loss_fn=loss_fn,\n",
        "                                            optimizer=optimizer,\n",
        "                                            device=device)\n",
        "    test_loss, test_acc = test_step_loop(model=model,\n",
        "                                        data_loader=test_dataloader,\n",
        "                                        loss_fn=loss_fn,\n",
        "                                         device=device)\n",
        "    print(f\"Epoch: {epoch+1} | \"\n",
        "          f\"train_loss: {train_loss:.4f} | \"\n",
        "          f\"train_acc: {train_acc:.4f} | \"\n",
        "          f\"test_loss: {test_loss:.4f} | \"\n",
        "          f\"test_acc: {test_acc:.4f}\")\n",
        "    get_tensor_val = lambda x: x.item() if isinstance(x, torch.Tensor) else x\n",
        "    results[\"train_loss\"].append(get_tensor_val(train_loss))\n",
        "    results[\"train_acc\"].append(get_tensor_val(train_acc))\n",
        "    results[\"test_loss\"].append(get_tensor_val(test_loss))\n",
        "    results[\"test_acc\"].append(get_tensor_val(test_acc))\n",
        "  return results"
      ],
      "metadata": {
        "colab": {
          "base_uri": "https://localhost:8080/"
        },
        "id": "Ko_dYcNxoH_G",
        "outputId": "9bc0c263-8445-4caf-d52e-f2062ce97023"
      },
      "execution_count": null,
      "outputs": [
        {
          "output_type": "stream",
          "name": "stdout",
          "text": [
            "Overwriting going_modular/engine.py\n"
          ]
        }
      ]
    },
    {
      "cell_type": "code",
      "source": [
        "from going_modular import engine\n",
        "engine"
      ],
      "metadata": {
        "id": "fw2F5DnHn-vd",
        "colab": {
          "base_uri": "https://localhost:8080/"
        },
        "outputId": "bd0157fd-7d2b-4943-82be-46005f31a2a9"
      },
      "execution_count": null,
      "outputs": [
        {
          "output_type": "execute_result",
          "data": {
            "text/plain": [
              "<module 'going_modular.engine' from '/content/going_modular/engine.py'>"
            ]
          },
          "metadata": {},
          "execution_count": 17
        }
      ]
    },
    {
      "cell_type": "markdown",
      "source": [],
      "metadata": {
        "id": "2DyjgO7tjVM0"
      }
    },
    {
      "cell_type": "markdown",
      "source": [
        "## 5.0 Create a function to save the model `utils.py`"
      ],
      "metadata": {
        "id": "2XQz2EqypSQ8"
      }
    },
    {
      "cell_type": "code",
      "source": [
        "%%writefile going_modular/utils.py\n",
        "\n",
        "import torch\n",
        "from pathlib import Path\n",
        "\n",
        "def save_model(model: torch.nn.Module,\n",
        "               target_dir: str,\n",
        "               model_name: str):\n",
        "  \"\"\"Saves a PyTorch model to a target directory.\n",
        "\n",
        "  Args:\n",
        "    model: A target PyTorch model to save.\n",
        "    target_dir: A directory for saving the model to.\n",
        "    model_name: A filename for the saved model. Should include\n",
        "      either \".pth\" or \".pt\" as the file extension.\n",
        "\n",
        "  Example usage:\n",
        "    save_model(model=model_0,\n",
        "               target_dir=\"models\",\n",
        "               model_name=\"05_going_modular_tingvgg_model.pth\")\n",
        "  \"\"\"\n",
        "  # Create target directory\n",
        "  target_dir_path = Path(target_dir)\n",
        "  target_dir_path.mkdir(parents=True,\n",
        "                        exist_ok=True)\n",
        "\n",
        "  assert model_name.endswith(\".pth\") or model_name.endswith(\".pt\"), \"model_name should end with '.pt' or '.pth'\"\n",
        "  model_save_path = target_dir_path / model_name\n",
        "\n",
        "  print(f\"[INFO] Saving model to: {model_save_path}\")\n",
        "  torch.save(obj=model.state_dict(),\n",
        "             f=model_save_path)"
      ],
      "metadata": {
        "colab": {
          "base_uri": "https://localhost:8080/"
        },
        "id": "y9EroTzxpZXU",
        "outputId": "f1109552-0d68-4484-8525-1cc55dee5c4c"
      },
      "execution_count": null,
      "outputs": [
        {
          "output_type": "stream",
          "name": "stdout",
          "text": [
            "Writing going_modular/utils.py\n"
          ]
        }
      ]
    },
    {
      "cell_type": "markdown",
      "source": [
        "## 6.0 Train, evaluate and save the model `train.py`"
      ],
      "metadata": {
        "id": "CQUBsSpZtrtz"
      }
    },
    {
      "cell_type": "code",
      "source": [
        "%%writefile going_modular/train.py\n",
        "\"\"\"\n",
        "Trains Python model for image classification using device-agnostic code.\n",
        "\"\"\"\n",
        "\n",
        "import os\n",
        "import torch\n",
        "import data_setup, engine, model_builder, utils\n",
        "from torchvision import transforms\n",
        "from timeit import default_timer as timer\n",
        "import argparse\n",
        "\n",
        "\n",
        "# SETUP HYPERPARAMETERS\n",
        "NUM_EPOCHS = 5\n",
        "BATCH_SIZE = 32\n",
        "HIDDEN_UNITS = 10\n",
        "LEARNING_RATE = 0.001\n",
        "NUM_UNITS = 16\n",
        "\n",
        "# SETUP DIRECTORIES\n",
        "train_dir_scripted = \"data_path/pizza_steak_sushi/train\"\n",
        "test_dir_scripted =  \"data_path/pizza_steak_sushi/test\"\n",
        "\n",
        "# SETUP TARGET DEVICE\n",
        "device = \"cuda\" if torch.cuda.is_available() else \"cpu\"\n",
        "\n",
        "# CREATE TRANSFORMS\n",
        "data_transform = transforms.Compose([transforms.Resize(size=(64, 64)),\n",
        "                                     transforms.ToTensor()])\n",
        "\n",
        "# CREATE DATALOADERS USING data_setup.py\n",
        "train_dataloader_scripted, test_dataloader_scripted, class_names_scripted = data_setup.create_dataloaders(\n",
        "    train_dir = train_dir_scripted,\n",
        "    test_dir = test_dir_scripted,\n",
        "    transform = data_transform,\n",
        "    batch_size = BATCH_SIZE)\n",
        "\n",
        "# CREATE MODEL USING model_builder.py\n",
        "model_saved = model_builder.Model_Builder_TinyVGG(input_shape=3,\n",
        "                                             hidden_units=HIDDEN_UNITS,\n",
        "                                             output_shape=len(class_names_scripted),\n",
        "                                             num_of_units=NUM_UNITS).to(device)\n",
        "\n",
        "# SETUP LOSS_FN AND OPTIMIZER\n",
        "loss_fn_cross_entropy = torch.nn.CrossEntropyLoss()\n",
        "optimizer_adam = torch.optim.Adam(model_saved.parameters(), lr=LEARNING_RATE)\n",
        "\n",
        "# START TRAINING USING engine.py\n",
        "star_time = timer()\n",
        "engine.train(model=model_saved,\n",
        "             train_dataloader = train_dataloader_scripted,\n",
        "             test_dataloader = test_dataloader_scripted,\n",
        "             loss_fn = loss_fn_cross_entropy,\n",
        "             optimizer = optimizer_adam,\n",
        "             epochs = NUM_EPOCHS,\n",
        "             device = device)\n",
        "end_time = timer()\n",
        "print(f\"[INFO] Total training time: {end_time-star_time:.3f} seconds\")\n",
        "\n",
        "# SAVE MODEL USING utils.py\n",
        "utils.save_model(model = model_saved,\n",
        "                 target_dir = \"models\",\n",
        "                 model_name = \"05_going_modular_script_mode_tinyvgg_model.pth\")"
      ],
      "metadata": {
        "colab": {
          "base_uri": "https://localhost:8080/"
        },
        "id": "g7wbjQVatrAi",
        "outputId": "abffd5a7-c315-4f0b-918e-a5ce14da6402"
      },
      "execution_count": null,
      "outputs": [
        {
          "output_type": "stream",
          "name": "stdout",
          "text": [
            "Overwriting going_modular/train.py\n"
          ]
        }
      ]
    },
    {
      "cell_type": "code",
      "source": [
        "!python going_modular/train.py"
      ],
      "metadata": {
        "colab": {
          "base_uri": "https://localhost:8080/"
        },
        "id": "CEmnKvCX7fRi",
        "outputId": "1ceb0ee8-cb18-46c6-947c-e8bff05d07be"
      },
      "execution_count": null,
      "outputs": [
        {
          "output_type": "stream",
          "name": "stdout",
          "text": [
            "  0% 0/5 [00:00<?, ?it/s]Epoch: 1 | train_loss: 1.1042 | train_acc: 0.3984 | test_loss: 1.1132 | test_acc: 0.2604\n",
            " 20% 1/5 [00:02<00:08,  2.23s/it]Epoch: 2 | train_loss: 1.1127 | train_acc: 0.3047 | test_loss: 1.1189 | test_acc: 0.2604\n",
            " 40% 2/5 [00:05<00:07,  2.58s/it]Epoch: 3 | train_loss: 1.0854 | train_acc: 0.4375 | test_loss: 1.0639 | test_acc: 0.5417\n",
            " 60% 3/5 [00:07<00:05,  2.71s/it]Epoch: 4 | train_loss: 1.0953 | train_acc: 0.2812 | test_loss: 1.0377 | test_acc: 0.5521\n",
            " 80% 4/5 [00:09<00:02,  2.44s/it]Epoch: 5 | train_loss: 1.0860 | train_acc: 0.3867 | test_loss: 1.0550 | test_acc: 0.5322\n",
            "100% 5/5 [00:12<00:00,  2.43s/it]\n",
            "[INFO] Total training time: 12.154 seconds\n",
            "[INFO] Saving model to: models/05_going_modular_script_mode_tinyvgg_model.pth\n"
          ]
        }
      ]
    }
  ]
}