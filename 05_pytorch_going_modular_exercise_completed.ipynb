{
  "nbformat": 4,
  "nbformat_minor": 0,
  "metadata": {
    "colab": {
      "provenance": [],
      "include_colab_link": true
    },
    "kernelspec": {
      "name": "python3",
      "display_name": "Python 3"
    },
    "language_info": {
      "name": "python"
    }
  },
  "cells": [
    {
      "cell_type": "markdown",
      "metadata": {
        "id": "view-in-github",
        "colab_type": "text"
      },
      "source": [
        "<a href=\"https://colab.research.google.com/github/UMB200/pytorch_projects/blob/main/05_pytorch_going_modular_exercise_completed.ipynb\" target=\"_parent\"><img src=\"https://colab.research.google.com/assets/colab-badge.svg\" alt=\"Open In Colab\"/></a>"
      ]
    },
    {
      "cell_type": "markdown",
      "source": [
        "# 05. PyTorch Going Modular Exercises\n",
        "\n",
        "Welcome to the 05. PyTorch Going Modular exercise template notebook.\n",
        "\n",
        "There are several questions in this notebook and it's your goal to answer them by writing Python and PyTorch code.\n",
        "\n",
        "> **Note:** There may be more than one solution to each of the exercises, don't worry too much about the *exact* right answer. Try to write some code that works first and then improve it if you can.\n",
        "\n",
        "## Resources and solutions\n",
        "\n",
        "* These exercises/solutions are based on [section 05. PyTorch Going Modular](https://www.learnpytorch.io/05_pytorch_going_modular/) of the Learn PyTorch for Deep Learning course by Zero to Mastery.\n",
        "\n",
        "**Solutions:**\n",
        "\n",
        "Try to complete the code below *before* looking at these.\n",
        "\n",
        "* See a live [walkthrough of the solutions (errors and all) on YouTube](https://youtu.be/ijgFhMK3pp4).\n",
        "* See an example [solutions notebook for these exercises on GitHub](https://github.com/mrdbourke/pytorch-deep-learning/blob/main/extras/solutions/05_pytorch_going_modular_exercise_solutions.ipynb)."
      ],
      "metadata": {
        "id": "zNqPNlYylluR"
      }
    },
    {
      "cell_type": "markdown",
      "source": [
        "## 1.0 Turn the code to get the data (from section 1. Get Data) into a Python script, such as `get_data.py`.\n",
        "\n",
        "* When you run the script using `python get_data.py` it should check if the data already exists and skip downloading if it does.\n",
        "* If the data download is successful, you should be able to access the `pizza_steak_sushi` images from the `data` directory."
      ],
      "metadata": {
        "id": "bicbWSrPmfTU"
      }
    },
    {
      "cell_type": "code",
      "source": [
        "%%writefile get_data.py\n",
        "\"\"\"\n",
        "Downloads data from source and saves to a target directory.\n",
        "\"\"\"\n",
        "\n",
        "import os\n",
        "import zipfile\n",
        "from pathlib import Path\n",
        "import requests\n",
        "from torch.utils.data import DataLoader\n",
        "from torchvision import datasets, transforms\n",
        "\n",
        "# Setup path to data folder\n",
        "data_path = Path(\"data_path/\")\n",
        "img_path = data_path / \"pizza_steak_sushi\"\n",
        "\n",
        "# If the image folder doesn't exists, download it and prepare it\n",
        "if img_path.is_dir():\n",
        "  print(f\"{img_path} directory already exists\")\n",
        "else:\n",
        "  print(f\"Creating directory {img_path}\")\n",
        "  img_path.mkdir(parents=True, exist_ok=True)\n",
        "# Download data\n",
        "url_to_download = \"https://github.com/mrdbourke/pytorch-deep-learning/raw/main/data/pizza_steak_sushi.zip\"\n",
        "file_path = data_path / \"pizza_steak_sushi.zip\"\n",
        "with open(file_path, \"wb\") as f:\n",
        "  print(f\"Downloading data\")\n",
        "  f.write(requests.get(url_to_download).content)\n",
        "#Unzip data\n",
        "with zipfile.ZipFile(file_path, \"r\") as zip_ref:\n",
        "  print(f\"Unzipping: {file_path}\")\n",
        "  zip_ref.extractall(img_path)\n",
        "\n",
        "# Remove zip file\n",
        "os.remove(file_path)"
      ],
      "metadata": {
        "id": "r0BCn1XIYZ8c",
        "colab": {
          "base_uri": "https://localhost:8080/"
        },
        "outputId": "cb167a43-63b2-4dd2-bb5f-9ab339f85097"
      },
      "execution_count": 48,
      "outputs": [
        {
          "output_type": "stream",
          "name": "stdout",
          "text": [
            "Overwriting get_data.py\n"
          ]
        }
      ]
    },
    {
      "cell_type": "code",
      "source": [
        "# Example running of get_data.py\n",
        "!python get_data.py"
      ],
      "metadata": {
        "id": "_LrUOIC-YOP9",
        "colab": {
          "base_uri": "https://localhost:8080/"
        },
        "outputId": "e2396d33-807a-4fc3-dff7-8a103ae3fc35"
      },
      "execution_count": 49,
      "outputs": [
        {
          "output_type": "stream",
          "name": "stdout",
          "text": [
            "data_path/pizza_steak_sushi directory already exists\n",
            "Downloading data\n",
            "Unzipping: data_path/pizza_steak_sushi.zip\n"
          ]
        }
      ]
    },
    {
      "cell_type": "markdown",
      "source": [
        "## 2.0 Use [Python's `argparse` module](https://docs.python.org/3/library/argparse.html) to be able to send the `train.py` custom hyperparameter values for training procedures.\n",
        "* Add an argument flag for using a different:\n",
        "  * Training/testing directory\n",
        "  * Learning rate\n",
        "  * Batch size\n",
        "  * Number of epochs to train for\n",
        "  * Number of hidden units in the TinyVGG model\n",
        "    * Keep the default values for each of the above arguments as what they already are (as in notebook 05).\n",
        "* For example, you should be able to run something similar to the following line to train a TinyVGG model with a learning rate of 0.003 and a batch size of 64 for 20 epochs: `python train.py --learning_rate 0.003 batch_size 64 num_epochs 20`.\n",
        "* **Note:** Since `train.py` leverages the other scripts we created in section 05, such as, `model_builder.py`, `utils.py` and `engine.py`, you'll have to make sure they're available to use too. You can find these in the [`going_modular` folder on the course GitHub](https://github.com/mrdbourke/pytorch-deep-learning/tree/main/going_modular/going_modular)."
      ],
      "metadata": {
        "id": "zjyn7LU3mvkR"
      }
    },
    {
      "cell_type": "code",
      "source": [
        "%%writefile data_setup.py\n",
        "\"\"\"\n",
        "Contains functionality for creating PyTorch DataLoaders for\n",
        "image classification data.\n",
        "\"\"\"\n",
        "import os\n",
        "from torchvision import datasets, transforms\n",
        "from torch.utils.data import DataLoader\n",
        "\n",
        "NUM_WORKERS = os.cpu_count()\n",
        "\n",
        "def create_dataloaders(\n",
        "    train_dir: str,\n",
        "    test_dir: str,\n",
        "    transform: transforms.Compose,\n",
        "    batch_size: int,\n",
        "    num_workers: int=NUM_WORKERS\n",
        "):\n",
        "  \"\"\"Creates training and testing DataLoaders.\n",
        "\n",
        "  Takes in a training directory and testing directory path and turns\n",
        "  them into PyTorch Datasets and then into PyTorch DataLoaders.\n",
        "\n",
        "  Args:\n",
        "    train_dir: Path to training directory.\n",
        "    test_dir: Path to testing directory.\n",
        "    transform: torchvision transforms to perform on training and testing data.\n",
        "    batch_size: Number of samples per batch in each of the DataLoaders.\n",
        "    num_workers: An integer for number of workers per DataLoader.\n",
        "\n",
        "  Returns:\n",
        "    A tuple of (train_dataloader, test_dataloader, class_names).\n",
        "    Where class_names is a list of the target classes.\n",
        "    Example usage:\n",
        "      train_dataloader, test_dataloader, class_names = \\\n",
        "        = create_dataloaders(train_dir=path/to/train_dir,\n",
        "                             test_dir=path/to/test_dir,\n",
        "                             transform=some_transform,\n",
        "                             batch_size=32,\n",
        "                             num_workers=4)\n",
        "  \"\"\"\n",
        "\n",
        "  # Use ImageFolder to create dataset(s)\n",
        "  train_dataset = datasets.ImageFolder(train_dir, transform=transform)\n",
        "  test_dataset = datasets.ImageFolder(test_dir,transform=transform)\n",
        "\n",
        "  # Get class names\n",
        "  class_names = train_dataset.classes\n",
        "\n",
        "  # Turn datasets to DataLoaders\n",
        "  train_dataloader = DataLoader(train_dataset,\n",
        "                                batch_size=batch_size,\n",
        "                                num_workers=num_workers,\n",
        "                                shuffle=True,\n",
        "                                pin_memory=True)\n",
        "  test_dataloader = DataLoader(dataset=test_dataset,\n",
        "                               batch_size=batch_size,\n",
        "                               num_workers=num_workers,\n",
        "                               shuffle=False,\n",
        "                               pin_memory=True)\n",
        "\n",
        "  return train_dataloader, test_dataloader, class_names"
      ],
      "metadata": {
        "colab": {
          "base_uri": "https://localhost:8080/"
        },
        "id": "5Vr3gcvRmFQr",
        "outputId": "788065ac-981f-41de-e9ae-a449fcecfc53"
      },
      "execution_count": 50,
      "outputs": [
        {
          "output_type": "stream",
          "name": "stdout",
          "text": [
            "Overwriting data_setup.py\n"
          ]
        }
      ]
    },
    {
      "cell_type": "code",
      "source": [
        "%%writefile engine.py\n",
        "\n",
        "import torch\n",
        "from tqdm.auto import tqdm\n",
        "from typing import Dict, List, Tuple\n",
        "from torch import nn\n",
        "\n",
        "def train_step_loop(model: torch.nn.Module,\n",
        "                    data_loader: torch.utils.data.DataLoader,\n",
        "                    loss_fn: torch.nn.Module,\n",
        "                    optimizer: torch.optim.Optimizer,\n",
        "                    device: torch.device) -> Tuple[float, float]:\n",
        "  \"\"\"Trains a PyTorch model for a single epoch.\n",
        "\n",
        "  Turns a target PyTorch model to training mode and then\n",
        "  runs through all of the required training steps (forward\n",
        "  pass, loss calculation, optimizer step).\n",
        "\n",
        "  Args:\n",
        "    model: A PyTorch model to be trained.\n",
        "    dataloader: A DataLoader instance for the model to be trained on.\n",
        "    loss_fn: A PyTorch loss function to minimize.\n",
        "    optimizer: A PyTorch optimizer to help minimize the loss function.\n",
        "    device: A target device to compute on (e.g. \"cuda\" or \"cpu\").\n",
        "\n",
        "  Returns:\n",
        "    A tuple of training loss and training accuracy metrics.\n",
        "    In the form (train_loss, train_accuracy). For example:\n",
        "\n",
        "    (0.1112, 0.8743)\n",
        "  \"\"\"\n",
        "  model.train()\n",
        "  train_loss, train_acc = 0, 0\n",
        "\n",
        "  for batch, (X, y) in enumerate(data_loader):\n",
        "    X, y = X.to(device), y.to(device)\n",
        "    y_pred = model(X)\n",
        "    loss = loss_fn(y_pred, y)\n",
        "    train_loss += loss.item()\n",
        "    optimizer.zero_grad()\n",
        "    loss.backward()\n",
        "    optimizer.step()\n",
        "    y_pred_class = torch.argmax(torch.softmax(y_pred, dim=1), dim=1)\n",
        "    train_acc += (y_pred_class == y).sum().item()/len(y_pred)\n",
        "  train_loss /= len(data_loader)\n",
        "  train_acc /= len(data_loader)\n",
        "  return train_loss, train_acc\n",
        "\n",
        "def test_step_loop(model: torch.nn.Module,\n",
        "                    data_loader: torch.utils.data.DataLoader,\n",
        "                   loss_fn: torch.nn.Module,\n",
        "                   device: torch.device) -> Tuple[float, float]:\n",
        "  \"\"\"Tests a PyTorch model for a single epoch.\n",
        "\n",
        "  Turns a target PyTorch model to \"eval\" mode and then performs\n",
        "  a forward pass on a testing dataset.\n",
        "\n",
        "  Args:\n",
        "    model: A PyTorch model to be tested.\n",
        "    dataloader: A DataLoader instance for the model to be tested on.\n",
        "    loss_fn: A PyTorch loss function to calculate loss on the test data.\n",
        "    device: A target device to compute on (e.g. \"cuda\" or \"cpu\").\n",
        "\n",
        "  Returns:\n",
        "    A tuple of testing loss and testing accuracy metrics.\n",
        "    In the form (test_loss, test_accuracy). For example:\n",
        "\n",
        "    (0.0223, 0.8985)\n",
        "  \"\"\"\n",
        "  model.eval()\n",
        "  test_loss, test_acc = 0, 0\n",
        "  with torch.inference_mode():\n",
        "    for batch, (X, y) in enumerate(data_loader):\n",
        "      X, y = X.to(device), y.to(device)\n",
        "      test_pred_logits = model(X)\n",
        "\n",
        "      loss = loss_fn(test_pred_logits, y)\n",
        "      test_loss += loss.item()\n",
        "\n",
        "      test_pred_labels = test_pred_logits.argmax(dim=1)\n",
        "      test_acc += (test_pred_labels == y).sum().item()/len(test_pred_labels)\n",
        "  test_loss /= len(data_loader)\n",
        "  test_acc /= len(data_loader)\n",
        "  return test_loss, test_acc\n",
        "\n",
        "def train(model: torch.nn.Module,\n",
        "               train_dataloader: torch.utils.data.DataLoader,\n",
        "               test_dataloader: torch.utils.data.DataLoader,\n",
        "               optimizer: torch.optim.Optimizer,\n",
        "               loss_fn: torch.nn.Module,\n",
        "               epochs: int,\n",
        "               device: torch.device)-> Dict[str, List]:\n",
        "  \"\"\"Trains and tests a PyTorch model.\n",
        "\n",
        "  Passes a target PyTorch models through train_step() and test_step()\n",
        "  functions for a number of epochs, training and testing the model\n",
        "  in the same epoch loop.\n",
        "\n",
        "  Calculates, prints and stores evaluation metrics throughout.\n",
        "\n",
        "  Args:\n",
        "    model: A PyTorch model to be trained and tested.\n",
        "    train_dataloader: A DataLoader instance for the model to be trained on.\n",
        "    test_dataloader: A DataLoader instance for the model to be tested on.\n",
        "    optimizer: A PyTorch optimizer to help minimize the loss function.\n",
        "    loss_fn: A PyTorch loss function to calculate loss on both datasets.\n",
        "    epochs: An integer indicating how many epochs to train for.\n",
        "    device: A target device to compute on (e.g. \"cuda\" or \"cpu\").\n",
        "\n",
        "  Returns:\n",
        "    A dictionary of training and testing loss as well as training and\n",
        "    testing accuracy metrics. Each metric has a value in a list for\n",
        "    each epoch.\n",
        "    In the form: {train_loss: [...],\n",
        "                  train_acc: [...],\n",
        "                  test_loss: [...],\n",
        "                  test_acc: [...]}\n",
        "    For example if training for epochs=2:\n",
        "                 {train_loss: [2.0616, 1.0537],\n",
        "                  train_acc: [0.3945, 0.3945],\n",
        "                  test_loss: [1.2641, 1.5706],\n",
        "                  test_acc: [0.3400, 0.2973]}\n",
        "  \"\"\"\n",
        "  results = {\"train_loss\": [],\n",
        "             \"train_acc\": [],\n",
        "             \"test_loss\": [],\n",
        "             \"test_acc\": []}\n",
        "  for epoch in tqdm(range(epochs)):\n",
        "    train_loss, train_acc = train_step_loop(model=model,\n",
        "                                            data_loader=train_dataloader,\n",
        "                                            loss_fn=loss_fn,\n",
        "                                            optimizer=optimizer,\n",
        "                                            device=device)\n",
        "    test_loss, test_acc = test_step_loop(model=model,\n",
        "                                        data_loader=test_dataloader,\n",
        "                                        loss_fn=loss_fn,\n",
        "                                         device=device)\n",
        "    print(f\"Epoch: {epoch+1} | \"\n",
        "          f\"train_loss: {train_loss:.4f} | \"\n",
        "          f\"train_acc: {train_acc:.4f} | \"\n",
        "          f\"test_loss: {test_loss:.4f} | \"\n",
        "          f\"test_acc: {test_acc:.4f}\")\n",
        "    get_tensor_val = lambda x: x.item() if isinstance(x, torch.Tensor) else x\n",
        "    results[\"train_loss\"].append(get_tensor_val(train_loss))\n",
        "    results[\"train_acc\"].append(get_tensor_val(train_acc))\n",
        "    results[\"test_loss\"].append(get_tensor_val(test_loss))\n",
        "    results[\"test_acc\"].append(get_tensor_val(test_acc))\n",
        "  return results"
      ],
      "metadata": {
        "colab": {
          "base_uri": "https://localhost:8080/"
        },
        "id": "uD6qfA3jmblQ",
        "outputId": "f6ee7ae7-e33f-439d-a8d7-355395b33462"
      },
      "execution_count": 51,
      "outputs": [
        {
          "output_type": "stream",
          "name": "stdout",
          "text": [
            "Overwriting engine.py\n"
          ]
        }
      ]
    },
    {
      "cell_type": "code",
      "source": [
        "%%writefile model_builder.py\n",
        "\"\"\"\n",
        "    Model architecture copying TinyVGG from:\n",
        "    https://poloclub.github.io/cnn-explainer/\n",
        "    Contains PyTorch model code to instantiate a TinyVGG model.\n",
        "\"\"\"\n",
        "\n",
        "import torch\n",
        "from torch import nn\n",
        "\n",
        "class Model_Builder_TinyVGG(nn.Module):\n",
        "  \"\"\"Creates the TinyVGG architecture.\n",
        "\n",
        "    Replicates the TinyVGG architecture from the CNN explainer website in PyTorch.\n",
        "    See the original architecture here: https://poloclub.github.io/cnn-explainer/\n",
        "\n",
        "    Args:\n",
        "      input_shape: An integer indicating number of input channels.\n",
        "      hidden_units: An integer indicating number of hidden units between layers.\n",
        "      output_shape: An integer indicating number of output units.\n",
        "  \"\"\"\n",
        "\n",
        "  def __init__(self,\n",
        "               input_shape: int,\n",
        "               hidden_units: int,\n",
        "               output_shape: int) -> None:\n",
        "               super().__init__()\n",
        "               self.cnn_block_1 = nn.Sequential(\n",
        "                   nn.Conv2d(in_channels=input_shape,\n",
        "                             out_channels=hidden_units,\n",
        "                             kernel_size=3,\n",
        "                             stride=1,\n",
        "                             padding=0),\n",
        "                   nn.ReLU(),\n",
        "                   nn.Conv2d(in_channels=hidden_units,\n",
        "                             out_channels=hidden_units,\n",
        "                             kernel_size=3,\n",
        "                             stride=1,\n",
        "                             padding=0),\n",
        "                   nn.ReLU(),\n",
        "                   nn.MaxPool2d(kernel_size=2,\n",
        "                                stride=2)\n",
        "               )\n",
        "               self.cnn_block_2 = nn.Sequential(\n",
        "                   nn.Conv2d(hidden_units, hidden_units, 3, 1, 0),\n",
        "                   nn.ReLU(),\n",
        "                   nn.Conv2d(hidden_units, hidden_units, 3, 1, 0),\n",
        "                   nn.ReLU(),\n",
        "                   nn.MaxPool2d(2)\n",
        "               )\n",
        "               self.classifier = nn.Sequential(\n",
        "                   nn.Flatten(),\n",
        "                   nn.Linear(in_features=hidden_units*13*13,\n",
        "                             out_features=output_shape)\n",
        "               )\n",
        "  def forward(self, x: torch.Tensor):\n",
        "    return self.classifier(self.cnn_block_2(self.cnn_block_1(x)))"
      ],
      "metadata": {
        "colab": {
          "base_uri": "https://localhost:8080/"
        },
        "id": "ka-xye5jmyoJ",
        "outputId": "91cc280a-99fc-4fda-e359-4b8c14bd7e54"
      },
      "execution_count": 58,
      "outputs": [
        {
          "output_type": "stream",
          "name": "stdout",
          "text": [
            "Overwriting model_builder.py\n"
          ]
        }
      ]
    },
    {
      "cell_type": "code",
      "source": [
        "%%writefile utils.py\n",
        "\n",
        "import torch\n",
        "from pathlib import Path\n",
        "\n",
        "def save_model(model: torch.nn.Module,\n",
        "               target_dir: str,\n",
        "               model_name: str):\n",
        "  \"\"\"Saves a PyTorch model to a target directory.\n",
        "\n",
        "  Args:\n",
        "    model: A target PyTorch model to save.\n",
        "    target_dir: A directory for saving the model to.\n",
        "    model_name: A filename for the saved model. Should include\n",
        "      either \".pth\" or \".pt\" as the file extension.\n",
        "\n",
        "  Example usage:\n",
        "    save_model(model=model_0,\n",
        "               target_dir=\"models\",\n",
        "               model_name=\"05_going_modular_tingvgg_model.pth\")\n",
        "  \"\"\"\n",
        "  # Create target directory\n",
        "  target_dir_path = Path(target_dir)\n",
        "  target_dir_path.mkdir(parents=True,\n",
        "                        exist_ok=True)\n",
        "\n",
        "  assert model_name.endswith(\".pth\") or model_name.endswith(\".pt\"), \"model_name should end with '.pt' or '.pth'\"\n",
        "  model_save_path = target_dir_path / model_name\n",
        "\n",
        "  print(f\"[INFO] Saving model to: {model_save_path}\")\n",
        "  torch.save(obj=model.state_dict(),\n",
        "             f=model_save_path)"
      ],
      "metadata": {
        "colab": {
          "base_uri": "https://localhost:8080/"
        },
        "id": "OGtbQQs6nEPM",
        "outputId": "55e0f1e6-e242-4683-e3f7-c8a1004de3c8"
      },
      "execution_count": 59,
      "outputs": [
        {
          "output_type": "stream",
          "name": "stdout",
          "text": [
            "Overwriting utils.py\n"
          ]
        }
      ]
    },
    {
      "cell_type": "code",
      "source": [
        "%%writefile train.py\n",
        "\"\"\"\n",
        "Trains Python model for image classification using device-agnostic code.\n",
        "\"\"\"\n",
        "\n",
        "import os\n",
        "import torch\n",
        "import data_setup, engine, model_builder, utils\n",
        "from torchvision import transforms\n",
        "from timeit import default_timer as timer\n",
        "import argparse\n",
        "\n",
        "parser = argparse.ArgumentParser(description=\"Getting hyperparameters\")\n",
        "\n",
        "parser.add_argument(\"--num_epochs\",\n",
        "                    default=5,\n",
        "                    type=int,\n",
        "                    help=\"number of epochs to train for\")\n",
        "parser.add_argument(\"--batch_size\",\n",
        "                    default=32,\n",
        "                    type=int,\n",
        "                    help=\"number of samples per batch\")\n",
        "parser.add_argument(\"--hidden_units\",\n",
        "                    default=10,\n",
        "                    type=int,\n",
        "                    help=\"number of hidden units in hidden layers\")\n",
        "parser.add_argument(\"--learning_rate\",\n",
        "                    default=0.001,\n",
        "                    type=float,\n",
        "                    help=\"learning rate to use for model\")\n",
        "parser.add_argument(\"--test_dir\",\n",
        "                    default=\"data_path/pizza_steak_sushi/test\",\n",
        "                    type=str,\n",
        "                    help=\"directory of test data\")\n",
        "parser.add_argument(\"--train_dir\",\n",
        "                    default=\"data_path/pizza_steak_sushi/train\",\n",
        "                    type=str,\n",
        "                    help=\"directory of train data\")\n",
        "\n",
        "args = parser.parse_args()\n",
        "\n",
        "# SETUP HYPERPARAMETERS\n",
        "NUM_EPOCHS = args.num_epochs\n",
        "BATCH_SIZE = args.batch_size\n",
        "HIDDEN_UNITS = args.hidden_units\n",
        "LEARNING_RATE = args.learning_rate\n",
        "\n",
        "\n",
        "# SETUP DIRECTORIES\n",
        "train_dir_scripted = \"data_path/pizza_steak_sushi/train\"\n",
        "test_dir_scripted =  \"data_path/pizza_steak_sushi/test\"\n",
        "\n",
        "# SETUP TARGET DEVICE\n",
        "device = \"cuda\" if torch.cuda.is_available() else \"cpu\"\n",
        "\n",
        "# CREATE TRANSFORMS\n",
        "data_transform = transforms.Compose([transforms.Resize(size=(64, 64)),\n",
        "                                     transforms.ToTensor()])\n",
        "\n",
        "# CREATE DATALOADERS USING data_setup.py\n",
        "train_dataloader_scripted, test_dataloader_scripted, class_names_scripted = data_setup.create_dataloaders(\n",
        "    train_dir = train_dir_scripted,\n",
        "    test_dir = test_dir_scripted,\n",
        "    transform = data_transform,\n",
        "    batch_size = BATCH_SIZE)\n",
        "\n",
        "# CREATE MODEL USING model_builder.py\n",
        "model_saved = model_builder.Model_Builder_TinyVGG(input_shape=3,\n",
        "                                             hidden_units=HIDDEN_UNITS,\n",
        "                                             output_shape=len(class_names_scripted)).to(device)\n",
        "\n",
        "# SETUP LOSS_FN AND OPTIMIZER\n",
        "loss_fn_cross_entropy = torch.nn.CrossEntropyLoss()\n",
        "optimizer_adam = torch.optim.Adam(model_saved.parameters(), lr=LEARNING_RATE)\n",
        "\n",
        "# START TRAINING USING engine.py\n",
        "star_time = timer()\n",
        "engine.train(model=model_saved,\n",
        "             train_dataloader = train_dataloader_scripted,\n",
        "             test_dataloader = test_dataloader_scripted,\n",
        "             loss_fn = loss_fn_cross_entropy,\n",
        "             optimizer = optimizer_adam,\n",
        "             epochs = NUM_EPOCHS,\n",
        "             device = device)\n",
        "end_time = timer()\n",
        "print(f\"[INFO] Total training time: {end_time-star_time:.3f} seconds\")\n",
        "\n",
        "# SAVE MODEL USING utils.py\n",
        "utils.save_model(model = model_saved,\n",
        "                 target_dir = \"models\",\n",
        "                 model_name = \"05_going_modular_script_mode_tinyvgg_model.pth\")"
      ],
      "metadata": {
        "colab": {
          "base_uri": "https://localhost:8080/"
        },
        "id": "d-101UrTnJGH",
        "outputId": "90acc3d7-9801-4b3e-e510-3162ae9df72a"
      },
      "execution_count": 54,
      "outputs": [
        {
          "output_type": "stream",
          "name": "stdout",
          "text": [
            "Overwriting train.py\n"
          ]
        }
      ]
    },
    {
      "cell_type": "code",
      "source": [
        "# Example running of train.py\n",
        "!python train.py --num_epochs 5 --batch_size 128 --hidden_units 128 --learning_rate 0.0003"
      ],
      "metadata": {
        "id": "LzaJl39lC40N",
        "colab": {
          "base_uri": "https://localhost:8080/"
        },
        "outputId": "98288f7b-1ce8-4bab-cf5e-f79f131ea65c"
      },
      "execution_count": 60,
      "outputs": [
        {
          "output_type": "stream",
          "name": "stdout",
          "text": [
            "  0% 0/5 [00:00<?, ?it/s]Epoch: 1 | train_loss: 1.0983 | train_acc: 0.3187 | test_loss: 1.0910 | test_acc: 0.3333\n",
            " 20% 1/5 [00:30<02:03, 30.89s/it]Epoch: 2 | train_loss: 1.0860 | train_acc: 0.3768 | test_loss: 1.0878 | test_acc: 0.3467\n",
            " 40% 2/5 [01:02<01:33, 31.20s/it]Epoch: 3 | train_loss: 1.0631 | train_acc: 0.3935 | test_loss: 1.0459 | test_acc: 0.4667\n",
            " 60% 3/5 [01:34<01:03, 31.54s/it]Epoch: 4 | train_loss: 1.0084 | train_acc: 0.5790 | test_loss: 1.0107 | test_acc: 0.4667\n",
            " 80% 4/5 [02:06<00:31, 31.90s/it]Epoch: 5 | train_loss: 0.9597 | train_acc: 0.5445 | test_loss: 1.0513 | test_acc: 0.4133\n",
            "100% 5/5 [02:38<00:00, 31.76s/it]\n",
            "[INFO] Total training time: 158.820 seconds\n",
            "[INFO] Saving model to: models/05_going_modular_script_mode_tinyvgg_model.pth\n"
          ]
        }
      ]
    },
    {
      "cell_type": "markdown",
      "source": [
        "## 3. Create a Python script to predict (such as `predict.py`) on a target image given a file path with a saved model.\n",
        "\n",
        "* For example, you should be able to run the command `python predict.py some_image.jpeg` and have a trained PyTorch model predict on the image and return its prediction.\n",
        "* To see example prediction code, check out the [predicting on a custom image section in notebook 04](https://www.learnpytorch.io/04_pytorch_custom_datasets/#113-putting-custom-image-prediction-together-building-a-function).\n",
        "* You may also have to write code to load in a trained model."
      ],
      "metadata": {
        "id": "P2g6EEYvm-46"
      }
    },
    {
      "cell_type": "code",
      "source": [
        "%%writefile predict.py\n",
        "\n",
        "import torch\n",
        "import torchvision\n",
        "import argparse\n",
        "import model_builder\n",
        "\n",
        "# Create a parser\n",
        "parser = argparse.ArgumentParser()\n",
        "\n",
        "# Get an image path\n",
        "parser.add_argument(\"--image\",\n",
        "                    help=\"target image filepath to predict on\")\n",
        "# Get model path\n",
        "parser.add_argument(\"--model_path\",\n",
        "                    default=\"models/05_going_modular_script_mode_tinyvgg_model.pth\",\n",
        "                    type=str,\n",
        "                    help=\"target model to use for prediction filepath\")\n",
        "\n",
        "args = parser.parse_args()\n",
        "\n",
        "# Setup class names\n",
        "class_names = [\"pizza\", \"steak\", \"sushi\"]\n",
        "\n",
        "# Setup device\n",
        "device = \"cuda\" if torch.cuda.is_available() else \"cpu\"\n",
        "\n",
        "# image path\n",
        "IMG_PATH = args.image\n",
        "print(f\"[INFO] Predicting on {IMG_PATH}\")\n",
        "\n",
        "# Loading in the model\n",
        "def load_model(model_path=args.model_path):\n",
        "  model = model_builder.Model_Builder_TinyVGG(input_shape=3,\n",
        "                                             hidden_units=128,\n",
        "                                             output_shape=3).to(device)\n",
        "  print(f\"[INFO] Loading in model from: {model_path}\")\n",
        "  model.load_state_dict(torch.load(model_path))\n",
        "  return model\n",
        "\n",
        "# Load in model and predict image\n",
        "def predict_image(image_path=IMG_PATH,\n",
        "                      model_path=args.model_path):\n",
        "  # Load in image\n",
        "  image = torchvision.io.read_image(str(IMG_PATH)).type(torch.float32)\n",
        "  model = load_model(model_path)\n",
        "\n",
        "  # Process image to be the same as in model\n",
        "  image = image / 255.\n",
        "  transform = torchvision.transforms.Resize(size=(64, 64))\n",
        "  image = transform(image)\n",
        "\n",
        "  # Predict the image\n",
        "  model.eval()\n",
        "  with torch.inference_mode():\n",
        "    image = image.to(device)\n",
        "    pred_logits = model(image.unsqueeze(dim=0))\n",
        "    pred_probs = torch.softmax(pred_logits, dim=1)\n",
        "    pred_labels = torch.argmax(pred_probs, dim=1)\n",
        "    pred_labels_class = class_names[pred_labels]\n",
        "  print(f\"[INFO] Pred class: {pred_labels_class}, Pred prob: {pred_probs.max():.3f}\")\n",
        "\n",
        "if __name__ == \"__main__\":\n",
        "  predict_image()"
      ],
      "metadata": {
        "id": "HU7W6VZfYawP",
        "colab": {
          "base_uri": "https://localhost:8080/"
        },
        "outputId": "b1069494-be46-448a-fc35-3f61650ba0fd"
      },
      "execution_count": 63,
      "outputs": [
        {
          "output_type": "stream",
          "name": "stdout",
          "text": [
            "Overwriting predict.py\n"
          ]
        }
      ]
    },
    {
      "cell_type": "code",
      "source": [
        "# Example running of predict.py\n",
        "!python predict.py --image data_path/pizza_steak_sushi/test/sushi/175783.jpg"
      ],
      "metadata": {
        "id": "Zcvw9sitIn6r",
        "colab": {
          "base_uri": "https://localhost:8080/"
        },
        "outputId": "4366acf4-7bc9-4822-c931-2ca56e96f62c"
      },
      "execution_count": 64,
      "outputs": [
        {
          "output_type": "stream",
          "name": "stdout",
          "text": [
            "[INFO] Predicting on data_path/pizza_steak_sushi/test/sushi/175783.jpg\n",
            "[INFO] Loading in model from: models/05_going_modular_script_mode_tinyvgg_model.pth\n",
            "[INFO] Pred class: pizza, Pred prob: 0.485\n"
          ]
        }
      ]
    }
  ]
}