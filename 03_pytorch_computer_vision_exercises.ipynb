{
  "nbformat": 4,
  "nbformat_minor": 0,
  "metadata": {
    "colab": {
      "provenance": [],
      "toc_visible": true
    },
    "kernelspec": {
      "name": "python3",
      "display_name": "Python 3"
    },
    "language_info": {
      "name": "python"
    },
    "accelerator": "GPU",
    "widgets": {
      "application/vnd.jupyter.widget-state+json": {
"state":{
        "3633f26b772c4b40b11c2df2d562bdc6": {
          "model_module": "@jupyter-widgets/controls",
          "model_name": "HBoxModel",
          "model_module_version": "1.5.0",
          "state": {
            "_dom_classes": [],
            "_model_module": "@jupyter-widgets/controls",
            "_model_module_version": "1.5.0",
            "_model_name": "HBoxModel",
            "_view_count": null,
            "_view_module": "@jupyter-widgets/controls",
            "_view_module_version": "1.5.0",
            "_view_name": "HBoxView",
            "box_style": "",
            "children": [
              "IPY_MODEL_c9c18d83fa94402390a9b3dd74a09dba",
              "IPY_MODEL_b7821607d56d4dc6bbdc654da00a44e7",
              "IPY_MODEL_ab01d138e42f418a95224fbd5269a918"
            ],
            "layout": "IPY_MODEL_daeeae90690148148c5c909d788a5a9e"
          }
        },
        "c9c18d83fa94402390a9b3dd74a09dba": {
          "model_module": "@jupyter-widgets/controls",
          "model_name": "HTMLModel",
          "model_module_version": "1.5.0",
          "state": {
            "_dom_classes": [],
            "_model_module": "@jupyter-widgets/controls",
            "_model_module_version": "1.5.0",
            "_model_name": "HTMLModel",
            "_view_count": null,
            "_view_module": "@jupyter-widgets/controls",
            "_view_module_version": "1.5.0",
            "_view_name": "HTMLView",
            "description": "",
            "description_tooltip": null,
            "layout": "IPY_MODEL_9ca02fe95720426bb23b3d4147648652",
            "placeholder": "​",
            "style": "IPY_MODEL_eae4be44b40042b39a7033b8ac492b23",
            "value": "100%"
          }
        },
        "b7821607d56d4dc6bbdc654da00a44e7": {
          "model_module": "@jupyter-widgets/controls",
          "model_name": "FloatProgressModel",
          "model_module_version": "1.5.0",
          "state": {
            "_dom_classes": [],
            "_model_module": "@jupyter-widgets/controls",
            "_model_module_version": "1.5.0",
            "_model_name": "FloatProgressModel",
            "_view_count": null,
            "_view_module": "@jupyter-widgets/controls",
            "_view_module_version": "1.5.0",
            "_view_name": "ProgressView",
            "bar_style": "success",
            "description": "",
            "description_tooltip": null,
            "layout": "IPY_MODEL_655fd4ef2d204c38a230d2db45c5818b",
            "max": 3,
            "min": 0,
            "orientation": "horizontal",
            "style": "IPY_MODEL_bfc834cd97ab44c9866c30c6f5e54f38",
            "value": 3
          }
        },
        "ab01d138e42f418a95224fbd5269a918": {
          "model_module": "@jupyter-widgets/controls",
          "model_name": "HTMLModel",
          "model_module_version": "1.5.0",
          "state": {
            "_dom_classes": [],
            "_model_module": "@jupyter-widgets/controls",
            "_model_module_version": "1.5.0",
            "_model_name": "HTMLModel",
            "_view_count": null,
            "_view_module": "@jupyter-widgets/controls",
            "_view_module_version": "1.5.0",
            "_view_name": "HTMLView",
            "description": "",
            "description_tooltip": null,
            "layout": "IPY_MODEL_c1bd4e0c7ac247268ccb121a91157e41",
            "placeholder": "​",
            "style": "IPY_MODEL_9f18af3442994c92ab27c7e28576f8cf",
            "value": " 3/3 [03:51&lt;00:00, 76.95s/it]"
          }
        },
        "daeeae90690148148c5c909d788a5a9e": {
          "model_module": "@jupyter-widgets/base",
          "model_name": "LayoutModel",
          "model_module_version": "1.2.0",
          "state": {
            "_model_module": "@jupyter-widgets/base",
            "_model_module_version": "1.2.0",
            "_model_name": "LayoutModel",
            "_view_count": null,
            "_view_module": "@jupyter-widgets/base",
            "_view_module_version": "1.2.0",
            "_view_name": "LayoutView",
            "align_content": null,
            "align_items": null,
            "align_self": null,
            "border": null,
            "bottom": null,
            "display": null,
            "flex": null,
            "flex_flow": null,
            "grid_area": null,
            "grid_auto_columns": null,
            "grid_auto_flow": null,
            "grid_auto_rows": null,
            "grid_column": null,
            "grid_gap": null,
            "grid_row": null,
            "grid_template_areas": null,
            "grid_template_columns": null,
            "grid_template_rows": null,
            "height": null,
            "justify_content": null,
            "justify_items": null,
            "left": null,
            "margin": null,
            "max_height": null,
            "max_width": null,
            "min_height": null,
            "min_width": null,
            "object_fit": null,
            "object_position": null,
            "order": null,
            "overflow": null,
            "overflow_x": null,
            "overflow_y": null,
            "padding": null,
            "right": null,
            "top": null,
            "visibility": null,
            "width": null
          }
        },
        "9ca02fe95720426bb23b3d4147648652": {
          "model_module": "@jupyter-widgets/base",
          "model_name": "LayoutModel",
          "model_module_version": "1.2.0",
          "state": {
            "_model_module": "@jupyter-widgets/base",
            "_model_module_version": "1.2.0",
            "_model_name": "LayoutModel",
            "_view_count": null,
            "_view_module": "@jupyter-widgets/base",
            "_view_module_version": "1.2.0",
            "_view_name": "LayoutView",
            "align_content": null,
            "align_items": null,
            "align_self": null,
            "border": null,
            "bottom": null,
            "display": null,
            "flex": null,
            "flex_flow": null,
            "grid_area": null,
            "grid_auto_columns": null,
            "grid_auto_flow": null,
            "grid_auto_rows": null,
            "grid_column": null,
            "grid_gap": null,
            "grid_row": null,
            "grid_template_areas": null,
            "grid_template_columns": null,
            "grid_template_rows": null,
            "height": null,
            "justify_content": null,
            "justify_items": null,
            "left": null,
            "margin": null,
            "max_height": null,
            "max_width": null,
            "min_height": null,
            "min_width": null,
            "object_fit": null,
            "object_position": null,
            "order": null,
            "overflow": null,
            "overflow_x": null,
            "overflow_y": null,
            "padding": null,
            "right": null,
            "top": null,
            "visibility": null,
            "width": null
          }
        },
        "eae4be44b40042b39a7033b8ac492b23": {
          "model_module": "@jupyter-widgets/controls",
          "model_name": "DescriptionStyleModel",
          "model_module_version": "1.5.0",
          "state": {
            "_model_module": "@jupyter-widgets/controls",
            "_model_module_version": "1.5.0",
            "_model_name": "DescriptionStyleModel",
            "_view_count": null,
            "_view_module": "@jupyter-widgets/base",
            "_view_module_version": "1.2.0",
            "_view_name": "StyleView",
            "description_width": ""
          }
        },
        "655fd4ef2d204c38a230d2db45c5818b": {
          "model_module": "@jupyter-widgets/base",
          "model_name": "LayoutModel",
          "model_module_version": "1.2.0",
          "state": {
            "_model_module": "@jupyter-widgets/base",
            "_model_module_version": "1.2.0",
            "_model_name": "LayoutModel",
            "_view_count": null,
            "_view_module": "@jupyter-widgets/base",
            "_view_module_version": "1.2.0",
            "_view_name": "LayoutView",
            "align_content": null,
            "align_items": null,
            "align_self": null,
            "border": null,
            "bottom": null,
            "display": null,
            "flex": null,
            "flex_flow": null,
            "grid_area": null,
            "grid_auto_columns": null,
            "grid_auto_flow": null,
            "grid_auto_rows": null,
            "grid_column": null,
            "grid_gap": null,
            "grid_row": null,
            "grid_template_areas": null,
            "grid_template_columns": null,
            "grid_template_rows": null,
            "height": null,
            "justify_content": null,
            "justify_items": null,
            "left": null,
            "margin": null,
            "max_height": null,
            "max_width": null,
            "min_height": null,
            "min_width": null,
            "object_fit": null,
            "object_position": null,
            "order": null,
            "overflow": null,
            "overflow_x": null,
            "overflow_y": null,
            "padding": null,
            "right": null,
            "top": null,
            "visibility": null,
            "width": null
          }
        },
        "bfc834cd97ab44c9866c30c6f5e54f38": {
          "model_module": "@jupyter-widgets/controls",
          "model_name": "ProgressStyleModel",
          "model_module_version": "1.5.0",
          "state": {
            "_model_module": "@jupyter-widgets/controls",
            "_model_module_version": "1.5.0",
            "_model_name": "ProgressStyleModel",
            "_view_count": null,
            "_view_module": "@jupyter-widgets/base",
            "_view_module_version": "1.2.0",
            "_view_name": "StyleView",
            "bar_color": null,
            "description_width": ""
          }
        },
        "c1bd4e0c7ac247268ccb121a91157e41": {
          "model_module": "@jupyter-widgets/base",
          "model_name": "LayoutModel",
          "model_module_version": "1.2.0",
          "state": {
            "_model_module": "@jupyter-widgets/base",
            "_model_module_version": "1.2.0",
            "_model_name": "LayoutModel",
            "_view_count": null,
            "_view_module": "@jupyter-widgets/base",
            "_view_module_version": "1.2.0",
            "_view_name": "LayoutView",
            "align_content": null,
            "align_items": null,
            "align_self": null,
            "border": null,
            "bottom": null,
            "display": null,
            "flex": null,
            "flex_flow": null,
            "grid_area": null,
            "grid_auto_columns": null,
            "grid_auto_flow": null,
            "grid_auto_rows": null,
            "grid_column": null,
            "grid_gap": null,
            "grid_row": null,
            "grid_template_areas": null,
            "grid_template_columns": null,
            "grid_template_rows": null,
            "height": null,
            "justify_content": null,
            "justify_items": null,
            "left": null,
            "margin": null,
            "max_height": null,
            "max_width": null,
            "min_height": null,
            "min_width": null,
            "object_fit": null,
            "object_position": null,
            "order": null,
            "overflow": null,
            "overflow_x": null,
            "overflow_y": null,
            "padding": null,
            "right": null,
            "top": null,
            "visibility": null,
            "width": null
          }
        },
        "9f18af3442994c92ab27c7e28576f8cf": {
          "model_module": "@jupyter-widgets/controls",
          "model_name": "DescriptionStyleModel",
          "model_module_version": "1.5.0",
          "state": {
            "_model_module": "@jupyter-widgets/controls",
            "_model_module_version": "1.5.0",
            "_model_name": "DescriptionStyleModel",
            "_view_count": null,
            "_view_module": "@jupyter-widgets/base",
            "_view_module_version": "1.2.0",
            "_view_name": "StyleView",
            "description_width": ""
          }
        },
        "9c03ced6064d46d0b2db832880abbc68": {
          "model_module": "@jupyter-widgets/controls",
          "model_name": "HBoxModel",
          "model_module_version": "1.5.0",
          "state": {
            "_dom_classes": [],
            "_model_module": "@jupyter-widgets/controls",
            "_model_module_version": "1.5.0",
            "_model_name": "HBoxModel",
            "_view_count": null,
            "_view_module": "@jupyter-widgets/controls",
            "_view_module_version": "1.5.0",
            "_view_name": "HBoxView",
            "box_style": "",
            "children": [
              "IPY_MODEL_fa17871bf56247b8a873baa37ca2e356",
              "IPY_MODEL_092838e670dd4cdb8fb69810a1706460",
              "IPY_MODEL_d188d5ae26c7403da8ea0c61a82aab74"
            ],
            "layout": "IPY_MODEL_a140dbf88caa4cfd8022fa7dfa402bb6"
          }
        },
        "fa17871bf56247b8a873baa37ca2e356": {
          "model_module": "@jupyter-widgets/controls",
          "model_name": "HTMLModel",
          "model_module_version": "1.5.0",
          "state": {
            "_dom_classes": [],
            "_model_module": "@jupyter-widgets/controls",
            "_model_module_version": "1.5.0",
            "_model_name": "HTMLModel",
            "_view_count": null,
            "_view_module": "@jupyter-widgets/controls",
            "_view_module_version": "1.5.0",
            "_view_name": "HTMLView",
            "description": "",
            "description_tooltip": null,
            "layout": "IPY_MODEL_76570df5274342f9b23d70bc9d7e4d7c",
            "placeholder": "​",
            "style": "IPY_MODEL_e980863789e6472ea0d48b88261701a3",
            "value": "Making predicions: 100%"
          }
        },
        "092838e670dd4cdb8fb69810a1706460": {
          "model_module": "@jupyter-widgets/controls",
          "model_name": "FloatProgressModel",
          "model_module_version": "1.5.0",
          "state": {
            "_dom_classes": [],
            "_model_module": "@jupyter-widgets/controls",
            "_model_module_version": "1.5.0",
            "_model_name": "FloatProgressModel",
            "_view_count": null,
            "_view_module": "@jupyter-widgets/controls",
            "_view_module_version": "1.5.0",
            "_view_name": "ProgressView",
            "bar_style": "success",
            "description": "",
            "description_tooltip": null,
            "layout": "IPY_MODEL_27d03d6301174386b271e866b1e6d0f8",
            "max": 313,
            "min": 0,
            "orientation": "horizontal",
            "style": "IPY_MODEL_d2a20f7933d443958c4f82d92b996ff0",
            "value": 313
          }
        },
        "d188d5ae26c7403da8ea0c61a82aab74": {
          "model_module": "@jupyter-widgets/controls",
          "model_name": "HTMLModel",
          "model_module_version": "1.5.0",
          "state": {
            "_dom_classes": [],
            "_model_module": "@jupyter-widgets/controls",
            "_model_module_version": "1.5.0",
            "_model_name": "HTMLModel",
            "_view_count": null,
            "_view_module": "@jupyter-widgets/controls",
            "_view_module_version": "1.5.0",
            "_view_name": "HTMLView",
            "description": "",
            "description_tooltip": null,
            "layout": "IPY_MODEL_f56d45c1500d493d9fe4abcc3d6a6e3a",
            "placeholder": "​",
            "style": "IPY_MODEL_4185bed0e6b84946a4bb0dbc13de8435",
            "value": " 313/313 [00:04&lt;00:00, 77.02it/s]"
          }
        },
        "a140dbf88caa4cfd8022fa7dfa402bb6": {
          "model_module": "@jupyter-widgets/base",
          "model_name": "LayoutModel",
          "model_module_version": "1.2.0",
          "state": {
            "_model_module": "@jupyter-widgets/base",
            "_model_module_version": "1.2.0",
            "_model_name": "LayoutModel",
            "_view_count": null,
            "_view_module": "@jupyter-widgets/base",
            "_view_module_version": "1.2.0",
            "_view_name": "LayoutView",
            "align_content": null,
            "align_items": null,
            "align_self": null,
            "border": null,
            "bottom": null,
            "display": null,
            "flex": null,
            "flex_flow": null,
            "grid_area": null,
            "grid_auto_columns": null,
            "grid_auto_flow": null,
            "grid_auto_rows": null,
            "grid_column": null,
            "grid_gap": null,
            "grid_row": null,
            "grid_template_areas": null,
            "grid_template_columns": null,
            "grid_template_rows": null,
            "height": null,
            "justify_content": null,
            "justify_items": null,
            "left": null,
            "margin": null,
            "max_height": null,
            "max_width": null,
            "min_height": null,
            "min_width": null,
            "object_fit": null,
            "object_position": null,
            "order": null,
            "overflow": null,
            "overflow_x": null,
            "overflow_y": null,
            "padding": null,
            "right": null,
            "top": null,
            "visibility": null,
            "width": null
          }
        },
        "76570df5274342f9b23d70bc9d7e4d7c": {
          "model_module": "@jupyter-widgets/base",
          "model_name": "LayoutModel",
          "model_module_version": "1.2.0",
          "state": {
            "_model_module": "@jupyter-widgets/base",
            "_model_module_version": "1.2.0",
            "_model_name": "LayoutModel",
            "_view_count": null,
            "_view_module": "@jupyter-widgets/base",
            "_view_module_version": "1.2.0",
            "_view_name": "LayoutView",
            "align_content": null,
            "align_items": null,
            "align_self": null,
            "border": null,
            "bottom": null,
            "display": null,
            "flex": null,
            "flex_flow": null,
            "grid_area": null,
            "grid_auto_columns": null,
            "grid_auto_flow": null,
            "grid_auto_rows": null,
            "grid_column": null,
            "grid_gap": null,
            "grid_row": null,
            "grid_template_areas": null,
            "grid_template_columns": null,
            "grid_template_rows": null,
            "height": null,
            "justify_content": null,
            "justify_items": null,
            "left": null,
            "margin": null,
            "max_height": null,
            "max_width": null,
            "min_height": null,
            "min_width": null,
            "object_fit": null,
            "object_position": null,
            "order": null,
            "overflow": null,
            "overflow_x": null,
            "overflow_y": null,
            "padding": null,
            "right": null,
            "top": null,
            "visibility": null,
            "width": null
          }
        },
        "e980863789e6472ea0d48b88261701a3": {
          "model_module": "@jupyter-widgets/controls",
          "model_name": "DescriptionStyleModel",
          "model_module_version": "1.5.0",
          "state": {
            "_model_module": "@jupyter-widgets/controls",
            "_model_module_version": "1.5.0",
            "_model_name": "DescriptionStyleModel",
            "_view_count": null,
            "_view_module": "@jupyter-widgets/base",
            "_view_module_version": "1.2.0",
            "_view_name": "StyleView",
            "description_width": ""
          }
        },
        "27d03d6301174386b271e866b1e6d0f8": {
          "model_module": "@jupyter-widgets/base",
          "model_name": "LayoutModel",
          "model_module_version": "1.2.0",
          "state": {
            "_model_module": "@jupyter-widgets/base",
            "_model_module_version": "1.2.0",
            "_model_name": "LayoutModel",
            "_view_count": null,
            "_view_module": "@jupyter-widgets/base",
            "_view_module_version": "1.2.0",
            "_view_name": "LayoutView",
            "align_content": null,
            "align_items": null,
            "align_self": null,
            "border": null,
            "bottom": null,
            "display": null,
            "flex": null,
            "flex_flow": null,
            "grid_area": null,
            "grid_auto_columns": null,
            "grid_auto_flow": null,
            "grid_auto_rows": null,
            "grid_column": null,
            "grid_gap": null,
            "grid_row": null,
            "grid_template_areas": null,
            "grid_template_columns": null,
            "grid_template_rows": null,
            "height": null,
            "justify_content": null,
            "justify_items": null,
            "left": null,
            "margin": null,
            "max_height": null,
            "max_width": null,
            "min_height": null,
            "min_width": null,
            "object_fit": null,
            "object_position": null,
            "order": null,
            "overflow": null,
            "overflow_x": null,
            "overflow_y": null,
            "padding": null,
            "right": null,
            "top": null,
            "visibility": null,
            "width": null
          }
        },
        "d2a20f7933d443958c4f82d92b996ff0": {
          "model_module": "@jupyter-widgets/controls",
          "model_name": "ProgressStyleModel",
          "model_module_version": "1.5.0",
          "state": {
            "_model_module": "@jupyter-widgets/controls",
            "_model_module_version": "1.5.0",
            "_model_name": "ProgressStyleModel",
            "_view_count": null,
            "_view_module": "@jupyter-widgets/base",
            "_view_module_version": "1.2.0",
            "_view_name": "StyleView",
            "bar_color": null,
            "description_width": ""
          }
        },
        "f56d45c1500d493d9fe4abcc3d6a6e3a": {
          "model_module": "@jupyter-widgets/base",
          "model_name": "LayoutModel",
          "model_module_version": "1.2.0",
          "state": {
            "_model_module": "@jupyter-widgets/base",
            "_model_module_version": "1.2.0",
            "_model_name": "LayoutModel",
            "_view_count": null,
            "_view_module": "@jupyter-widgets/base",
            "_view_module_version": "1.2.0",
            "_view_name": "LayoutView",
            "align_content": null,
            "align_items": null,
            "align_self": null,
            "border": null,
            "bottom": null,
            "display": null,
            "flex": null,
            "flex_flow": null,
            "grid_area": null,
            "grid_auto_columns": null,
            "grid_auto_flow": null,
            "grid_auto_rows": null,
            "grid_column": null,
            "grid_gap": null,
            "grid_row": null,
            "grid_template_areas": null,
            "grid_template_columns": null,
            "grid_template_rows": null,
            "height": null,
            "justify_content": null,
            "justify_items": null,
            "left": null,
            "margin": null,
            "max_height": null,
            "max_width": null,
            "min_height": null,
            "min_width": null,
            "object_fit": null,
            "object_position": null,
            "order": null,
            "overflow": null,
            "overflow_x": null,
            "overflow_y": null,
            "padding": null,
            "right": null,
            "top": null,
            "visibility": null,
            "width": null
          }
        },
        "4185bed0e6b84946a4bb0dbc13de8435": {
          "model_module": "@jupyter-widgets/controls",
          "model_name": "DescriptionStyleModel",
          "model_module_version": "1.5.0",
          "state": {
            "_model_module": "@jupyter-widgets/controls",
            "_model_module_version": "1.5.0",
            "_model_name": "DescriptionStyleModel",
            "_view_count": null,
            "_view_module": "@jupyter-widgets/base",
            "_view_module_version": "1.2.0",
            "_view_name": "StyleView",
            "description_width": ""
          }
        }
      }
},
"version_major": 2,
    "version_minor": 0
    }
  },
  "cells": [
    {
      "cell_type": "markdown",
      "source": [
        "# 03.  PyTorch Computer Vision Exercises\n",
        "\n"
      ],
      "metadata": {
        "id": "Vex99np2wFVt"
      }
    },
    {
      "cell_type": "markdown",
      "metadata": {
        "id": "c67e6238"
      },
      "source": [
        "# Notebook Summary\n",
        "\n",
        "This notebook explores computer vision concepts using PyTorch and the FashionMNIST dataset.\n",
        "\n",
        "**Technologies Used:**\n",
        "\n",
        "*   **PyTorch:** Deep learning framework for building and training neural networks.\n",
        "*   **torchvision:** Library providing access to datasets, models, and image transformations.\n",
        "*   **Matplotlib:** For visualizing data and results.\n",
        "*   **mlxtend:** For plotting the confusion matrix.\n",
        "\n",
        "**ML Algorithms/Models:**\n",
        "\n",
        "*   **Convolutional Neural Network (CNN):** A type of neural network well-suited for image data, specifically a TinyVGG-like architecture.\n",
        "\n",
        "**Main Code Functions:**\n",
        "\n",
        "*   `training_loop_step`: Performs a single training step for the model.\n",
        "*   `testing_loop_step`: Evaluates the model on the testing data.\n",
        "*   `print_train_time`: Utility function to measure training time.\n",
        "*   `FashionMNIST_model_2`: Defines the CNN model architecture.\n",
        "*   `make_predictions`: Generates predictions using the trained model.\n",
        "*   `accuracy_fn`: Calculates the accuracy of the model's predictions.\n",
        "*   `plot_confusion_matrix`: Visualizes the confusion matrix."
      ]
    },
    {
      "cell_type": "markdown",
      "source": [
        "## 1.0 What are 3 areas in industry where computer vision is currently being used?"
      ],
      "metadata": {
        "id": "FSFX7tc1w-en"
      }
    },
    {
      "cell_type": "markdown",
      "source": [
        "1.   Modern cars use computer vision to avoid other cars and stay within lane lines.\n",
        "2.   Manufacturers use computer vision to identify defects in various products.\n",
        "3.   Security cameras use computer vision to detect potential intruders.\n",
        "In essence, anything that can be described in a visual sense can be a potential computer vision problem."
      ],
      "metadata": {
        "id": "EW_FsyDeZliA"
      }
    },
    {
      "cell_type": "markdown",
      "source": [
        "### 1.1 Import required libraries and frameworks"
      ],
      "metadata": {
        "id": "s2cnXZfngaY-"
      }
    },
    {
      "cell_type": "code",
      "source": [
        "# Import necessary libraries and frameworks\n",
        "import torch\n",
        "from torch import nn\n",
        "\n",
        "import torchvision\n",
        "from torchvision import datasets\n",
        "from torchvision import transforms\n",
        "from torchvision.transforms import ToTensor\n",
        "from torch.utils.data import DataLoader\n",
        "\n",
        "import matplotlib.pyplot as plt\n",
        "import random\n",
        "\n",
        "import requests\n",
        "from pathlib import Path\n",
        "\n",
        "from tqdm.auto import tqdm\n",
        "from timeit import default_timer as timer\n",
        "\n",
        "# Exercises require PyTorch > 1.10.0\n",
        "print(torch.__version__)"
      ],
      "metadata": {
        "colab": {
          "base_uri": "https://localhost:8080/"
        },
        "id": "DNwZLMbCzJLk",
        "outputId": "c07da61d-993b-4bdf-8de6-f5191bde5ace"
      },
      "execution_count": null,
      "outputs": [
        {
          "output_type": "stream",
          "name": "stdout",
          "text": [
            "2.6.0+cu124\n"
          ]
        }
      ]
    },
    {
      "cell_type": "code",
      "source": [
        "# Device agnostic code\n",
        "device = \"cuda\" if torch.cuda.is_available() else \"cpu\"\n",
        "device"
      ],
      "metadata": {
        "colab": {
          "base_uri": "https://localhost:8080/",
          "height": 35
        },
        "id": "E72AwDSWgOrn",
        "outputId": "bfd12262-c426-44f5-9293-9ea4ec4bc33a"
      },
      "execution_count": null,
      "outputs": [
        {
          "output_type": "execute_result",
          "data": {
            "text/plain": [
              "'cpu'"
            ],
            "application/vnd.google.colaboratory.intrinsic+json": {
              "type": "string"
            }
          },
          "metadata": {},
          "execution_count": 103
        }
      ]
    },
    {
      "cell_type": "markdown",
      "source": [
        "## 2.0 Search \"what is overfitting in machine learning\" and write down a sentence about what you find."
      ],
      "metadata": {
        "id": "oBK-WI6YxDYa"
      }
    },
    {
      "cell_type": "markdown",
      "source": [
        "Overfitting means that model is learning the training data well but those patterns aren't generalizing to the testing data."
      ],
      "metadata": {
        "id": "aJFjhGhjaJLd"
      }
    },
    {
      "cell_type": "markdown",
      "source": [
        "## 3.0 Search \"ways to prevent overfitting in machine learning\", write down 3 of the things you find and a sentence about each.\n",
        "> **Note:** there are lots of these, so don't worry too much about all of them, just pick 3 and start with those."
      ],
      "metadata": {
        "id": "XeYFEqw8xK26"
      }
    },
    {
      "cell_type": "markdown",
      "source": [
        "1. Using a smaller or different model, some models fit certain kinds of data better than others.\n",
        "2. Using a larger dataset the more data, the more chance a model has to learn generalizable patterns.\n",
        "3. Early stopping pauses the training phase before the machine learning model learns the noise in the data. However, getting the timing right is important; else the model will still not give accurate results."
      ],
      "metadata": {
        "id": "YDdMp-yJaaCY"
      }
    },
    {
      "cell_type": "markdown",
      "source": [
        "## 4.0 Spend 20-minutes reading and clicking through the [CNN Explainer website](https://poloclub.github.io/cnn-explainer/).\n",
        "\n",
        "* Upload your own example image using the \"upload\" button on the website and see what happens in each layer of a CNN as your image passes through it."
      ],
      "metadata": {
        "id": "DKdEEFEqxM-8"
      }
    },
    {
      "cell_type": "markdown",
      "source": [
        "## 5.0 Load the [`torchvision.datasets.MNIST()`](https://pytorch.org/vision/stable/generated/torchvision.datasets.MNIST.html#torchvision.datasets.MNIST) train and test datasets."
      ],
      "metadata": {
        "id": "lvf-3pODxXYI"
      }
    },
    {
      "cell_type": "code",
      "source": [
        "training_dataset_mnist = datasets.FashionMNIST(root=\"data\",\n",
        "                                               train=True,\n",
        "                                               download=True,\n",
        "                                               transform=ToTensor(),\n",
        "                                               target_transform=None)\n",
        "\n",
        "testing_dataset_mnist = datasets.FashionMNIST(root=\"data\",\n",
        "                                              train=False,\n",
        "                                              download=True,\n",
        "                                              transform=ToTensor())"
      ],
      "metadata": {
        "id": "SHjeuN81bHza"
      },
      "execution_count": null,
      "outputs": []
    },
    {
      "cell_type": "markdown",
      "source": [
        "## 6.0 Visualize at least 5 different samples of the MNIST training dataset."
      ],
      "metadata": {
        "id": "qxZW-uAbxe_F"
      }
    },
    {
      "cell_type": "code",
      "source": [
        "label_classes = training_dataset_mnist.classes\n",
        "figure = plt.figure(figsize=(8, 8))\n",
        "cols, rows = 3, 3\n",
        "\n",
        "for i in range(1, cols * rows + 1):\n",
        "  random_index = torch.randint(0, len(training_dataset_mnist), size=[1]).item()\n",
        "  img, label_name = training_dataset_mnist[random_index]\n",
        "  figure.add_subplot(rows, cols, i)\n",
        "  plt.title(label_classes[label_name])\n",
        "  plt.axis(\"off\")\n",
        "  plt.imshow(img.squeeze())\n",
        "plt.show()"
      ],
      "metadata": {
        "id": "QVFsYi1PbItE",
        "colab": {
          "base_uri": "https://localhost:8080/",
          "height": 675
        },
        "outputId": "19e82971-f64e-4e6f-db57-ff4de71f98d7"
      },
      "execution_count": null,
      "outputs": [
        {
          "output_type": "display_data",
          "data": {
            "text/plain": [
              "<Figure size 800x800 with 9 Axes>"
            ],
            "image/png": "[encoded data removed]"
          },
          "metadata": {}
        }
      ]
    },
    {
      "cell_type": "markdown",
      "source": [
        "## 7.0 Turn the MNIST train and test datasets into dataloaders using `torch.utils.data.DataLoader`, set the `batch_size=32`."
      ],
      "metadata": {
        "id": "JAPDzW0wxhi3"
      }
    },
    {
      "cell_type": "code",
      "source": [
        "BATCH_SIZE = 32\n",
        "dataloader_training = DataLoader(training_dataset_mnist,\n",
        "                                 batch_size=BATCH_SIZE,\n",
        "                                 shuffle=True)\n",
        "dataloader_testing = DataLoader(testing_dataset_mnist,\n",
        "                                batch_size=BATCH_SIZE,\n",
        "                                shuffle=False)"
      ],
      "metadata": {
        "id": "ALA6MPcFbJXQ"
      },
      "execution_count": null,
      "outputs": []
    },
    {
      "cell_type": "markdown",
      "source": [
        "### 7.1. Import helper functions"
      ],
      "metadata": {
        "id": "5Z3_2WpMkoNK"
      }
    },
    {
      "cell_type": "code",
      "source": [
        "from urllib import request\n",
        "#Download and import helper functions\n",
        "files = [\"helper_functions.py\",\n",
        "         \"model_testing_training.py\",\n",
        "         \"model_calc_timer.py\",\n",
        "         \"pytorch_model_eval.py\"]\n",
        "repos = [\"https://raw.githubusercontent.com/mrdbourke/pytorch-deep-learning/main/helper_functions.py\",\n",
        "         \"https://raw.githubusercontent.com/UMB200/pytorch_projects/main/model_testing_training.py\",\n",
        "         \"https://raw.githubusercontent.com/UMB200/pytorch_projects/main/model_calc_timer.py\",\n",
        "         \"https://raw.githubusercontent.com/UMB200/pytorch_projects/main/pytorch_model_eval.py\"]\n",
        "\n",
        "\n",
        "for i, fd in enumerate(files):\n",
        "  rl = repos[i]\n",
        "  if Path(fd).is_file():\n",
        "    print(f\"{fd} already exists, moving on\")\n",
        "  else:\n",
        "    print(f\"Downloading: {fd}\")\n",
        "    try:\n",
        "      request = requests.get(rl)\n",
        "      request.raise_for_status()\n",
        "      with open(fd, \"wb\") as f:\n",
        "        f.write(request.content)\n",
        "      print(f\"Successfully downloaded {fd}\")\n",
        "    except requests.exceptions.RequestException as e:\n",
        "      print(f\"Error downloading {fd}: {e}\")\n"
      ],
      "metadata": {
        "colab": {
          "base_uri": "https://localhost:8080/"
        },
        "id": "cG74g4-LuMVM",
        "outputId": "ea269f6d-7deb-4b25-9d6e-3a2ded66a54f"
      },
      "execution_count": null,
      "outputs": [
        {
          "output_type": "stream",
          "name": "stdout",
          "text": [
            "helper_functions.py already exists, moving on\n",
            "model_testing_training.py already exists, moving on\n",
            "model_calc_timer.py already exists, moving on\n",
            "pytorch_model_eval.py already exists, moving on\n"
          ]
        }
      ]
    },
    {
      "cell_type": "markdown",
      "source": [
        "## 8.0 Recreate `model_2` used in notebook 03 (the same model from the [CNN Explainer website](https://poloclub.github.io/cnn-explainer/), also known as TinyVGG) capable of fitting on the MNIST dataset."
      ],
      "metadata": {
        "id": "bCCVfXk5xjYS"
      }
    },
    {
      "cell_type": "code",
      "source": [
        "def training_loop_step(model: torch.nn.Module,\n",
        "                        data_loader: torch.utils.data.DataLoader,\n",
        "                        loss_function: torch.nn.Module,\n",
        "                        optimizer: torch.optim.Optimizer,\n",
        "                        accuracy_fn,\n",
        "                        device: torch.device = device):\n",
        "\n",
        "  \"\"\" Performs a training with model trying to learn on data_loader\"\"\"\n",
        "  ### Training\n",
        "  training_loss, training_accuracy = 0, 0\n",
        "  # Set model into training mode\n",
        "  model.to(device)\n",
        "\n",
        "  for batch, (X, y) in enumerate(data_loader):\n",
        "      # Put data on target device\n",
        "      X, y = X.to(device), y.to(device)\n",
        "      # 1. Forward pass\n",
        "      y_prediction = model(X)\n",
        "\n",
        "      # 2. Calculate loss & accuracy per batch\n",
        "      loss_value = loss_function(y_prediction, y)\n",
        "      training_loss += loss_value # accumulate training loss\n",
        "      training_accuracy += accuracy_fn(y_true = y,\n",
        "                                        y_pred = y_prediction.argmax(dim=1)) # go from logits -> prediction labels\n",
        "      # 3. Optimizer zero grad\n",
        "      optimizer.zero_grad()\n",
        "\n",
        "      # 4. Loss backward\n",
        "      loss_value.backward()\n",
        "\n",
        "      # 5. Optimizer step\n",
        "      optimizer.step()\n",
        "\n",
        "  # Calculate the testing loss & accuracy by dividing of testing accuract by the length of test dataloader\n",
        "  training_loss /= len(data_loader)\n",
        "  training_accuracy /=len(data_loader)\n",
        "\n",
        "  print(f\"Training loss: {training_loss:.4f} |Training accuracy: {training_accuracy:.2f}%\")\n",
        "### Testing\n",
        "def testing_loop_step(model: torch.nn.Module,\n",
        "                      data_loader: torch.utils.data.DataLoader,\n",
        "                      loss_function: torch.nn.Module,\n",
        "                      accuracy_fn,\n",
        "                      device: torch.device = device):\n",
        "  testing_loss, testing_accuracy = 0, 0\n",
        "  model.eval()\n",
        "  model.to(device)\n",
        "  with torch.inference_mode():\n",
        "    for X, y in data_loader:\n",
        "      X, y = X.to(device), y.to(device)\n",
        "\n",
        "      # 1. Forward pass\n",
        "      test_prediction = model(X)\n",
        "\n",
        "      # 2. Calculate loss (accumulatively) & accuracy\n",
        "      testing_loss += loss_function(test_prediction, y)\n",
        "      testing_accuracy += accuracy_fn(y_true=y, y_pred=test_prediction.argmax(dim=1))\n",
        "\n",
        "    # Calculate the test loss & accuracy average by dividing total testing loss and test accuracy by length of dataloader\n",
        "    testing_loss /= len(data_loader)\n",
        "    testing_accuracy /=len(data_loader)\n",
        "\n",
        "    print(f\"Testing loss: {testing_loss:.4f} | Testing accuracy: {testing_accuracy:.2f}%\")"
      ],
      "metadata": {
        "id": "nP9RxvTpFYdf"
      },
      "execution_count": null,
      "outputs": []
    },
    {
      "cell_type": "code",
      "source": [
        "from timeit import default_timer as timer\n",
        "def print_train_time(start: float, end: float, device: torch.device = None):\n",
        "  \"\"\" Prints difference between start and end time \"\"\"\n",
        "  total_time = end - start\n",
        "  print(f\"Train time on {device}: {total_time:.3f} seconds\")\n",
        "  return total_time"
      ],
      "metadata": {
        "id": "eMypAC9uQS1O"
      },
      "execution_count": null,
      "outputs": []
    },
    {
      "cell_type": "code",
      "source": [
        "class FashionMNIST_model_2(torch.nn.Module):\n",
        "  def __init__(self, input_shape:int, hidden_units:int, output_shape:int):\n",
        "    super().__init__()\n",
        "    self.block_1 = nn.Sequential(\n",
        "        nn.Conv2d(in_channels=input_shape,\n",
        "                  out_channels=hidden_units,\n",
        "                  kernel_size=3,\n",
        "                  stride=1,\n",
        "                  padding=1),\n",
        "        nn.ReLU(),\n",
        "        nn.Conv2d(in_channels=hidden_units,\n",
        "                  out_channels=hidden_units,\n",
        "                  kernel_size=3,\n",
        "                  stride=1,\n",
        "                  padding=1),\n",
        "        nn.ReLU(),\n",
        "        nn.MaxPool2d(kernel_size=2,\n",
        "                      stride=2))\n",
        "    self.block_2 = nn.Sequential(\n",
        "        nn.Conv2d(in_channels=hidden_units,\n",
        "                  out_channels=hidden_units,\n",
        "                  kernel_size=3,\n",
        "                  stride=1,\n",
        "                  padding=1),\n",
        "        nn.ReLU(),\n",
        "        nn.Conv2d(in_channels=hidden_units,\n",
        "                  out_channels=hidden_units,\n",
        "                  kernel_size=3,\n",
        "                  stride=1,\n",
        "                  padding=1),\n",
        "        nn.ReLU(),\n",
        "        nn.MaxPool2d(kernel_size=2, stride=2))\n",
        "    self.classifier = nn.Sequential(\n",
        "        nn.Flatten(),\n",
        "        nn.Linear(in_features=hidden_units*7*7,\n",
        "                  out_features=output_shape)\n",
        "    )\n",
        "  def forward(self, x: torch.Tensor):\n",
        "    x = self.block_1(x)\n",
        "    x = self.block_2(x)\n",
        "    x = self.classifier(x)\n",
        "    return x"
      ],
      "metadata": {
        "id": "msBljowRxEe4"
      },
      "execution_count": null,
      "outputs": []
    },
    {
      "cell_type": "code",
      "source": [
        "model_2_recreated = FashionMNIST_model_2(input_shape=1,\n",
        "                                         hidden_units=10,\n",
        "                                         output_shape=len(label_classes)).to(device)\n",
        "model_2_recreated"
      ],
      "metadata": {
        "colab": {
          "base_uri": "https://localhost:8080/"
        },
        "id": "sdHWbLj9i_KL",
        "outputId": "213f7d72-6ac5-4bba-c5db-c2f5a0aca6db"
      },
      "execution_count": null,
      "outputs": [
        {
          "output_type": "execute_result",
          "data": {
            "text/plain": [
              "FashionMNIST_model_2(\n",
              "  (block_1): Sequential(\n",
              "    (0): Conv2d(1, 10, kernel_size=(3, 3), stride=(1, 1), padding=(1, 1))\n",
              "    (1): ReLU()\n",
              "    (2): Conv2d(10, 10, kernel_size=(3, 3), stride=(1, 1), padding=(1, 1))\n",
              "    (3): ReLU()\n",
              "    (4): MaxPool2d(kernel_size=2, stride=2, padding=0, dilation=1, ceil_mode=False)\n",
              "  )\n",
              "  (block_2): Sequential(\n",
              "    (0): Conv2d(10, 10, kernel_size=(3, 3), stride=(1, 1), padding=(1, 1))\n",
              "    (1): ReLU()\n",
              "    (2): Conv2d(10, 10, kernel_size=(3, 3), stride=(1, 1), padding=(1, 1))\n",
              "    (3): ReLU()\n",
              "    (4): MaxPool2d(kernel_size=2, stride=2, padding=0, dilation=1, ceil_mode=False)\n",
              "  )\n",
              "  (classifier): Sequential(\n",
              "    (0): Flatten(start_dim=1, end_dim=-1)\n",
              "    (1): Linear(in_features=490, out_features=10, bias=True)\n",
              "  )\n",
              ")"
            ]
          },
          "metadata": {},
          "execution_count": 111
        }
      ]
    },
    {
      "cell_type": "markdown",
      "source": [
        "## 9.0 Train the model you built in exercise 8. for 5 epochs on CPU and GPU and see how long it takes on each."
      ],
      "metadata": {
        "id": "sf_3zUr7xlhy"
      }
    },
    {
      "cell_type": "code",
      "source": [
        "loss_function_cnn = nn.CrossEntropyLoss()\n",
        "optimizer=torch.optim.SGD(params=model_2_recreated.parameters(), lr=0.1)"
      ],
      "metadata": {
        "id": "NljAC4Nl1N8e"
      },
      "execution_count": null,
      "outputs": []
    },
    {
      "cell_type": "code",
      "source": [
        "from helper_functions import accuracy_fn"
      ],
      "metadata": {
        "id": "jSo6vVWFbNLD"
      },
      "execution_count": null,
      "outputs": []
    },
    {
      "cell_type": "code",
      "source": [
        "training_time_start = timer()\n",
        "epoch_qty = 3\n",
        "for epoch in tqdm(range(epoch_qty)):\n",
        "  print(f\"Epoch: {epoch}\\n-------\")\n",
        "  training_loop_step(data_loader=dataloader_training,\n",
        "                     model=model_2_recreated,\n",
        "                     loss_function=loss_function_cnn,\n",
        "                     accuracy_fn=accuracy_fn,\n",
        "                     optimizer=optimizer,\n",
        "                     device=device)\n",
        "  testing_loop_step(model=model_2_recreated,\n",
        "                    data_loader=dataloader_training,\n",
        "                    accuracy_fn=accuracy_fn,\n",
        "                    loss_function=loss_function_cnn,\n",
        "                    device=device)\n",
        "\n",
        "training_time_end = timer()\n",
        "\n",
        "total_training_time = print_train_time(training_time_start,\n",
        "                                       training_time_end, device=device)"
      ],
      "metadata": {
        "colab": {
          "base_uri": "https://localhost:8080/",
          "height": 275,
          "referenced_widgets": [
            "3633f26b772c4b40b11c2df2d562bdc6",
            "c9c18d83fa94402390a9b3dd74a09dba",
            "b7821607d56d4dc6bbdc654da00a44e7",
            "ab01d138e42f418a95224fbd5269a918",
            "daeeae90690148148c5c909d788a5a9e",
            "9ca02fe95720426bb23b3d4147648652",
            "eae4be44b40042b39a7033b8ac492b23",
            "655fd4ef2d204c38a230d2db45c5818b",
            "bfc834cd97ab44c9866c30c6f5e54f38",
            "c1bd4e0c7ac247268ccb121a91157e41",
            "9f18af3442994c92ab27c7e28576f8cf"
          ]
        },
        "id": "HmmwO8aE1gSp",
        "outputId": "8068e8dc-a5b4-4a9d-9de2-c52c3750ce9e"
      },
      "execution_count": null,
      "outputs": [
        {
          "output_type": "display_data",
          "data": {
            "text/plain": [
              "  0%|          | 0/3 [00:00<?, ?it/s]"
            ],
            "application/vnd.jupyter.widget-view+json": {
              "version_major": 2,
              "version_minor": 0,
              "model_id": "3633f26b772c4b40b11c2df2d562bdc6"
            }
          },
          "metadata": {}
        },
        {
          "output_type": "stream",
          "name": "stdout",
          "text": [
            "Epoch: 0\n",
            "-------\n",
            "Training loss: 0.5996 |Training accuracy: 78.26%\n",
            "Testing loss: 0.3985 | Testing accuracy: 85.14%\n",
            "Epoch: 1\n",
            "-------\n",
            "Training loss: 0.3633 |Training accuracy: 86.80%\n",
            "Testing loss: 0.3167 | Testing accuracy: 88.53%\n",
            "Epoch: 2\n",
            "-------\n",
            "Training loss: 0.3242 |Training accuracy: 88.30%\n",
            "Testing loss: 0.2952 | Testing accuracy: 89.56%\n",
            "Train time on cpu: 231.596 seconds\n"
          ]
        }
      ]
    },
    {
      "cell_type": "markdown",
      "source": [
        "## 10.0 Make predictions using your trained model and visualize at least 5 of them comparing the prediciton to the target label."
      ],
      "metadata": {
        "id": "w1CsHhPpxp1w"
      }
    },
    {
      "cell_type": "code",
      "source": [
        "def make_predictions(model: torch.nn.Module,\n",
        "                     data: list,\n",
        "                     device: torch.device = device):\n",
        "  pred_probs_list = []\n",
        "  model.to(device)\n",
        "  model.eval()\n",
        "  with torch.inference_mode():\n",
        "    for sample in data:\n",
        "      sample_data = torch.unsqueeze(sample, dim=0).to(device)\n",
        "      prediction_logit = model(sample_data).squeeze()\n",
        "      pred_probability = torch.softmax(prediction_logit, dim=0)\n",
        "      pred_probs_list.append(pred_probability.cpu())\n",
        "  return torch.stack(pred_probs_list)"
      ],
      "metadata": {
        "id": "_YGgZvSobNxu"
      },
      "execution_count": null,
      "outputs": []
    },
    {
      "cell_type": "code",
      "source": [
        "plt.figure(figsize=(6, 6))\n",
        "test_images = []\n",
        "test_labels = []\n",
        "num_of_rows = 3\n",
        "num_of_cols = 3\n",
        "\n",
        "for img, lbl in random.sample(list(testing_dataset_mnist), k=num_of_rows * num_of_cols):\n",
        "  test_images.append(img)\n",
        "  test_labels.append(lbl)\n",
        "\n",
        "prediction_probabilities = make_predictions(model=model_2_recreated,\n",
        "                                            data=test_images)\n",
        "prediction_classes = prediction_probabilities.argmax(dim=1)\n",
        "\n",
        "for i, sample in enumerate(test_images):\n",
        "  plt.subplot(num_of_rows, num_of_cols, i+1)\n",
        "  plt.imshow(sample.squeeze(), cmap=\"gray\")\n",
        "  pred_label = label_classes[prediction_classes[i]]\n",
        "  true_label = label_classes[test_labels[i]]\n",
        "  plt.title(f\"Prediction: {pred_label} \\nTruth: {true_label}\")\n",
        "  plt.axis(\"off\")\n",
        "  title_text = f\"Prediction: {pred_label} \\nTruth: {true_label}\"\n",
        "  if pred_label == true_label:\n",
        "    plt.title(f\"Prediction: {pred_label} \\nTruth: {true_label}\", fontsize=10, color=\"green\")\n",
        "  else:\n",
        "    plt.title(f\"Prediction: {pred_label} \\nTruth: {true_label}\", fontsize=10, color=\"red\")\n",
        "plt.tight_layout()\n",
        "plt.show()\n"
      ],
      "metadata": {
        "colab": {
          "base_uri": "https://localhost:8080/",
          "height": 607
        },
        "id": "mB-sKW-kUt8T",
        "outputId": "838b1ab3-44bf-407e-ed8f-9aae0543a550"
      },
      "execution_count": null,
      "outputs": [
        {
          "output_type": "display_data",
          "data": {
            "text/plain": [
              "<Figure size 600x600 with 9 Axes>"
            ],
            "image/png": "[encoded data removed]"
          },
          "metadata": {}
        }
      ]
    },
    {
      "cell_type": "markdown",
      "source": [
        "## 11.0 Plot a confusion matrix comparing your model's predictions to the truth labels."
      ],
      "metadata": {
        "id": "qQwzqlBWxrpG"
      }
    },
    {
      "cell_type": "code",
      "source": [
        "y_prediction_list = []\n",
        "model_2_recreated.eval()\n",
        "with torch.inference_mode():\n",
        "  for X, y in tqdm(dataloader_testing, desc=\"Making predicions\"):\n",
        "    X, y = X.to(device), y.to(device)\n",
        "    y_logit = model_2_recreated(X)\n",
        "    y_prediction = torch.softmax(y_logit.squeeze(), dim=0).argmax(dim=1)\n",
        "    y_prediction_list.append(y_prediction.cpu())\n",
        "y_prediction_tensor = torch.cat(y_prediction_list)"
      ],
      "metadata": {
        "colab": {
          "base_uri": "https://localhost:8080/",
          "height": 49,
          "referenced_widgets": [
            "9c03ced6064d46d0b2db832880abbc68",
            "fa17871bf56247b8a873baa37ca2e356",
            "092838e670dd4cdb8fb69810a1706460",
            "d188d5ae26c7403da8ea0c61a82aab74",
            "a140dbf88caa4cfd8022fa7dfa402bb6",
            "76570df5274342f9b23d70bc9d7e4d7c",
            "e980863789e6472ea0d48b88261701a3",
            "27d03d6301174386b271e866b1e6d0f8",
            "d2a20f7933d443958c4f82d92b996ff0",
            "f56d45c1500d493d9fe4abcc3d6a6e3a",
            "4185bed0e6b84946a4bb0dbc13de8435"
          ]
        },
        "id": "Kv-FRoMhbH3T",
        "outputId": "ab80243f-ee54-4e73-f69e-1e43400ec4fa"
      },
      "execution_count": null,
      "outputs": [
        {
          "output_type": "display_data",
          "data": {
            "text/plain": [
              "Making predicions:   0%|          | 0/313 [00:00<?, ?it/s]"
            ],
            "application/vnd.jupyter.widget-view+json": {
              "version_major": 2,
              "version_minor": 0,
              "model_id": "9c03ced6064d46d0b2db832880abbc68"
            }
          },
          "metadata": {}
        }
      ]
    },
    {
      "cell_type": "code",
      "source": [
        "try:\n",
        "  import torchmetrics, mlxtend\n",
        "  print(f\"mlxtend version: {mlxtend.__version__}\")\n",
        "  assert int(mlxtend.__version__.split(\".\")[1]) >= 19, \"mlxtend version should be 0.19.0 or higher\"\n",
        "except:\n",
        "  !pip install -q torchmetrics -U mlxtend\n",
        "  import torchmetrics, mlxtend\n",
        "  print(f\"mlxtend version: {mlxtend.__version__}\")"
      ],
      "metadata": {
        "id": "leCTsqtSbR5P",
        "colab": {
          "base_uri": "https://localhost:8080/"
        },
        "outputId": "3a82f5ce-ad36-44ca-c9c2-aae7a4273685"
      },
      "execution_count": null,
      "outputs": [
        {
          "output_type": "stream",
          "name": "stdout",
          "text": [
            "\u001b[2K   \u001b[90m━━━━━━━━━━━━━━━━━━━━━━━━━━━━━━━━━━━━━━━━\u001b[0m \u001b[32m962.6/962.6 kB\u001b[0m \u001b[31m14.0 MB/s\u001b[0m eta \u001b[36m0:00:00\u001b[0m\n",
            "\u001b[2K   \u001b[90m━━━━━━━━━━━━━━━━━━━━━━━━━━━━━━━━━━━━━━━━\u001b[0m \u001b[32m363.4/363.4 MB\u001b[0m \u001b[31m1.9 MB/s\u001b[0m eta \u001b[36m0:00:00\u001b[0m\n",
            "\u001b[2K   \u001b[90m━━━━━━━━━━━━━━━━━━━━━━━━━━━━━━━━━━━━━━━━\u001b[0m \u001b[32m13.8/13.8 MB\u001b[0m \u001b[31m46.2 MB/s\u001b[0m eta \u001b[36m0:00:00\u001b[0m\n",
            "\u001b[2K   \u001b[90m━━━━━━━━━━━━━━━━━━━━━━━━━━━━━━━━━━━━━━━━\u001b[0m \u001b[32m24.6/24.6 MB\u001b[0m \u001b[31m31.5 MB/s\u001b[0m eta \u001b[36m0:00:00\u001b[0m\n",
            "\u001b[2K   \u001b[90m━━━━━━━━━━━━━━━━━━━━━━━━━━━━━━━━━━━━━━━━\u001b[0m \u001b[32m883.7/883.7 kB\u001b[0m \u001b[31m19.0 MB/s\u001b[0m eta \u001b[36m0:00:00\u001b[0m\n",
            "\u001b[2K   \u001b[90m━━━━━━━━━━━━━━━━━━━━━━━━━━━━━━━━━━━━━━━\u001b[0m \u001b[32m664.8/664.8 MB\u001b[0m \u001b[31m978.1 kB/s\u001b[0m eta \u001b[36m0:00:00\u001b[0m\n",
            "\u001b[2K   \u001b[90m━━━━━━━━━━━━━━━━━━━━━━━━━━━━━━━━━━━━━━━━\u001b[0m \u001b[32m211.5/211.5 MB\u001b[0m \u001b[31m1.6 MB/s\u001b[0m eta \u001b[36m0:00:00\u001b[0m\n",
            "\u001b[2K   \u001b[90m━━━━━━━━━━━━━━━━━━━━━━━━━━━━━━━━━━━━━━━━\u001b[0m \u001b[32m56.3/56.3 MB\u001b[0m \u001b[31m8.6 MB/s\u001b[0m eta \u001b[36m0:00:00\u001b[0m\n",
            "\u001b[2K   \u001b[90m━━━━━━━━━━━━━━━━━━━━━━━━━━━━━━━━━━━━━━━━\u001b[0m \u001b[32m127.9/127.9 MB\u001b[0m \u001b[31m7.8 MB/s\u001b[0m eta \u001b[36m0:00:00\u001b[0m\n",
            "\u001b[2K   \u001b[90m━━━━━━━━━━━━━━━━━━━━━━━━━━━━━━━━━━━━━━━━\u001b[0m \u001b[32m207.5/207.5 MB\u001b[0m \u001b[31m1.3 MB/s\u001b[0m eta \u001b[36m0:00:00\u001b[0m\n",
            "\u001b[2K   \u001b[90m━━━━━━━━━━━━━━━━━━━━━━━━━━━━━━━━━━━━━━━━\u001b[0m \u001b[32m21.1/21.1 MB\u001b[0m \u001b[31m81.1 MB/s\u001b[0m eta \u001b[36m0:00:00\u001b[0m\n",
            "\u001b[?25hmlxtend version: 0.23.4\n"
          ]
        }
      ]
    },
    {
      "cell_type": "code",
      "source": [
        "from mlxtend.plotting import plot_confusion_matrix\n",
        "from torchmetrics import ConfusionMatrix\n",
        "\n",
        "conf_matrix_inst = ConfusionMatrix(task=\"multiclass\",\n",
        "                                   num_classes=len(label_classes))\n",
        "conf_matrix_tensor = conf_matrix_inst(preds=y_prediction_tensor,\n",
        "                                      target=testing_dataset_mnist.targets)\n",
        "\n",
        "fig, ax = plot_confusion_matrix(conf_mat=conf_matrix_tensor.numpy(),\n",
        "                      figsize=(8, 8),\n",
        "                      class_names=label_classes)"
      ],
      "metadata": {
        "id": "vSrXiT_AbQ6e",
        "colab": {
          "base_uri": "https://localhost:8080/",
          "height": 744
        },
        "outputId": "9c9f72b1-2e13-4096-f129-9f721d3a39ae"
      },
      "execution_count": null,
      "outputs": [
        {
          "output_type": "display_data",
          "data": {
            "text/plain": [
              "<Figure size 800x800 with 1 Axes>"
            ],
            "image/png": "[encoded data removed]"
          },
          "metadata": {}
        }
      ]
    },
    {
      "cell_type": "markdown",
      "source": [
        "## 12.0 Create a random tensor of shape `[1, 3, 64, 64]` and pass it through a `nn.Conv2d()` layer with various hyperparameter settings (these can be any settings you choose), what do you notice if the `kernel_size` parameter goes up and down?"
      ],
      "metadata": {
        "id": "lj6bDhoWxt2y"
      }
    },
    {
      "cell_type": "code",
      "source": [
        "random_tensor = torch.rand(size=(1, 3, 64, 64))\n",
        "conv_layer = nn.Conv2d(in_channels=3,\n",
        "                       out_channels=3,\n",
        "                       kernel_size=1,\n",
        "                       stride=1,\n",
        "                       padding=1)\n",
        "conv_layer(random_tensor)"
      ],
      "metadata": {
        "colab": {
          "base_uri": "https://localhost:8080/"
        },
        "id": "tOvyULozm1bg",
        "outputId": "b5812951-7958-4a9e-d659-e5259c38aefb"
      },
      "execution_count": null,
      "outputs": [
        {
          "output_type": "execute_result",
          "data": {
            "text/plain": [
              "tensor([[[[ 0.1404,  0.1404,  0.1404,  ...,  0.1404,  0.1404,  0.1404],\n",
              "          [ 0.1404,  0.6561,  0.7106,  ...,  0.7982,  0.6387,  0.1404],\n",
              "          [ 0.1404,  0.9253,  0.8421,  ...,  0.7777,  0.6849,  0.1404],\n",
              "          ...,\n",
              "          [ 0.1404,  0.9698,  0.8599,  ...,  0.7771,  0.7544,  0.1404],\n",
              "          [ 0.1404,  0.2781,  0.6294,  ...,  0.6983,  0.4821,  0.1404],\n",
              "          [ 0.1404,  0.1404,  0.1404,  ...,  0.1404,  0.1404,  0.1404]],\n",
              "\n",
              "         [[ 0.1412,  0.1412,  0.1412,  ...,  0.1412,  0.1412,  0.1412],\n",
              "          [ 0.1412,  0.4024,  0.4198,  ...,  0.3830,  0.2379,  0.1412],\n",
              "          [ 0.1412,  0.4165,  0.5931,  ...,  0.4563,  0.2442,  0.1412],\n",
              "          ...,\n",
              "          [ 0.1412,  0.4856,  0.4842,  ...,  0.3255,  0.4206,  0.1412],\n",
              "          [ 0.1412,  0.1925,  0.3930,  ...,  0.5174,  0.2923,  0.1412],\n",
              "          [ 0.1412,  0.1412,  0.1412,  ...,  0.1412,  0.1412,  0.1412]],\n",
              "\n",
              "         [[-0.0933, -0.0933, -0.0933,  ..., -0.0933, -0.0933, -0.0933],\n",
              "          [-0.0933,  0.0321,  0.0929,  ...,  0.0055,  0.2170, -0.0933],\n",
              "          [-0.0933,  0.0450,  0.1633,  ...,  0.1849, -0.1115, -0.0933],\n",
              "          ...,\n",
              "          [-0.0933,  0.1771,  0.0177,  ...,  0.0718,  0.0102, -0.0933],\n",
              "          [-0.0933,  0.0299,  0.2009,  ..., -0.0084,  0.2615, -0.0933],\n",
              "          [-0.0933, -0.0933, -0.0933,  ..., -0.0933, -0.0933, -0.0933]]]],\n",
              "       grad_fn=<ConvolutionBackward0>)"
            ]
          },
          "metadata": {},
          "execution_count": 134
        }
      ]
    },
    {
      "cell_type": "markdown",
      "source": [
        "## 13.0 Use a model similar to the trained `model_2` from notebook 03 to make predictions on the test [`torchvision.datasets.FashionMNIST`](https://pytorch.org/vision/main/generated/torchvision.datasets.FashionMNIST.html) dataset.\n",
        "* Then plot some predictions where the model was wrong alongside what the label of the image should've been.\n",
        "* After visualing these predictions do you think it's more of a modelling error or a data error?\n",
        "* As in, could the model do better or are the labels of the data too close to each other (e.g. a \"Shirt\" label is too close to \"T-shirt/top\")?"
      ],
      "metadata": {
        "id": "VHS20cNTxwSi"
      }
    },
    {
      "cell_type": "code",
      "source": [
        "# Identified wrong predictions and extracted 5 examples when model_02 was wrong\n",
        "wrong_predictions = torch.where(y_prediction_tensor != testing_dataset_mnist.targets)[0]\n",
        "\n",
        "# Select 5 random wrong prediction indices\n",
        "random_wrong_predictions = random.sample(wrong_predictions.tolist(), k=min(5, len(wrong_predictions)))\n",
        "\n",
        "# Plot 5 wrong predictions\n",
        "plt.figure(figsize=(10, 10))\n",
        "for i, wrong_index in enumerate(random_wrong_predictions):\n",
        "    plt.subplot(1, 5, i + 1)\n",
        "    image, true_label = testing_dataset_mnist[wrong_index]\n",
        "    predicted_label = y_prediction_tensor[wrong_index]\n",
        "\n",
        "    plt.imshow(image.squeeze(), cmap=\"gray\")\n",
        "    plt.title(f\"Predicted: {label_classes[predicted_label]}\\nTruth: {label_classes[true_label]}\", color=\"red\")\n",
        "    plt.axis(\"off\")\n",
        "\n",
        "plt.tight_layout()\n",
        "plt.show()"
      ],
      "metadata": {
        "id": "78a8LjtdbSZj",
        "colab": {
          "base_uri": "https://localhost:8080/",
          "height": 262
        },
        "outputId": "dc0744ba-4637-4167-964b-c3ff26428387"
      },
      "execution_count": null,
      "outputs": [
        {
          "output_type": "display_data",
          "data": {
            "text/plain": [
              "<Figure size 1000x1000 with 5 Axes>"
            ],
            "image/png": "[encoded data removed]"
          },
          "metadata": {}
        }
      ]
    }
  ]
}
