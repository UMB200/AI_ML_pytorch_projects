{
  "cells": [
    {
      "cell_type": "markdown",
      "metadata": {
        "id": "view-in-github",
        "colab_type": "text"
      },
      "source": [
        "<a href=\"https://colab.research.google.com/github/UMB200/pytorch_projects/blob/main/08_pytorch_paper_replicating_exercises.ipynb\" target=\"_parent\"><img src=\"https://colab.research.google.com/assets/colab-badge.svg\" alt=\"Open In Colab\"/></a>"
      ]
    },
    {
      "cell_type": "markdown",
      "metadata": {
        "id": "zNqPNlYylluR"
      },
      "source": [
        "# 08. PyTorch Paper Replicating Exercises\n",
        "\n",
        "Welcome to the 08. PyTorch Paper Replicating exercises.\n",
        "\n",
        "Your objective is to write code to satisify each of the exercises below.\n",
        "\n",
        "Some starter code has been provided to make sure you have all the resources you need.\n",
        "\n",
        "> **Note:** There may be more than one solution to each of the exercises.\n",
        "\n",
        "## Resources\n",
        "\n",
        "1. These exercises/solutions are based on [section 08. PyTorch Paper Replicating](https://www.learnpytorch.io/08_pytorch_paper_replicating/) of the Learn PyTorch for Deep Learning course by Zero to Mastery.\n",
        "2. See a live [walkthrough of the solutions (errors and all) on YouTube](https://youtu.be/tjpW_BY8y3g) (but try the exercises yourself first!).\n",
        "3. See [all solutions on the course GitHub](https://github.com/mrdbourke/pytorch-deep-learning/tree/main/extras/solutions).\n",
        "\n",
        "> **Note:** The first section of this notebook is dedicated to getting various helper functions and datasets used for the exercises. The exercises start at the heading \"Exercise 1: ...\"."
      ]
    },
    {
      "cell_type": "markdown",
      "metadata": {
        "id": "sf8ab9cyHTzU"
      },
      "source": [
        "### 1.0 Get various imports and helper functions\n",
        "\n",
        "The code in the following cells prepares imports and data for the exercises below. They are taken from [08. PyTorch Paper Replicating](https://www.learnpytorch.io/08_pytorch_paper_replicating/)."
      ]
    },
    {
      "cell_type": "code",
      "execution_count": 2,
      "metadata": {
        "colab": {
          "base_uri": "https://localhost:8080/"
        },
        "id": "ChRaHUSJ8DYZ",
        "outputId": "2fb615ce-2517-41cd-900a-fa33d40897f3"
      },
      "outputs": [
        {
          "output_type": "stream",
          "name": "stdout",
          "text": [
            "[INFO] torch/torchvision versions not as required, installing nightly versions.\n",
            "Looking in indexes: https://pypi.org/simple, https://download.pytorch.org/whl/nightly/cu113\n",
            "Requirement already satisfied: torch in /usr/local/lib/python3.12/dist-packages (2.8.0+cu126)\n",
            "Requirement already satisfied: torchvision in /usr/local/lib/python3.12/dist-packages (0.23.0+cu126)\n",
            "Requirement already satisfied: torchaudio in /usr/local/lib/python3.12/dist-packages (2.8.0+cu126)\n",
            "Requirement already satisfied: filelock in /usr/local/lib/python3.12/dist-packages (from torch) (3.19.1)\n",
            "Requirement already satisfied: typing-extensions>=4.10.0 in /usr/local/lib/python3.12/dist-packages (from torch) (4.15.0)\n",
            "Requirement already satisfied: setuptools in /usr/local/lib/python3.12/dist-packages (from torch) (75.2.0)\n",
            "Requirement already satisfied: sympy>=1.13.3 in /usr/local/lib/python3.12/dist-packages (from torch) (1.13.3)\n",
            "Requirement already satisfied: networkx in /usr/local/lib/python3.12/dist-packages (from torch) (3.5)\n",
            "Requirement already satisfied: jinja2 in /usr/local/lib/python3.12/dist-packages (from torch) (3.1.6)\n",
            "Requirement already satisfied: fsspec in /usr/local/lib/python3.12/dist-packages (from torch) (2025.3.0)\n",
            "Requirement already satisfied: nvidia-cuda-nvrtc-cu12==12.6.77 in /usr/local/lib/python3.12/dist-packages (from torch) (12.6.77)\n",
            "Requirement already satisfied: nvidia-cuda-runtime-cu12==12.6.77 in /usr/local/lib/python3.12/dist-packages (from torch) (12.6.77)\n",
            "Requirement already satisfied: nvidia-cuda-cupti-cu12==12.6.80 in /usr/local/lib/python3.12/dist-packages (from torch) (12.6.80)\n",
            "Requirement already satisfied: nvidia-cudnn-cu12==9.10.2.21 in /usr/local/lib/python3.12/dist-packages (from torch) (9.10.2.21)\n",
            "Requirement already satisfied: nvidia-cublas-cu12==12.6.4.1 in /usr/local/lib/python3.12/dist-packages (from torch) (12.6.4.1)\n",
            "Requirement already satisfied: nvidia-cufft-cu12==11.3.0.4 in /usr/local/lib/python3.12/dist-packages (from torch) (11.3.0.4)\n",
            "Requirement already satisfied: nvidia-curand-cu12==10.3.7.77 in /usr/local/lib/python3.12/dist-packages (from torch) (10.3.7.77)\n",
            "Requirement already satisfied: nvidia-cusolver-cu12==11.7.1.2 in /usr/local/lib/python3.12/dist-packages (from torch) (11.7.1.2)\n",
            "Requirement already satisfied: nvidia-cusparse-cu12==12.5.4.2 in /usr/local/lib/python3.12/dist-packages (from torch) (12.5.4.2)\n",
            "Requirement already satisfied: nvidia-cusparselt-cu12==0.7.1 in /usr/local/lib/python3.12/dist-packages (from torch) (0.7.1)\n",
            "Requirement already satisfied: nvidia-nccl-cu12==2.27.3 in /usr/local/lib/python3.12/dist-packages (from torch) (2.27.3)\n",
            "Requirement already satisfied: nvidia-nvtx-cu12==12.6.77 in /usr/local/lib/python3.12/dist-packages (from torch) (12.6.77)\n",
            "Requirement already satisfied: nvidia-nvjitlink-cu12==12.6.85 in /usr/local/lib/python3.12/dist-packages (from torch) (12.6.85)\n",
            "Requirement already satisfied: nvidia-cufile-cu12==1.11.1.6 in /usr/local/lib/python3.12/dist-packages (from torch) (1.11.1.6)\n",
            "Requirement already satisfied: triton==3.4.0 in /usr/local/lib/python3.12/dist-packages (from torch) (3.4.0)\n",
            "Requirement already satisfied: numpy in /usr/local/lib/python3.12/dist-packages (from torchvision) (2.0.2)\n",
            "Requirement already satisfied: pillow!=8.3.*,>=5.3.0 in /usr/local/lib/python3.12/dist-packages (from torchvision) (11.3.0)\n",
            "Requirement already satisfied: mpmath<1.4,>=1.1.0 in /usr/local/lib/python3.12/dist-packages (from sympy>=1.13.3->torch) (1.3.0)\n",
            "Requirement already satisfied: MarkupSafe>=2.0 in /usr/local/lib/python3.12/dist-packages (from jinja2->torch) (3.0.3)\n",
            "torch version: 2.8.0+cu126\n",
            "torchvision version: 0.23.0+cu126\n"
          ]
        }
      ],
      "source": [
        "# For this notebook to run with updated APIs, we need torch 1.12+ and torchvision 0.13+\n",
        "try:\n",
        "    import torch\n",
        "    import torchvision\n",
        "    assert int(torch.__version__.split(\".\")[1]) >= 12, \"torch version should be 1.12+\"\n",
        "    assert int(torchvision.__version__.split(\".\")[1]) >= 13, \"torchvision version should be 0.13+\"\n",
        "    print(f\"torch version: {torch.__version__}\")\n",
        "    print(f\"torchvision version: {torchvision.__version__}\")\n",
        "except:\n",
        "    print(f\"[INFO] torch/torchvision versions not as required, installing nightly versions.\")\n",
        "    !pip3 install -U --pre torch torchvision torchaudio --extra-index-url https://download.pytorch.org/whl/nightly/cu113\n",
        "    import torch\n",
        "    import torchvision\n",
        "    print(f\"torch version: {torch.__version__}\")\n",
        "    print(f\"torchvision version: {torchvision.__version__}\")\n"
      ]
    },
    {
      "cell_type": "code",
      "execution_count": 3,
      "metadata": {
        "colab": {
          "base_uri": "https://localhost:8080/"
        },
        "id": "Y5H5P8EjCNGK",
        "outputId": "9ad363ce-bdbf-40d7-fd61-66f49b032fbe"
      },
      "outputs": [
        {
          "output_type": "stream",
          "name": "stdout",
          "text": [
            "[INFO] Couldn't find torchinfo... installing it.\n",
            "[INFO] Couldn't find going_modular or helper_functions scripts... downloading them from GitHub.\n",
            "Cloning into 'pytorch-deep-learning'...\n",
            "remote: Enumerating objects: 4393, done.\u001b[K\n",
            "remote: Total 4393 (delta 0), reused 0 (delta 0), pack-reused 4393 (from 1)\u001b[K\n",
            "Receiving objects: 100% (4393/4393), 764.14 MiB | 37.34 MiB/s, done.\n",
            "Resolving deltas: 100% (2657/2657), done.\n",
            "Updating files: 100% (248/248), done.\n"
          ]
        }
      ],
      "source": [
        "# Continue with regular imports\n",
        "import matplotlib.pyplot as plt\n",
        "import torch\n",
        "import torchvision\n",
        "\n",
        "from torch import nn\n",
        "from torchvision import transforms\n",
        "\n",
        "# Try to get torchinfo, install it if it doesn't work\n",
        "try:\n",
        "    from torchinfo import summary\n",
        "except:\n",
        "    print(\"[INFO] Couldn't find torchinfo... installing it.\")\n",
        "    !pip install -q torchinfo\n",
        "    from torchinfo import summary\n",
        "\n",
        "# Try to import the going_modular directory, download it from GitHub if it doesn't work\n",
        "try:\n",
        "    from going_modular.going_modular import data_setup, engine\n",
        "    from helper_functions import download_data, set_seeds, plot_loss_curves\n",
        "except:\n",
        "    # Get the going_modular scripts\n",
        "    print(\"[INFO] Couldn't find going_modular or helper_functions scripts... downloading them from GitHub.\")\n",
        "    !git clone https://github.com/mrdbourke/pytorch-deep-learning\n",
        "    !mv pytorch-deep-learning/going_modular .\n",
        "    !mv pytorch-deep-learning/helper_functions.py . # get the helper_functions.py script\n",
        "    !rm -rf pytorch-deep-learning\n",
        "    from going_modular.going_modular import data_setup, engine\n",
        "    from helper_functions import download_data, set_seeds, plot_loss_curves"
      ]
    },
    {
      "cell_type": "code",
      "execution_count": 4,
      "metadata": {
        "colab": {
          "base_uri": "https://localhost:8080/",
          "height": 35
        },
        "id": "bE1AAH_uCjiP",
        "outputId": "7b5e8808-da9d-438c-e4f5-a8497cc12b53"
      },
      "outputs": [
        {
          "output_type": "execute_result",
          "data": {
            "text/plain": [
              "'cuda'"
            ],
            "application/vnd.google.colaboratory.intrinsic+json": {
              "type": "string"
            }
          },
          "metadata": {},
          "execution_count": 4
        }
      ],
      "source": [
        "device = \"cuda\" if torch.cuda.is_available() else \"cpu\"\n",
        "device"
      ]
    },
    {
      "cell_type": "markdown",
      "metadata": {
        "id": "GmS5yuvxCpLp"
      },
      "source": [
        "### 2.0 Get data\n",
        "\n",
        "Want to download the data we've been using in PyTorch Paper Replicating: https://www.learnpytorch.io/08_pytorch_paper_replicating/#1-get-data"
      ]
    },
    {
      "cell_type": "code",
      "execution_count": 5,
      "metadata": {
        "colab": {
          "base_uri": "https://localhost:8080/"
        },
        "id": "dm772wqgCzN9",
        "outputId": "a7052f2e-6457-4c0c-927c-f695297a347b"
      },
      "outputs": [
        {
          "output_type": "stream",
          "name": "stdout",
          "text": [
            "[INFO] Did not find data/pizza_steak_sushi directory, creating one...\n",
            "[INFO] Downloading pizza_steak_sushi.zip from https://github.com/mrdbourke/pytorch-deep-learning/raw/main/data/pizza_steak_sushi.zip...\n",
            "[INFO] Unzipping pizza_steak_sushi.zip data...\n"
          ]
        },
        {
          "output_type": "execute_result",
          "data": {
            "text/plain": [
              "PosixPath('data/pizza_steak_sushi')"
            ]
          },
          "metadata": {},
          "execution_count": 5
        }
      ],
      "source": [
        "# Download pizza, steak, sushi images from GitHub\n",
        "image_path = download_data(source=\"https://github.com/mrdbourke/pytorch-deep-learning/raw/main/data/pizza_steak_sushi.zip\",\n",
        "                           destination=\"pizza_steak_sushi\")\n",
        "image_path"
      ]
    },
    {
      "cell_type": "code",
      "execution_count": 6,
      "metadata": {
        "id": "r1ML2c-dCzCi"
      },
      "outputs": [],
      "source": [
        "# Setup directory paths to train and test images\n",
        "train_dir = image_path / \"train\"\n",
        "test_dir = image_path / \"test\""
      ]
    },
    {
      "cell_type": "markdown",
      "metadata": {
        "id": "nNBZ_2h_Cy86"
      },
      "source": [
        "### 3.0 Preprocess data\n",
        "\n",
        "Turn images into tensors using same code as PyTorch Paper Replicating section 2.1 and 2.2: https://www.learnpytorch.io/08_pytorch_paper_replicating/#21-prepare-transforms-for-images"
      ]
    },
    {
      "cell_type": "code",
      "execution_count": 7,
      "metadata": {
        "colab": {
          "base_uri": "https://localhost:8080/"
        },
        "id": "mU0T4gP3DJdF",
        "outputId": "f4f6c1e9-6f84-4e32-c61b-87bdb78a585b"
      },
      "outputs": [
        {
          "output_type": "stream",
          "name": "stdout",
          "text": [
            "Manually created transforms: Compose(\n",
            "    Resize(size=(224, 224), interpolation=bilinear, max_size=None, antialias=True)\n",
            "    ToTensor()\n",
            ")\n"
          ]
        }
      ],
      "source": [
        "# Create image size (from Table 3 in the ViT paper)\n",
        "IMG_SIZE = 224\n",
        "\n",
        "# Create transform pipeline manually\n",
        "manual_transforms = transforms.Compose([\n",
        "    transforms.Resize((IMG_SIZE, IMG_SIZE)),\n",
        "    transforms.ToTensor(),\n",
        "])\n",
        "print(f\"Manually created transforms: {manual_transforms}\")"
      ]
    },
    {
      "cell_type": "code",
      "execution_count": 8,
      "metadata": {
        "colab": {
          "base_uri": "https://localhost:8080/"
        },
        "id": "W4vWgIprDJau",
        "outputId": "4ce10280-c682-402c-972e-de0198dffa32"
      },
      "outputs": [
        {
          "output_type": "execute_result",
          "data": {
            "text/plain": [
              "(<torch.utils.data.dataloader.DataLoader at 0x7af0c22235f0>,\n",
              " <torch.utils.data.dataloader.DataLoader at 0x7af0c22221b0>,\n",
              " ['pizza', 'steak', 'sushi'])"
            ]
          },
          "metadata": {},
          "execution_count": 8
        }
      ],
      "source": [
        "# Set the batch size\n",
        "BATCH_SIZE = 32 # this is lower than the ViT paper but it's because we're starting small\n",
        "\n",
        "# Create data loaders\n",
        "train_dataloader, test_dataloader, class_names = data_setup.create_dataloaders(\n",
        "    train_dir=train_dir,\n",
        "    test_dir=test_dir,\n",
        "    transform=manual_transforms, # use manually created transforms\n",
        "    batch_size=BATCH_SIZE\n",
        ")\n",
        "\n",
        "train_dataloader, test_dataloader, class_names"
      ]
    },
    {
      "cell_type": "code",
      "execution_count": 9,
      "metadata": {
        "colab": {
          "base_uri": "https://localhost:8080/"
        },
        "id": "u7eLIFHyDJRr",
        "outputId": "8f860cda-8b97-4074-b770-667ee5d0fa65"
      },
      "outputs": [
        {
          "output_type": "execute_result",
          "data": {
            "text/plain": [
              "(torch.Size([3, 224, 224]), tensor(2))"
            ]
          },
          "metadata": {},
          "execution_count": 9
        }
      ],
      "source": [
        "# Get a batch of images\n",
        "image_batch, label_batch = next(iter(train_dataloader))\n",
        "\n",
        "# Get a single image from the batch\n",
        "image, label = image_batch[0], label_batch[0]\n",
        "\n",
        "# View the batch shapes\n",
        "image.shape, label"
      ]
    },
    {
      "cell_type": "code",
      "execution_count": 10,
      "metadata": {
        "colab": {
          "base_uri": "https://localhost:8080/",
          "height": 428
        },
        "id": "2yyNHCmCDbSR",
        "outputId": "d25ab689-bc69-4e08-d889-5909aae80d60"
      },
      "outputs": [
        {
          "output_type": "display_data",
          "data": {
            "text/plain": [
              "<Figure size 640x480 with 1 Axes>"
            ],
            "image/png": "[encoded data removed]"
          },
          "metadata": {}
        }
      ],
      "source": [
        "# Plot image with matplotlib\n",
        "plt.imshow(image.permute(1, 2, 0)) # rearrange image dimensions to suit matplotlib [color_channels, height, width] -> [height, width, color_channels]\n",
        "plt.title(class_names[label])\n",
        "plt.axis(False);"
      ]
    },
    {
      "cell_type": "markdown",
      "metadata": {
        "id": "nwmoMhW8IqSu"
      },
      "source": [
        "## 4.0 Replicate the ViT architecture we created with in-built [PyTorch transformer layers](https://pytorch.org/docs/stable/nn.html#transformer-layers).\n",
        "\n",
        "* You'll want to look into replacing our `TransformerEncoderBlock()` class with [`torch.nn.TransformerEncoderLayer()`](https://pytorch.org/docs/stable/generated/torch.nn.TransformerEncoderLayer.html#torch.nn.TransformerEncoderLayer) (these contain the same layers as our custom blocks).\n",
        "* You can stack `torch.nn.TransformerEncoderLayer()`'s on top of each other with [`torch.nn.TransformerEncoder()`](https://pytorch.org/docs/stable/generated/torch.nn.TransformerEncoder.html#torch.nn.TransformerEncoder)."
      ]
    },
    {
      "cell_type": "code",
      "source": [
        "# Params to use later\n",
        "PATCH_SIZE = 16\n",
        "EMBEDDING_DIM = 768\n",
        "NUMBER_OF_HEADS = 12\n",
        "MLP_SIZE = 3072"
      ],
      "metadata": {
        "id": "u171-NsSLR2V"
      },
      "execution_count": 11,
      "outputs": []
    },
    {
      "cell_type": "code",
      "source": [
        "# Processes relatioship between different image patches,\n",
        "# 10/7/25\n",
        "class MSABlock(nn.Module):\n",
        "  def __init__(self,\n",
        "               embedding_dim:int=EMBEDDING_DIM,\n",
        "               number_heads:int=NUMBER_OF_HEADS,\n",
        "               dropout:float=0):\n",
        "    super().__init__()\n",
        "\n",
        "    # Applies Layer Normalization to the input. This helps stabilize training by normalizing the inputs to the attention mechanism.\n",
        "    self.layer_norm = nn.LayerNorm(normalized_shape=embedding_dim)\n",
        "\n",
        "    # Uses a nn.MultiheadAttention layer. This layer calculates attention scores between all pairs of patches in the input sequence. By using multiple \"heads,\" the model can learn different types of relationships simultaneously. The output of this layer is a weighted sum of the patch embeddings, where the weights are determined by the attention scores. This allows the model to focus on the most relevant patches for each patch in the sequence.\n",
        "    self.multihead_attention = nn.MultiheadAttention(embed_dim=embedding_dim,\n",
        "                                                      num_heads=number_heads,\n",
        "                                                      dropout=dropout,\n",
        "                                                     batch_first=True)\n",
        "\n",
        "  def forward(self, x):\n",
        "    x = self.layer_norm(x)\n",
        "    attn_output, _ = self.multihead_attention(query=x,\n",
        "                                               key=x,\n",
        "                                               value=x)\n",
        "    return attn_output"
      ],
      "metadata": {
        "id": "fi1XjifSIpCg"
      },
      "execution_count": 12,
      "outputs": []
    },
    {
      "cell_type": "code",
      "source": [
        "# 10/7/25\n",
        "# Process the output of the attention mechanism, allowing the model to learn more complex transformations of the patch embeddings and extract higher-level features\n",
        "class MLPBlock(nn.Module):\n",
        "  def __init__(self,\n",
        "               embed_dim:int=EMBEDDING_DIM,\n",
        "               mlp_size:int=MLP_SIZE,\n",
        "               dropout:float=0.1):\n",
        "    super().__init__()\n",
        "\n",
        "    self.layer_norm = nn.LayerNorm(normalized_shape=embed_dim)\n",
        "\n",
        "    self.mlp = nn.Sequential(nn.Linear(\n",
        "        in_features=embed_dim,\n",
        "        out_features=mlp_size),\n",
        "        nn.GELU(),\n",
        "        nn.Dropout(p=dropout),\n",
        "        nn.Linear(\n",
        "            in_features=mlp_size,\n",
        "            out_features=embed_dim),\n",
        "        nn.Dropout(p=dropout))\n",
        "\n",
        "  def forward(self, x):\n",
        "    x = self.layer_norm(x)\n",
        "    x = self.mlp(x)\n",
        "    return x"
      ],
      "metadata": {
        "id": "RYENvt9HIr22"
      },
      "execution_count": 13,
      "outputs": []
    },
    {
      "cell_type": "code",
      "source": [
        "# Combines MSA block and MLP block with residual connections\n",
        "# 10/6/25\n",
        "class TransformerEncoderBlock(nn.Module):\n",
        "  def __init__(self,\n",
        "               embedding_dimension:int=EMBEDDING_DIM,\n",
        "               number_heads:int=NUMBER_OF_HEADS,\n",
        "               mlp_size:int=MLP_SIZE,\n",
        "               mlp_dropout:float=0.1,\n",
        "               attn_dropout:float=0.1):\n",
        "    super().__init__()\n",
        "\n",
        "    self.msa_block = MSABlock(embedding_dim=embedding_dimension,\n",
        "                              number_heads=number_heads,\n",
        "                              dropout=attn_dropout)\n",
        "\n",
        "    self.mlp_block = MLPBlock(embedding_dim=embedding_dimension,\n",
        "                              mlp_size=mlp_size,\n",
        "                              dropout=mlp_dropout)\n",
        "\n",
        "  def forward(self, x):\n",
        "    return x + self.msa_block(x) + self.mlp_block(x)"
      ],
      "metadata": {
        "id": "28sw8fC_H3cO"
      },
      "execution_count": 14,
      "outputs": []
    },
    {
      "cell_type": "code",
      "source": [
        "# Replicating patch embedding step of ViT\n",
        "# 10/6/25 create a class ti support ViT\n",
        "\n",
        "class ViTPatchEmbedding(nn.Module):\n",
        "  def __init__(self,\n",
        "               in_channels:int=2,\n",
        "               patch_size:int=PATCH_SIZE,\n",
        "               embedding_dimension:int=EMBEDDING_DIM):\n",
        "    super().__init__()\n",
        "\n",
        "    self.patcher = nn.Conv2D=d(in_channels=in_channels,\n",
        "                               out_channels=EMBEDDING_DIM,\n",
        "                               kernel_size=PATCH_SIZE,\n",
        "                               padding=0)\n",
        "    self.flatten = nn.Flatten(start_dim=2, end_dim=3)\n",
        "\n",
        "  def forward(self, x):\n",
        "    img_resolution = x.shape[-1]\n",
        "    assert img_resolution % PATCH_SIZE == 0, f\"image resolution ({img_resolution}) must be divisible by patch size ({PATCH_SIZE})\"\n",
        "    x_patched = self.patcher(x)\n",
        "    x_flattened = self.flatten(x_patched)\n",
        "    return x_flattened.permute(0, 2, 1)"
      ],
      "metadata": {
        "id": "7qUU1iOjEBOm"
      },
      "execution_count": 15,
      "outputs": []
    },
    {
      "cell_type": "code",
      "execution_count": 16,
      "metadata": {
        "id": "pmDd_YZ7VSrL"
      },
      "outputs": [],
      "source": [
        "# 10/6/25 create a class and initate values\n",
        "class ViT_arch_class(nn.Module):\n",
        "  def __init__(self,\n",
        "               img_size: int=IMG_SIZE,\n",
        "               in_channels: int=3,\n",
        "               patch_size: int=PATCH_SIZE,\n",
        "               number_transform_layers: int=12,\n",
        "               embedding_dim: int=EMBEDDING_DIM,\n",
        "               mlp_size: int=MLP_SIZE,\n",
        "               number_heads: int=NUMBER_OF_HEADS,\n",
        "               dropout: float=0.1,\n",
        "               mlp_dropout: float=0.1,\n",
        "               emb_dropout: float=0.1,\n",
        "               num_classes: int=len(class_names)):\n",
        "    super().__init__()\n",
        "\n",
        "    assert img_size % patch_size == 0, f\"image size must be divisible by patch size, image size: {img_size}, patch size: {patch_size}\"\n",
        "\n",
        "    self.num_patch = (img_size * patch_size) // patch_size**2\n",
        "\n",
        "    self.class_embedding = nn.Parameter(data=torch.randn(1, 1, embedding_dim), requires_grad=True)\n",
        "\n",
        "    self.position_embedding = nn.Parameter(data=torch.randn(1, self.num_patch+1, embedding_dim), requires_grad=True)\n",
        "\n",
        "    self.emb_dropout = nn.Dropout(p=emb_dropout)\n",
        "\n",
        "    self.patch_embedding = ViTPatchEmbedding(in_channels=in_channels,\n",
        "                                             patch_size=patch_size,\n",
        "                                             embedding_dimension=embedding_dim)\n",
        "\n",
        "    self.transformer_encoder = nn.Sequential(*[\n",
        "        TransformerEncoderBlock(\n",
        "            embedding_dimension=embedding_dim,\n",
        "            number_heads=number_heads,\n",
        "            mlp_size=mlp_size,\n",
        "            mlp_dropout=mlp_dropout,\n",
        "            attn_dropout=dropout)\n",
        "          for _ in range(number_transform_layers)])\n",
        "\n",
        "    self.classifier_head = nn.Sequential(\n",
        "        nn.LayerNorm(normalized_shape=embedding_dim),\n",
        "        nn.Linear(in_features=embedding_dim, out_features=num_classes))\n",
        "\n",
        "  def forward(self, x):\n",
        "    batch_size = x.shape[0]\n",
        "    class_token = self.class_embedding.expand(batch_size, -1, -1)\n",
        "    x = self.patch_embedding(x)\n",
        "    x = torch.cat((class_token, x), dim=1)\n",
        "    x = x + self.position_embedding\n",
        "    x = self.emb_dropout(x)\n",
        "    x = self.transformer_encoder(x)\n",
        "    x = self.classifier_head(x[:, 0])\n",
        "    return x"
      ]
    },
    {
      "cell_type": "markdown",
      "metadata": {
        "id": "MBWnDZao9w_5"
      },
      "source": [
        "## 5.0 Turn the custom ViT architecture we created into a Python script, for example, `vit.py`.\n",
        "\n",
        "* You should be able to import an entire ViT model using something like`from vit import ViT`.\n",
        "* We covered the art of turning code cells into Python scrips in [05. PyTorch Going Modular](https://www.learnpytorch.io/05_pytorch_going_modular/).\n"
      ]
    },
    {
      "cell_type": "code",
      "execution_count": 17,
      "metadata": {
        "id": "NFXVZNCzVYgV",
        "colab": {
          "base_uri": "https://localhost:8080/"
        },
        "outputId": "3de97c42-efd3-4a7f-9ecd-d72b780e44e2"
      },
      "outputs": [
        {
          "output_type": "stream",
          "name": "stdout",
          "text": [
            "Writing vit.py\n"
          ]
        }
      ],
      "source": [
        "%%writefile vit.py\n",
        "import torch\n",
        "import torchvision\n",
        "\n",
        "# Params to use later\n",
        "PATCH_SIZE = 16\n",
        "EMBEDDING_DIM = 768\n",
        "NUMBER_OF_HEADS = 12\n",
        "MLP_SIZE = 3072\n",
        "\n",
        "# Processes relatioship between different image patches,\n",
        "class MSABlock(nn.Module):\n",
        "  def __init__(self,\n",
        "               embedding_dim:int=EMBEDDING_DIM,\n",
        "               number_heads:int=NUMBER_OF_HEADS,\n",
        "               dropout:float=0):\n",
        "    super().__init__()\n",
        "\n",
        "    # Applies Layer Normalization to the input. This helps stabilize training by normalizing the inputs to the attention mechanism.\n",
        "    self.layer_norm = nn.LayerNorm(normalized_shape=embedding_dim)\n",
        "\n",
        "    # Uses a nn.MultiheadAttention layer. This layer calculates attention scores between all pairs of patches in the input sequence. By using multiple \"heads,\" the model can learn different types of relationships simultaneously. The output of this layer is a weighted sum of the patch embeddings, where the weights are determined by the attention scores. This allows the model to focus on the most relevant patches for each patch in the sequence.\n",
        "    self.multihead_attention = nn.MultiheadAttention(embed_dim=embedding_dim,\n",
        "                                                      num_heads=number_heads,\n",
        "                                                      dropout=dropout,\n",
        "                                                     batch_first=True)\n",
        "\n",
        "  def forward(self, x):\n",
        "    x = self.layer_norm(x)\n",
        "    attn_output, _ = self.multihead_attention(query=x,\n",
        "                                               key=x,\n",
        "                                               value=x)\n",
        "    return attn_output\n",
        "\n",
        "\n",
        "# Process the output of the attention mechanism, allowing the model to learn more complex transformations of the patch embeddings and extract higher-level features\n",
        "class MLPBlock(nn.Module):\n",
        "  def __init__(self,\n",
        "               embed_dim:int=EMBEDDING_DIM,\n",
        "               mlp_size:int=MLP_SIZE,\n",
        "               dropout:float=0.1):\n",
        "    super().__init__()\n",
        "\n",
        "    self.layer_norm = nn.LayerNorm(normalized_shape=embed_dim)\n",
        "\n",
        "    self.mlp = nn.Sequential(nn.Linear(\n",
        "        in_features=embed_dim,\n",
        "        out_features=mlp_size),\n",
        "        nn.GELU(),\n",
        "        nn.Dropout(p=dropout),\n",
        "        nn.Linear(\n",
        "            in_features=mlp_size,\n",
        "            out_features=embed_dim),\n",
        "        nn.Dropout(p=dropout))\n",
        "\n",
        "  def forward(self, x):\n",
        "    x = self.layer_norm(x)\n",
        "    x = self.mlp(x)\n",
        "    return x\n",
        "\n",
        "\n",
        "# Combines MSA block and MLP block with residual connections\n",
        "class TransformerEncoderBlock(nn.Module):\n",
        "  def __init__(self,\n",
        "               embedding_dimension:int=EMBEDDING_DIM,\n",
        "               number_heads:int=NUMBER_OF_HEADS,\n",
        "               mlp_size:int=MLP_SIZE,\n",
        "               mlp_dropout:float=0.1,\n",
        "               attn_dropout:float=0.1):\n",
        "    super().__init__()\n",
        "\n",
        "    self.msa_block = MSABlock(embedding_dim=embedding_dimension,\n",
        "                              number_heads=number_heads,\n",
        "                              dropout=attn_dropout)\n",
        "\n",
        "    self.mlp_block = MLPBlock(embedding_dim=embedding_dimension,\n",
        "                              mlp_size=mlp_size,\n",
        "                              dropout=mlp_dropout)\n",
        "\n",
        "  def forward(self, x):\n",
        "    return x + self.msa_block(x) + self.mlp_block(x)\n",
        "\n",
        "\n",
        "# Replicating patch embedding step of ViT\n",
        "\n",
        "class ViTPatchEmbedding(nn.Module):\n",
        "  def __init__(self,\n",
        "               in_channels:int=2,\n",
        "               patch_size:int=PATCH_SIZE,\n",
        "               embedding_dimension:int=EMBEDDING_DIM):\n",
        "    super().__init__()\n",
        "\n",
        "    self.patcher = nn.Conv2D=d(in_channels=in_channels,\n",
        "                               out_channels=EMBEDDING_DIM,\n",
        "                               kernel_size=PATCH_SIZE,\n",
        "                               padding=0)\n",
        "    self.flatten = nn.Flatten(start_dim=2, end_dim=3)\n",
        "\n",
        "  def forward(self, x):\n",
        "    img_resolution = x.shape[-1]\n",
        "    assert img_resolution % PATCH_SIZE == 0, f\"image resolution ({img_resolution}) must be divisible by patch size ({PATCH_SIZE})\"\n",
        "    x_patched = self.patcher(x)\n",
        "    x_flattened = self.flatten(x_patched)\n",
        "    return x_flattened.permute(0, 2, 1)\n",
        "\n",
        "\n",
        "class ViT_arch_class(nn.Module):\n",
        "  def __init__(self,\n",
        "               img_size: int=IMG_SIZE,\n",
        "               in_channels: int=3,\n",
        "               patch_size: int=PATCH_SIZE,\n",
        "               number_transform_layers: int=12,\n",
        "               embedding_dim: int=EMBEDDING_DIM,\n",
        "               mlp_size: int=MLP_SIZE,\n",
        "               number_heads: int=NUMBER_OF_HEADS,\n",
        "               dropout: float=0.1,\n",
        "               mlp_dropout: float=0.1,\n",
        "               emb_dropout: float=0.1,\n",
        "               num_classes: int=len(class_names)):\n",
        "    super().__init__()\n",
        "\n",
        "    assert img_size % patch_size == 0, f\"image size must be divisible by patch size, image size: {img_size}, patch size: {patch_size}\"\n",
        "\n",
        "    self.num_patch = (img_size * patch_size) // patch_size**2\n",
        "\n",
        "    self.class_embedding = nn.Parameter(data=torch.randn(1, 1, embedding_dim), requires_grad=True)\n",
        "\n",
        "    self.position_embedding = nn.Parameter(data=torch.randn(1, self.num_patch+1, embedding_dim), requires_grad=True)\n",
        "\n",
        "    self.emb_dropout = nn.Dropout(p=emb_dropout)\n",
        "\n",
        "    self.patch_embedding = ViTPatchEmbedding(in_channels=in_channels,\n",
        "                                             patch_size=patch_size,\n",
        "                                             embedding_dimension=embedding_dim)\n",
        "\n",
        "    self.transformer_encoder = nn.Sequential(*[\n",
        "        TransformerEncoderBlock(\n",
        "            embedding_dimension=embedding_dim,\n",
        "            number_heads=number_heads,\n",
        "            mlp_size=mlp_size,\n",
        "            mlp_dropout=mlp_dropout,\n",
        "            attn_dropout=dropout)\n",
        "          for _ in range(number_transform_layers)])\n",
        "\n",
        "    self.classifier_head = nn.Sequential(\n",
        "        nn.LayerNorm(normalized_shape=embedding_dim),\n",
        "        nn.Linear(in_features=embedding_dim, out_features=num_classes))\n",
        "\n",
        "  def forward(self, x):\n",
        "    batch_size = x.shape[0]\n",
        "    class_token = self.class_embedding.expand(batch_size, -1, -1)\n",
        "    x = self.patch_embedding(x)\n",
        "    x = torch.cat((class_token, x), dim=1)\n",
        "    x = x + self.position_embedding\n",
        "    x = self.emb_dropout(x)\n",
        "    x = self.transformer_encoder(x)\n",
        "    x = self.classifier_head(x[:, 0])\n",
        "    return x"
      ]
    },
    {
      "cell_type": "markdown",
      "metadata": {
        "id": "aTKbje-e9118"
      },
      "source": [
        "## 6.0 Train a pretrained ViT feature extractor model (like the one we made in [08. PyTorch Paper Replicating section 10](https://www.learnpytorch.io/08_pytorch_paper_replicating/#10-bring-in-pretrained-vit-from-torchvisionmodels-on-same-dataset)) on 20% of the pizza, steak and sushi data like the dataset we used in [07. PyTorch Experiment Tracking section 7.3](https://www.learnpytorch.io/07_pytorch_experiment_tracking/#73-download-different-datasets)\n",
        "* See how it performs compared to the EffNetB2 model we compared it to in [08. PyTorch Paper Replicating section 10.6](https://www.learnpytorch.io/08_pytorch_paper_replicating/#106-save-feature-extractor-vit-model-and-check-file-size)."
      ]
    },
    {
      "cell_type": "code",
      "execution_count": 18,
      "metadata": {
        "id": "R7iKYRAUVkA7",
        "colab": {
          "base_uri": "https://localhost:8080/"
        },
        "outputId": "0f4d6a5b-88d6-4d55-8e2c-036a608832c2"
      },
      "outputs": [
        {
          "output_type": "stream",
          "name": "stdout",
          "text": [
            "Downloading: \"https://download.pytorch.org/models/vit_b_16-c867db91.pth\" to /root/.cache/torch/hub/checkpoints/vit_b_16-c867db91.pth\n"
          ]
        },
        {
          "output_type": "stream",
          "name": "stderr",
          "text": [
            "100%|██████████| 330M/330M [00:05<00:00, 63.8MB/s]\n"
          ]
        }
      ],
      "source": [
        "# 10/7/25\n",
        "vit_pretrained_weights = torchvision.models.ViT_B_16_Weights.DEFAULT\n",
        "vit_pretrained_model = torchvision.models.vit_b_16(weights=vit_pretrained_weights).to(device)\n",
        "\n",
        "for param in vit_pretrained_model.parameters():\n",
        "  param.requires_grad = False\n",
        "\n",
        "vit_pretrained_model.heads = nn.Sequential(\n",
        "    nn.LayerNorm(normalized_shape=EMBEDDING_DIM),\n",
        "    nn.Linear(in_features=EMBEDDING_DIM, out_features=len(class_names))\n",
        ").to(device)"
      ]
    },
    {
      "cell_type": "code",
      "source": [
        "data_20_percent = download_data(source=\"https://github.com/mrdbourke/pytorch-deep-learning/raw/main/data/pizza_steak_sushi_20_percent.zip\",\n",
        "                                destination=\"pizza_steak_sushi_20_percent\")"
      ],
      "metadata": {
        "colab": {
          "base_uri": "https://localhost:8080/"
        },
        "id": "jgJPGQV1jENN",
        "outputId": "4ea62f0e-5b8d-4324-94d3-8a862aeb9bd2"
      },
      "execution_count": 19,
      "outputs": [
        {
          "output_type": "stream",
          "name": "stdout",
          "text": [
            "[INFO] Did not find data/pizza_steak_sushi_20_percent directory, creating one...\n",
            "[INFO] Downloading pizza_steak_sushi_20_percent.zip from https://github.com/mrdbourke/pytorch-deep-learning/raw/main/data/pizza_steak_sushi_20_percent.zip...\n",
            "[INFO] Unzipping pizza_steak_sushi_20_percent.zip data...\n"
          ]
        }
      ]
    },
    {
      "cell_type": "code",
      "source": [
        "train_dir_20_percent = data_20_percent / \"train\"\n",
        "test_dir_20_percent = data_20_percent / \"test\""
      ],
      "metadata": {
        "id": "lkcR1ayajg8G"
      },
      "execution_count": 20,
      "outputs": []
    },
    {
      "cell_type": "code",
      "source": [
        "train_dataloader_20_percent, test_dataloader_20_percent, class_names = data_setup.create_dataloaders(\n",
        "    train_dir=train_dir_20_percent,\n",
        "    test_dir=test_dir_20_percent,\n",
        "    transform=vit_pretrained_weights.transforms(),\n",
        "    batch_size=BATCH_SIZE\n",
        ")"
      ],
      "metadata": {
        "id": "kLA6qZzxkOU7"
      },
      "execution_count": 22,
      "outputs": []
    },
    {
      "cell_type": "code",
      "source": [
        "optimizer = torch.optim.Adam(\n",
        "    params=vit_pretrained_model.parameters(),\n",
        "    lr=3e-3)\n",
        "loss_fn = nn.CrossEntropyLoss()"
      ],
      "metadata": {
        "id": "9ICVpw03jn_f"
      },
      "execution_count": 21,
      "outputs": []
    },
    {
      "cell_type": "code",
      "source": [
        "vit_pretrained_model_results = engine.train(\n",
        "    model=vit_pretrained_model,\n",
        "    train_dataloader=train_dataloader_20_percent,\n",
        "    test_dataloader=test_dataloader_20_percent,\n",
        "    optimizer=optimizer,\n",
        "    loss_fn=loss_fn,\n",
        "    epochs=5,\n",
        "    device=device)"
      ],
      "metadata": {
        "colab": {
          "base_uri": "https://localhost:8080/",
          "height": 136,
          "referenced_widgets": [
            "0851fa74a3b04656809b417d395230f6",
            "eaeb6cbfb5d146048cb7022fa5a85c51",
            "377755250980492db75343ff906f3e18",
            "51c74b7704f445b1ba48eb89428183b6",
            "d66f4437321240268f48d0d269ad098c",
            "e96e21e46c5146a79973d7e0313aeaaf",
            "5439577104c2483e99b0f977f2ff66fc",
            "7940d8bf81294eabadc7ca6d6d5b72d9",
            "97525ff7a6e94cbf998d7d330886a88b",
            "b90f177ee8e440569c0cc912b9ebec05",
            "8e1f5cc248234936ab12aaa840efa2c9"
          ]
        },
        "id": "b-r__n-5kEZ1",
        "outputId": "59d5ec26-05b8-412d-ba13-811f3def3b00"
      },
      "execution_count": 23,
      "outputs": [
        {
          "output_type": "display_data",
          "data": {
            "text/plain": [
              "  0%|          | 0/5 [00:00<?, ?it/s]"
            ],
            "application/vnd.jupyter.widget-view+json": {
              "version_major": 2,
              "version_minor": 0,
              "model_id": "0851fa74a3b04656809b417d395230f6"
            }
          },
          "metadata": {}
        },
        {
          "output_type": "stream",
          "name": "stdout",
          "text": [
            "Epoch: 1 | train_loss: 0.3193 | train_acc: 0.8729 | test_loss: 0.0469 | test_acc: 0.9875\n",
            "Epoch: 2 | train_loss: 0.0892 | train_acc: 0.9708 | test_loss: 0.0573 | test_acc: 0.9722\n",
            "Epoch: 3 | train_loss: 0.0409 | train_acc: 0.9896 | test_loss: 0.0533 | test_acc: 0.9784\n",
            "Epoch: 4 | train_loss: 0.0466 | train_acc: 1.0000 | test_loss: 0.0510 | test_acc: 0.9722\n",
            "Epoch: 5 | train_loss: 0.0248 | train_acc: 0.9979 | test_loss: 0.0754 | test_acc: 0.9659\n"
          ]
        }
      ]
    },
    {
      "cell_type": "markdown",
      "metadata": {
        "id": "LH-vHr3m9_oH"
      },
      "source": [
        "## 4. Try repeating the steps from excercise 3 but this time use the \"`ViT_B_16_Weights.IMAGENET1K_SWAG_E2E_V1`\" pretrained weights from [`torchvision.models.vit_b_16()`](https://pytorch.org/vision/stable/models/generated/torchvision.models.vit_b_16.html#torchvision.models.vit_b_16).\n",
        "* Note: ViT pretrained with SWAG weights has a minimum input image size of (384, 384), though this is accessible in the weights `.transforms()` method."
      ]
    },
    {
      "cell_type": "code",
      "execution_count": 37,
      "metadata": {
        "id": "dWxceTz3VmeB"
      },
      "outputs": [],
      "source": [
        "# 10/7/25\n",
        "vit_pretrained_weights_swag = torchvision.models.ViT_B_16_Weights.IMAGENET1K_SWAG_E2E_V1\n",
        "vit_pretrained_model_swag = torchvision.models.vit_b_16(weights=vit_pretrained_weights_swag).to(device)\n",
        "\n",
        "for param in vit_pretrained_model_swag.parameters():\n",
        "  param.requires_grad = False\n",
        "\n",
        "vit_pretrained_model_swag.heads = nn.Sequential(\n",
        "    nn.LayerNorm(normalized_shape=EMBEDDING_DIM),\n",
        "    nn.Linear(in_features=EMBEDDING_DIM, out_features=len(class_names))\n",
        ").to(device)\n",
        "\n",
        "adjusted_transforms = vit_pretrained_weights_swag.transforms()"
      ]
    },
    {
      "cell_type": "code",
      "source": [
        "train_dataloader_20_percent_img384, test_dataloader_20_percent_img384, class_names = data_setup.create_dataloaders(\n",
        "    train_dir=train_dir_20_percent,\n",
        "    test_dir=test_dir_20_percent,\n",
        "    transform=adjusted_transforms,\n",
        "    batch_size=BATCH_SIZE\n",
        ")"
      ],
      "metadata": {
        "id": "kIL5nHfsmYpq"
      },
      "execution_count": 38,
      "outputs": []
    },
    {
      "cell_type": "code",
      "source": [
        "# 10/7/25\n",
        "vit_pretrained_model_results = engine.train(\n",
        "    model=vit_pretrained_model_swag,\n",
        "    train_dataloader=train_dataloader_20_percent_img384,\n",
        "    test_dataloader=test_dataloader_20_percent_img384,\n",
        "    optimizer=optimizer,\n",
        "    loss_fn=loss_fn,\n",
        "    epochs=5,\n",
        "    device=device)"
      ],
      "metadata": {
        "colab": {
          "base_uri": "https://localhost:8080/",
          "height": 136,
          "referenced_widgets": [
            "f42bd00b64d4482db534dd79f1389b76",
            "4e7698233e324665878beecd6deb2bf7",
            "89b8e292783043f8adab9f732fbc3456",
            "e208960b292b4d57860a515625cce1b8",
            "b6aeb62a9b494f5a9b0cbb01d84d866e",
            "6942363d78d940f79c935dc89c9aa052",
            "8fb4028b53c34de0954719744d5d1098",
            "7d6d16f3ebdf46d5bb20fbf2603a429a",
            "54bce1956b9647358143330e0d259a72",
            "c476caa6787348cdb38350c4c8de25c9",
            "f91be516c53b48dab38f9f44cc4965ee"
          ]
        },
        "id": "Vo59554AlMDQ",
        "outputId": "31c1388a-2f16-4493-8e42-c1d4b6668fd7"
      },
      "execution_count": 39,
      "outputs": [
        {
          "output_type": "display_data",
          "data": {
            "text/plain": [
              "  0%|          | 0/5 [00:00<?, ?it/s]"
            ],
            "application/vnd.jupyter.widget-view+json": {
              "version_major": 2,
              "version_minor": 0,
              "model_id": "f42bd00b64d4482db534dd79f1389b76"
            }
          },
          "metadata": {}
        },
        {
          "output_type": "stream",
          "name": "stdout",
          "text": [
            "Epoch: 1 | train_loss: 1.2690 | train_acc: 0.3604 | test_loss: 1.2256 | test_acc: 0.3869\n",
            "Epoch: 2 | train_loss: 1.2282 | train_acc: 0.3917 | test_loss: 1.2256 | test_acc: 0.3869\n",
            "Epoch: 3 | train_loss: 1.2915 | train_acc: 0.3292 | test_loss: 1.2256 | test_acc: 0.3869\n",
            "Epoch: 4 | train_loss: 1.2972 | train_acc: 0.3292 | test_loss: 1.2256 | test_acc: 0.3869\n",
            "Epoch: 5 | train_loss: 1.2084 | train_acc: 0.3917 | test_loss: 1.2256 | test_acc: 0.3869\n"
          ]
        }
      ]
    },
    {
      "cell_type": "markdown",
      "metadata": {
        "id": "ZLcCgRhS-OhV"
      },
      "source": [
        "# 5. Our custom ViT model architecture closely mimics that of the ViT paper, however, our training recipe misses a few things.\n",
        "* Research some of the following topics from Table 3 in the ViT paper that we miss and write a sentence about each and how it might help with training:\n",
        "    * **ImageNet-21k pretraining**\n",
        "    * **Learning rate warmup**\n",
        "    * **Learning rate decay**\n",
        "    * **Gradient clipping**"
      ]
    },
    {
      "cell_type": "markdown",
      "source": [
        "* ImageNet-21k pretraining"
      ],
      "metadata": {
        "id": "X3cTFPP_nnqB"
      }
    }
  ],
  "metadata": {
    "accelerator": "GPU",
    "colab": {
      "provenance": [],
      "toc_visible": true,
      "include_colab_link": true
    },
    "gpuClass": "standard",
    "kernelspec": {
      "display_name": "Python 3",
      "name": "python3"
    },
    "language_info": {
      "name": "python"
    },
    "widgets": {
      "application/vnd.jupyter.widget-state+json": {
        "0851fa74a3b04656809b417d395230f6": {
          "model_module": "@jupyter-widgets/controls",
          "model_name": "HBoxModel",
          "model_module_version": "1.5.0",
          "state": {
            "_dom_classes": [],
            "_model_module": "@jupyter-widgets/controls",
            "_model_module_version": "1.5.0",
            "_model_name": "HBoxModel",
            "_view_count": null,
            "_view_module": "@jupyter-widgets/controls",
            "_view_module_version": "1.5.0",
            "_view_name": "HBoxView",
            "box_style": "",
            "children": [
              "IPY_MODEL_eaeb6cbfb5d146048cb7022fa5a85c51",
              "IPY_MODEL_377755250980492db75343ff906f3e18",
              "IPY_MODEL_51c74b7704f445b1ba48eb89428183b6"
            ],
            "layout": "IPY_MODEL_d66f4437321240268f48d0d269ad098c"
          }
        },
        "eaeb6cbfb5d146048cb7022fa5a85c51": {
          "model_module": "@jupyter-widgets/controls",
          "model_name": "HTMLModel",
          "model_module_version": "1.5.0",
          "state": {
            "_dom_classes": [],
            "_model_module": "@jupyter-widgets/controls",
            "_model_module_version": "1.5.0",
            "_model_name": "HTMLModel",
            "_view_count": null,
            "_view_module": "@jupyter-widgets/controls",
            "_view_module_version": "1.5.0",
            "_view_name": "HTMLView",
            "description": "",
            "description_tooltip": null,
            "layout": "IPY_MODEL_e96e21e46c5146a79973d7e0313aeaaf",
            "placeholder": "​",
            "style": "IPY_MODEL_5439577104c2483e99b0f977f2ff66fc",
            "value": "100%"
          }
        },
        "377755250980492db75343ff906f3e18": {
          "model_module": "@jupyter-widgets/controls",
          "model_name": "FloatProgressModel",
          "model_module_version": "1.5.0",
          "state": {
            "_dom_classes": [],
            "_model_module": "@jupyter-widgets/controls",
            "_model_module_version": "1.5.0",
            "_model_name": "FloatProgressModel",
            "_view_count": null,
            "_view_module": "@jupyter-widgets/controls",
            "_view_module_version": "1.5.0",
            "_view_name": "ProgressView",
            "bar_style": "success",
            "description": "",
            "description_tooltip": null,
            "layout": "IPY_MODEL_7940d8bf81294eabadc7ca6d6d5b72d9",
            "max": 5,
            "min": 0,
            "orientation": "horizontal",
            "style": "IPY_MODEL_97525ff7a6e94cbf998d7d330886a88b",
            "value": 5
          }
        },
        "51c74b7704f445b1ba48eb89428183b6": {
          "model_module": "@jupyter-widgets/controls",
          "model_name": "HTMLModel",
          "model_module_version": "1.5.0",
          "state": {
            "_dom_classes": [],
            "_model_module": "@jupyter-widgets/controls",
            "_model_module_version": "1.5.0",
            "_model_name": "HTMLModel",
            "_view_count": null,
            "_view_module": "@jupyter-widgets/controls",
            "_view_module_version": "1.5.0",
            "_view_name": "HTMLView",
            "description": "",
            "description_tooltip": null,
            "layout": "IPY_MODEL_b90f177ee8e440569c0cc912b9ebec05",
            "placeholder": "​",
            "style": "IPY_MODEL_8e1f5cc248234936ab12aaa840efa2c9",
            "value": " 5/5 [00:46&lt;00:00,  9.20s/it]"
          }
        },
        "d66f4437321240268f48d0d269ad098c": {
          "model_module": "@jupyter-widgets/base",
          "model_name": "LayoutModel",
          "model_module_version": "1.2.0",
          "state": {
            "_model_module": "@jupyter-widgets/base",
            "_model_module_version": "1.2.0",
            "_model_name": "LayoutModel",
            "_view_count": null,
            "_view_module": "@jupyter-widgets/base",
            "_view_module_version": "1.2.0",
            "_view_name": "LayoutView",
            "align_content": null,
            "align_items": null,
            "align_self": null,
            "border": null,
            "bottom": null,
            "display": null,
            "flex": null,
            "flex_flow": null,
            "grid_area": null,
            "grid_auto_columns": null,
            "grid_auto_flow": null,
            "grid_auto_rows": null,
            "grid_column": null,
            "grid_gap": null,
            "grid_row": null,
            "grid_template_areas": null,
            "grid_template_columns": null,
            "grid_template_rows": null,
            "height": null,
            "justify_content": null,
            "justify_items": null,
            "left": null,
            "margin": null,
            "max_height": null,
            "max_width": null,
            "min_height": null,
            "min_width": null,
            "object_fit": null,
            "object_position": null,
            "order": null,
            "overflow": null,
            "overflow_x": null,
            "overflow_y": null,
            "padding": null,
            "right": null,
            "top": null,
            "visibility": null,
            "width": null
          }
        },
        "e96e21e46c5146a79973d7e0313aeaaf": {
          "model_module": "@jupyter-widgets/base",
          "model_name": "LayoutModel",
          "model_module_version": "1.2.0",
          "state": {
            "_model_module": "@jupyter-widgets/base",
            "_model_module_version": "1.2.0",
            "_model_name": "LayoutModel",
            "_view_count": null,
            "_view_module": "@jupyter-widgets/base",
            "_view_module_version": "1.2.0",
            "_view_name": "LayoutView",
            "align_content": null,
            "align_items": null,
            "align_self": null,
            "border": null,
            "bottom": null,
            "display": null,
            "flex": null,
            "flex_flow": null,
            "grid_area": null,
            "grid_auto_columns": null,
            "grid_auto_flow": null,
            "grid_auto_rows": null,
            "grid_column": null,
            "grid_gap": null,
            "grid_row": null,
            "grid_template_areas": null,
            "grid_template_columns": null,
            "grid_template_rows": null,
            "height": null,
            "justify_content": null,
            "justify_items": null,
            "left": null,
            "margin": null,
            "max_height": null,
            "max_width": null,
            "min_height": null,
            "min_width": null,
            "object_fit": null,
            "object_position": null,
            "order": null,
            "overflow": null,
            "overflow_x": null,
            "overflow_y": null,
            "padding": null,
            "right": null,
            "top": null,
            "visibility": null,
            "width": null
          }
        },
        "5439577104c2483e99b0f977f2ff66fc": {
          "model_module": "@jupyter-widgets/controls",
          "model_name": "DescriptionStyleModel",
          "model_module_version": "1.5.0",
          "state": {
            "_model_module": "@jupyter-widgets/controls",
            "_model_module_version": "1.5.0",
            "_model_name": "DescriptionStyleModel",
            "_view_count": null,
            "_view_module": "@jupyter-widgets/base",
            "_view_module_version": "1.2.0",
            "_view_name": "StyleView",
            "description_width": ""
          }
        },
        "7940d8bf81294eabadc7ca6d6d5b72d9": {
          "model_module": "@jupyter-widgets/base",
          "model_name": "LayoutModel",
          "model_module_version": "1.2.0",
          "state": {
            "_model_module": "@jupyter-widgets/base",
            "_model_module_version": "1.2.0",
            "_model_name": "LayoutModel",
            "_view_count": null,
            "_view_module": "@jupyter-widgets/base",
            "_view_module_version": "1.2.0",
            "_view_name": "LayoutView",
            "align_content": null,
            "align_items": null,
            "align_self": null,
            "border": null,
            "bottom": null,
            "display": null,
            "flex": null,
            "flex_flow": null,
            "grid_area": null,
            "grid_auto_columns": null,
            "grid_auto_flow": null,
            "grid_auto_rows": null,
            "grid_column": null,
            "grid_gap": null,
            "grid_row": null,
            "grid_template_areas": null,
            "grid_template_columns": null,
            "grid_template_rows": null,
            "height": null,
            "justify_content": null,
            "justify_items": null,
            "left": null,
            "margin": null,
            "max_height": null,
            "max_width": null,
            "min_height": null,
            "min_width": null,
            "object_fit": null,
            "object_position": null,
            "order": null,
            "overflow": null,
            "overflow_x": null,
            "overflow_y": null,
            "padding": null,
            "right": null,
            "top": null,
            "visibility": null,
            "width": null
          }
        },
        "97525ff7a6e94cbf998d7d330886a88b": {
          "model_module": "@jupyter-widgets/controls",
          "model_name": "ProgressStyleModel",
          "model_module_version": "1.5.0",
          "state": {
            "_model_module": "@jupyter-widgets/controls",
            "_model_module_version": "1.5.0",
            "_model_name": "ProgressStyleModel",
            "_view_count": null,
            "_view_module": "@jupyter-widgets/base",
            "_view_module_version": "1.2.0",
            "_view_name": "StyleView",
            "bar_color": null,
            "description_width": ""
          }
        },
        "b90f177ee8e440569c0cc912b9ebec05": {
          "model_module": "@jupyter-widgets/base",
          "model_name": "LayoutModel",
          "model_module_version": "1.2.0",
          "state": {
            "_model_module": "@jupyter-widgets/base",
            "_model_module_version": "1.2.0",
            "_model_name": "LayoutModel",
            "_view_count": null,
            "_view_module": "@jupyter-widgets/base",
            "_view_module_version": "1.2.0",
            "_view_name": "LayoutView",
            "align_content": null,
            "align_items": null,
            "align_self": null,
            "border": null,
            "bottom": null,
            "display": null,
            "flex": null,
            "flex_flow": null,
            "grid_area": null,
            "grid_auto_columns": null,
            "grid_auto_flow": null,
            "grid_auto_rows": null,
            "grid_column": null,
            "grid_gap": null,
            "grid_row": null,
            "grid_template_areas": null,
            "grid_template_columns": null,
            "grid_template_rows": null,
            "height": null,
            "justify_content": null,
            "justify_items": null,
            "left": null,
            "margin": null,
            "max_height": null,
            "max_width": null,
            "min_height": null,
            "min_width": null,
            "object_fit": null,
            "object_position": null,
            "order": null,
            "overflow": null,
            "overflow_x": null,
            "overflow_y": null,
            "padding": null,
            "right": null,
            "top": null,
            "visibility": null,
            "width": null
          }
        },
        "8e1f5cc248234936ab12aaa840efa2c9": {
          "model_module": "@jupyter-widgets/controls",
          "model_name": "DescriptionStyleModel",
          "model_module_version": "1.5.0",
          "state": {
            "_model_module": "@jupyter-widgets/controls",
            "_model_module_version": "1.5.0",
            "_model_name": "DescriptionStyleModel",
            "_view_count": null,
            "_view_module": "@jupyter-widgets/base",
            "_view_module_version": "1.2.0",
            "_view_name": "StyleView",
            "description_width": ""
          }
        },
        "f42bd00b64d4482db534dd79f1389b76": {
          "model_module": "@jupyter-widgets/controls",
          "model_name": "HBoxModel",
          "model_module_version": "1.5.0",
          "state": {
            "_dom_classes": [],
            "_model_module": "@jupyter-widgets/controls",
            "_model_module_version": "1.5.0",
            "_model_name": "HBoxModel",
            "_view_count": null,
            "_view_module": "@jupyter-widgets/controls",
            "_view_module_version": "1.5.0",
            "_view_name": "HBoxView",
            "box_style": "",
            "children": [
              "IPY_MODEL_4e7698233e324665878beecd6deb2bf7",
              "IPY_MODEL_89b8e292783043f8adab9f732fbc3456",
              "IPY_MODEL_e208960b292b4d57860a515625cce1b8"
            ],
            "layout": "IPY_MODEL_b6aeb62a9b494f5a9b0cbb01d84d866e"
          }
        },
        "4e7698233e324665878beecd6deb2bf7": {
          "model_module": "@jupyter-widgets/controls",
          "model_name": "HTMLModel",
          "model_module_version": "1.5.0",
          "state": {
            "_dom_classes": [],
            "_model_module": "@jupyter-widgets/controls",
            "_model_module_version": "1.5.0",
            "_model_name": "HTMLModel",
            "_view_count": null,
            "_view_module": "@jupyter-widgets/controls",
            "_view_module_version": "1.5.0",
            "_view_name": "HTMLView",
            "description": "",
            "description_tooltip": null,
            "layout": "IPY_MODEL_6942363d78d940f79c935dc89c9aa052",
            "placeholder": "​",
            "style": "IPY_MODEL_8fb4028b53c34de0954719744d5d1098",
            "value": "100%"
          }
        },
        "89b8e292783043f8adab9f732fbc3456": {
          "model_module": "@jupyter-widgets/controls",
          "model_name": "FloatProgressModel",
          "model_module_version": "1.5.0",
          "state": {
            "_dom_classes": [],
            "_model_module": "@jupyter-widgets/controls",
            "_model_module_version": "1.5.0",
            "_model_name": "FloatProgressModel",
            "_view_count": null,
            "_view_module": "@jupyter-widgets/controls",
            "_view_module_version": "1.5.0",
            "_view_name": "ProgressView",
            "bar_style": "success",
            "description": "",
            "description_tooltip": null,
            "layout": "IPY_MODEL_7d6d16f3ebdf46d5bb20fbf2603a429a",
            "max": 5,
            "min": 0,
            "orientation": "horizontal",
            "style": "IPY_MODEL_54bce1956b9647358143330e0d259a72",
            "value": 5
          }
        },
        "e208960b292b4d57860a515625cce1b8": {
          "model_module": "@jupyter-widgets/controls",
          "model_name": "HTMLModel",
          "model_module_version": "1.5.0",
          "state": {
            "_dom_classes": [],
            "_model_module": "@jupyter-widgets/controls",
            "_model_module_version": "1.5.0",
            "_model_name": "HTMLModel",
            "_view_count": null,
            "_view_module": "@jupyter-widgets/controls",
            "_view_module_version": "1.5.0",
            "_view_name": "HTMLView",
            "description": "",
            "description_tooltip": null,
            "layout": "IPY_MODEL_c476caa6787348cdb38350c4c8de25c9",
            "placeholder": "​",
            "style": "IPY_MODEL_f91be516c53b48dab38f9f44cc4965ee",
            "value": " 5/5 [02:11&lt;00:00, 25.85s/it]"
          }
        },
        "b6aeb62a9b494f5a9b0cbb01d84d866e": {
          "model_module": "@jupyter-widgets/base",
          "model_name": "LayoutModel",
          "model_module_version": "1.2.0",
          "state": {
            "_model_module": "@jupyter-widgets/base",
            "_model_module_version": "1.2.0",
            "_model_name": "LayoutModel",
            "_view_count": null,
            "_view_module": "@jupyter-widgets/base",
            "_view_module_version": "1.2.0",
            "_view_name": "LayoutView",
            "align_content": null,
            "align_items": null,
            "align_self": null,
            "border": null,
            "bottom": null,
            "display": null,
            "flex": null,
            "flex_flow": null,
            "grid_area": null,
            "grid_auto_columns": null,
            "grid_auto_flow": null,
            "grid_auto_rows": null,
            "grid_column": null,
            "grid_gap": null,
            "grid_row": null,
            "grid_template_areas": null,
            "grid_template_columns": null,
            "grid_template_rows": null,
            "height": null,
            "justify_content": null,
            "justify_items": null,
            "left": null,
            "margin": null,
            "max_height": null,
            "max_width": null,
            "min_height": null,
            "min_width": null,
            "object_fit": null,
            "object_position": null,
            "order": null,
            "overflow": null,
            "overflow_x": null,
            "overflow_y": null,
            "padding": null,
            "right": null,
            "top": null,
            "visibility": null,
            "width": null
          }
        },
        "6942363d78d940f79c935dc89c9aa052": {
          "model_module": "@jupyter-widgets/base",
          "model_name": "LayoutModel",
          "model_module_version": "1.2.0",
          "state": {
            "_model_module": "@jupyter-widgets/base",
            "_model_module_version": "1.2.0",
            "_model_name": "LayoutModel",
            "_view_count": null,
            "_view_module": "@jupyter-widgets/base",
            "_view_module_version": "1.2.0",
            "_view_name": "LayoutView",
            "align_content": null,
            "align_items": null,
            "align_self": null,
            "border": null,
            "bottom": null,
            "display": null,
            "flex": null,
            "flex_flow": null,
            "grid_area": null,
            "grid_auto_columns": null,
            "grid_auto_flow": null,
            "grid_auto_rows": null,
            "grid_column": null,
            "grid_gap": null,
            "grid_row": null,
            "grid_template_areas": null,
            "grid_template_columns": null,
            "grid_template_rows": null,
            "height": null,
            "justify_content": null,
            "justify_items": null,
            "left": null,
            "margin": null,
            "max_height": null,
            "max_width": null,
            "min_height": null,
            "min_width": null,
            "object_fit": null,
            "object_position": null,
            "order": null,
            "overflow": null,
            "overflow_x": null,
            "overflow_y": null,
            "padding": null,
            "right": null,
            "top": null,
            "visibility": null,
            "width": null
          }
        },
        "8fb4028b53c34de0954719744d5d1098": {
          "model_module": "@jupyter-widgets/controls",
          "model_name": "DescriptionStyleModel",
          "model_module_version": "1.5.0",
          "state": {
            "_model_module": "@jupyter-widgets/controls",
            "_model_module_version": "1.5.0",
            "_model_name": "DescriptionStyleModel",
            "_view_count": null,
            "_view_module": "@jupyter-widgets/base",
            "_view_module_version": "1.2.0",
            "_view_name": "StyleView",
            "description_width": ""
          }
        },
        "7d6d16f3ebdf46d5bb20fbf2603a429a": {
          "model_module": "@jupyter-widgets/base",
          "model_name": "LayoutModel",
          "model_module_version": "1.2.0",
          "state": {
            "_model_module": "@jupyter-widgets/base",
            "_model_module_version": "1.2.0",
            "_model_name": "LayoutModel",
            "_view_count": null,
            "_view_module": "@jupyter-widgets/base",
            "_view_module_version": "1.2.0",
            "_view_name": "LayoutView",
            "align_content": null,
            "align_items": null,
            "align_self": null,
            "border": null,
            "bottom": null,
            "display": null,
            "flex": null,
            "flex_flow": null,
            "grid_area": null,
            "grid_auto_columns": null,
            "grid_auto_flow": null,
            "grid_auto_rows": null,
            "grid_column": null,
            "grid_gap": null,
            "grid_row": null,
            "grid_template_areas": null,
            "grid_template_columns": null,
            "grid_template_rows": null,
            "height": null,
            "justify_content": null,
            "justify_items": null,
            "left": null,
            "margin": null,
            "max_height": null,
            "max_width": null,
            "min_height": null,
            "min_width": null,
            "object_fit": null,
            "object_position": null,
            "order": null,
            "overflow": null,
            "overflow_x": null,
            "overflow_y": null,
            "padding": null,
            "right": null,
            "top": null,
            "visibility": null,
            "width": null
          }
        },
        "54bce1956b9647358143330e0d259a72": {
          "model_module": "@jupyter-widgets/controls",
          "model_name": "ProgressStyleModel",
          "model_module_version": "1.5.0",
          "state": {
            "_model_module": "@jupyter-widgets/controls",
            "_model_module_version": "1.5.0",
            "_model_name": "ProgressStyleModel",
            "_view_count": null,
            "_view_module": "@jupyter-widgets/base",
            "_view_module_version": "1.2.0",
            "_view_name": "StyleView",
            "bar_color": null,
            "description_width": ""
          }
        },
        "c476caa6787348cdb38350c4c8de25c9": {
          "model_module": "@jupyter-widgets/base",
          "model_name": "LayoutModel",
          "model_module_version": "1.2.0",
          "state": {
            "_model_module": "@jupyter-widgets/base",
            "_model_module_version": "1.2.0",
            "_model_name": "LayoutModel",
            "_view_count": null,
            "_view_module": "@jupyter-widgets/base",
            "_view_module_version": "1.2.0",
            "_view_name": "LayoutView",
            "align_content": null,
            "align_items": null,
            "align_self": null,
            "border": null,
            "bottom": null,
            "display": null,
            "flex": null,
            "flex_flow": null,
            "grid_area": null,
            "grid_auto_columns": null,
            "grid_auto_flow": null,
            "grid_auto_rows": null,
            "grid_column": null,
            "grid_gap": null,
            "grid_row": null,
            "grid_template_areas": null,
            "grid_template_columns": null,
            "grid_template_rows": null,
            "height": null,
            "justify_content": null,
            "justify_items": null,
            "left": null,
            "margin": null,
            "max_height": null,
            "max_width": null,
            "min_height": null,
            "min_width": null,
            "object_fit": null,
            "object_position": null,
            "order": null,
            "overflow": null,
            "overflow_x": null,
            "overflow_y": null,
            "padding": null,
            "right": null,
            "top": null,
            "visibility": null,
            "width": null
          }
        },
        "f91be516c53b48dab38f9f44cc4965ee": {
          "model_module": "@jupyter-widgets/controls",
          "model_name": "DescriptionStyleModel",
          "model_module_version": "1.5.0",
          "state": {
            "_model_module": "@jupyter-widgets/controls",
            "_model_module_version": "1.5.0",
            "_model_name": "DescriptionStyleModel",
            "_view_count": null,
            "_view_module": "@jupyter-widgets/base",
            "_view_module_version": "1.2.0",
            "_view_name": "StyleView",
            "description_width": ""
          }
        }
      }
    }
  },
  "nbformat": 4,
  "nbformat_minor": 0
}