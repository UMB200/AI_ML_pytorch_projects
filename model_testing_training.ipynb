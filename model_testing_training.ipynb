{
  "nbformat": 4,
  "nbformat_minor": 0,
  "metadata": {
    "colab": {
      "provenance": [],
      "authorship_tag": "ABX9TyNj7Y7E1RJNhT0ueiOUQyf4",
      "include_colab_link": true
    },
    "kernelspec": {
      "name": "python3",
      "display_name": "Python 3"
    },
    "language_info": {
      "name": "python"
    }
  },
  "cells": [
    {
      "cell_type": "markdown",
      "metadata": {
        "id": "view-in-github",
        "colab_type": "text"
      },
      "source": [
        "<a href=\"https://colab.research.google.com/github/UMB200/pytorch_projects/blob/main/model_testing_training.ipynb\" target=\"_parent\"><img src=\"https://colab.research.google.com/assets/colab-badge.svg\" alt=\"Open In Colab\"/></a>"
      ]
    },
    {
      "cell_type": "code",
      "execution_count": null,
      "metadata": {
        "id": "GdZzz7-6j3y-"
      },
      "outputs": [],
      "source": [
        "def training_loop_step(model: torch.nn.Module,\n",
        "                        data_loader: torch.utils.data.DataLoader,\n",
        "                        loss_function: torch.nn.Module,\n",
        "                        optimizer: torch.optim.Optimizer,\n",
        "                        accuracy_fn,\n",
        "                        device: torch.device = device):\n",
        "\n",
        "  \"\"\" Performs a training with model trying to learn on data_loader\"\"\"\n",
        "  ### Training\n",
        "  training_loss, training_accuracy = 0, 0\n",
        "  # Set model into training mode\n",
        "  model.to(device)\n",
        "\n",
        "  for batch, (X, y) in enumerate(data_loader):\n",
        "      # Put data on target device\n",
        "      X, y = X.to(device), y.to(device)\n",
        "      # 1. Forward pass\n",
        "      y_prediction = model(X)\n",
        "\n",
        "      # 2. Calculate loss & accuracy per batch\n",
        "      loss_value = loss_function(y_prediction, y)\n",
        "      training_loss += loss_value # accumulate training loss\n",
        "      training_accuracy += accuracy_fn(y_true = y,\n",
        "                                        y_pred = y_prediction.argmax(dim=1)) # go from logits -> prediction labels\n",
        "      # 3. Optimizer zero grad\n",
        "      optimizer.zero_grad()\n",
        "\n",
        "      # 4. Loss backward\n",
        "      loss_value.backward()\n",
        "\n",
        "      # 5. Optimizer step\n",
        "      optimizer.step()\n",
        "\n",
        "  # Calculate the testing loss & accuracy by dividing of testing accuract by the length of test dataloader\n",
        "  training_loss /= len(data_loader)\n",
        "  training_accuracy /=len(data_loader)\n",
        "\n",
        "  print(f\"Training loss: {training_loss:.4f} |Training accuracy: {training_accuracy:.2f}%\")"
      ]
    },
    {
      "cell_type": "code",
      "source": [
        "### Testing\n",
        "def testing_loop_step(model: torch.nn.Module,\n",
        "                      data_loader: torch.utils.data.DataLoader,\n",
        "                      loss_function: torch.nn.Module,\n",
        "                      accuracy_fn,\n",
        "                      device: torch.device = device):\n",
        "  testing_loss, testing_accuracy = 0, 0\n",
        "  model.eval()\n",
        "  model.to(device)\n",
        "  with torch.inference_mode():\n",
        "    for X, y in data_loader:\n",
        "      X, y = X.to(device), y.to(device)\n",
        "\n",
        "      # 1. Forward pass\n",
        "      test_prediction = model(X)\n",
        "\n",
        "      # 2. Calculate loss (accumulatively) & accuracy\n",
        "      testing_loss += loss_function(test_prediction, y)\n",
        "      testing_accuracy += accuracy_fn(y_true=y, y_pred=test_prediction.argmax(dim=1))\n",
        "\n",
        "    # Calculate the test loss & accuracy average by dividing total testing loss and test accuracy by length of dataloader\n",
        "    testing_loss /= len(data_loader)\n",
        "    testing_accuracy /=len(data_loader)\n",
        "\n",
        "    print(f\"Testing loss: {testing_loss:.4f} | Testing accuracy: {testing_accuracy:.2f}%\")"
      ],
      "metadata": {
        "id": "f9kyT1Xdj8RX"
      },
      "execution_count": null,
      "outputs": []
    }
  ]
}