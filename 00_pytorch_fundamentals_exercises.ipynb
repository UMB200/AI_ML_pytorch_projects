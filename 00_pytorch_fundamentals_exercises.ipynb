{
  "nbformat": 4,
  "nbformat_minor": 0,
  "metadata": {
    "colab": {
      "name": "00_pytorch_fundamentals_exercises.ipynb",
      "provenance": [],
      "gpuType": "T4",
      "include_colab_link": true
    },
    "kernelspec": {
      "name": "python3",
      "display_name": "Python 3"
    },
    "language_info": {
      "name": "python"
    },
    "accelerator": "GPU"
  },
  "cells": [
    {
      "cell_type": "markdown",
      "metadata": {
        "id": "view-in-github",
        "colab_type": "text"
      },
      "source": [
        "<a href=\"https://colab.research.google.com/github/UMB200/pytorch_projects/blob/main/00_pytorch_fundamentals_exercises.ipynb\" target=\"_parent\"><img src=\"https://colab.research.google.com/assets/colab-badge.svg\" alt=\"Open In Colab\"/></a>"
      ]
    },
    {
      "cell_type": "markdown",
      "source": [
        "# 00. PyTorch Fundamentals Exercises\n",
        "\n",
        "### 1. Documentation reading\n",
        "\n",
        "A big part of deep learning (and learning to code in general) is getting familiar with the documentation of a certain framework you're using. We'll be using the PyTorch documentation a lot throughout the rest of this course. So I'd recommend spending 10-minutes reading the following (it's okay if you don't get some things for now, the focus is not yet full understanding, it's awareness):\n",
        "  * The documentation on [`torch.Tensor`](https://pytorch.org/docs/stable/tensors.html#torch-tensor).\n",
        "  * The documentation on [`torch.cuda`](https://pytorch.org/docs/master/notes/cuda.html#cuda-semantics).\n",
        "\n"
      ],
      "metadata": {
        "id": "AzDBM_v4iMe7"
      }
    },
    {
      "cell_type": "code",
      "source": [
        "# No code solution (reading)"
      ],
      "metadata": {
        "id": "bGD0oD8Kizak"
      },
      "execution_count": 50,
      "outputs": []
    },
    {
      "cell_type": "markdown",
      "source": [
        "### 2. Create a random tensor with shape `(7, 7)`.\n"
      ],
      "metadata": {
        "id": "__iXqqz-ioUJ"
      }
    },
    {
      "cell_type": "code",
      "source": [
        "\n",
        "# Create random tensor\n",
        "import torch\n",
        "random_tensor_7 = torch.rand(7, 7)\n",
        "print(f\"Tensor 7: \\n{random_tensor_7}\")\n",
        "\n"
      ],
      "metadata": {
        "id": "6pUq9Dc8i2L7",
        "colab": {
          "base_uri": "https://localhost:8080/"
        },
        "outputId": "c0d4f7f6-0719-4135-b104-6ed81487f0b2"
      },
      "execution_count": 51,
      "outputs": [
        {
          "output_type": "stream",
          "name": "stdout",
          "text": [
            "Tensor 7: \n",
            "tensor([[0.0223, 0.1689, 0.2939, 0.5185, 0.6977, 0.8000, 0.1610],\n",
            "        [0.2823, 0.6816, 0.9152, 0.3971, 0.8742, 0.4194, 0.5529],\n",
            "        [0.9527, 0.0362, 0.1852, 0.3734, 0.3051, 0.9320, 0.1759],\n",
            "        [0.2698, 0.1507, 0.0317, 0.2081, 0.9298, 0.7231, 0.7423],\n",
            "        [0.5263, 0.2437, 0.5846, 0.0332, 0.1387, 0.2422, 0.8155],\n",
            "        [0.7932, 0.2783, 0.4820, 0.8198, 0.9971, 0.6984, 0.5675],\n",
            "        [0.8352, 0.2056, 0.5932, 0.1123, 0.1535, 0.2417, 0.7262]])\n"
          ]
        }
      ]
    },
    {
      "cell_type": "markdown",
      "source": [
        "### 3. Perform a matrix multiplication on the tensor from 2 with another random tensor with shape `(1, 7)` (hint: you may have to transpose the second tensor)."
      ],
      "metadata": {
        "id": "9-XxvRLfiqkR"
      }
    },
    {
      "cell_type": "code",
      "source": [
        "# Create another random tensor\n",
        "random_tensor_8 = torch.rand(1, 7)\n",
        "print(f\"Tensor 8: \\n{random_tensor_8}\")\n",
        "transposed_tensor_8 = random_tensor_8.T\n",
        "\n",
        "# Perform matrix multiplication\n",
        "output = torch.mm(random_tensor_7, transposed_tensor_8)\n",
        "print(f\"\\nTensor 7 x 8: \\n{output, output.size()}\")\n"
      ],
      "metadata": {
        "id": "NcLqR0Sbi_vT",
        "colab": {
          "base_uri": "https://localhost:8080/"
        },
        "outputId": "78b6409d-e9e5-4744-bcf1-1d7f311f29c1"
      },
      "execution_count": 52,
      "outputs": [
        {
          "output_type": "stream",
          "name": "stdout",
          "text": [
            "Tensor 8: \n",
            "tensor([[0.7011, 0.2038, 0.6511, 0.7745, 0.4369, 0.5191, 0.6159]])\n",
            "\n",
            "Tensor 7 x 8: \n",
            "(tensor([[1.4622],\n",
            "        [2.1803],\n",
            "        [1.8105],\n",
            "        [1.6405],\n",
            "        [1.5135],\n",
            "        [2.7092],\n",
            "        [1.7404]]), torch.Size([7, 1]))\n"
          ]
        }
      ]
    },
    {
      "cell_type": "markdown",
      "source": [
        "### 4. Set the random seed to `0` and do 2 & 3 over again.\n",
        "\n",
        "The output should be:\n",
        "```\n",
        "(tensor([[1.8542],\n",
        "         [1.9611],\n",
        "         [2.2884],\n",
        "         [3.0481],\n",
        "         [1.7067],\n",
        "         [2.5290],\n",
        "         [1.7989]]), torch.Size([7, 1]))\n",
        "```"
      ],
      "metadata": {
        "id": "eiutdKUFiryU"
      }
    },
    {
      "cell_type": "code",
      "source": [
        "# Set manual seed\n",
        "import torch\n",
        "\n",
        "RANDOM_SEED = 0\n",
        "\n",
        "# Create two random tensors\n",
        "torch.manual_seed(RANDOM_SEED) #Set random seed is needed for each tensor\n",
        "random_tensor_7\n",
        "\n",
        "torch.manual_seed(RANDOM_SEED) #Set random seed is needed for each tensor\n",
        "random_tensor_8\n",
        "transposed_tensor_8 = random_tensor_8.T\n",
        "\n",
        "# Matrix multiply tensors\n",
        "torch.mm(random_tensor_7, transposed_tensor_8)"
      ],
      "metadata": {
        "id": "D-lOWI_1jRMm",
        "colab": {
          "base_uri": "https://localhost:8080/"
        },
        "outputId": "353838f3-6fa0-40b2-d570-678e70577818"
      },
      "execution_count": 53,
      "outputs": [
        {
          "output_type": "execute_result",
          "data": {
            "text/plain": [
              "tensor([[1.4622],\n",
              "        [2.1803],\n",
              "        [1.8105],\n",
              "        [1.6405],\n",
              "        [1.5135],\n",
              "        [2.7092],\n",
              "        [1.7404]])"
            ]
          },
          "metadata": {},
          "execution_count": 53
        }
      ]
    },
    {
      "cell_type": "markdown",
      "source": [
        "### 5. Speaking of random seeds, we saw how to set it with `torch.manual_seed()` but is there a GPU equivalent? (hint: you'll need to look into the documentation for `torch.cuda` for this one)\n",
        "  * If there is, set the GPU random seed to `1234`."
      ],
      "metadata": {
        "id": "ezY6ks9Cis37"
      }
    },
    {
      "cell_type": "code",
      "source": [
        "# Set random seed on the GPU\n",
        "import torch\n",
        "RANDOM_SEED_GPU = 1234\n",
        "torch.cuda.manual_seed_all(RANDOM_SEED_GPU)\n",
        "random_tensor_7\n",
        "torch.manual_seed(RANDOM_SEED) #Set random seed is needed for each tensor\n",
        "random_tensor_8\n",
        "transposed_tensor_8 = random_tensor_8.T\n",
        "\n",
        "# Matrix multiply tensors\n",
        "torch.mm(random_tensor_7, transposed_tensor_8)\n"
      ],
      "metadata": {
        "id": "_LKWcfSTjp00",
        "colab": {
          "base_uri": "https://localhost:8080/"
        },
        "outputId": "869a7277-f4ee-406f-fb91-1e7e3a54c4ce"
      },
      "execution_count": 54,
      "outputs": [
        {
          "output_type": "execute_result",
          "data": {
            "text/plain": [
              "tensor([[1.4622],\n",
              "        [2.1803],\n",
              "        [1.8105],\n",
              "        [1.6405],\n",
              "        [1.5135],\n",
              "        [2.7092],\n",
              "        [1.7404]])"
            ]
          },
          "metadata": {},
          "execution_count": 54
        }
      ]
    },
    {
      "cell_type": "markdown",
      "source": [
        "\n",
        "### 6. Create two random tensors of shape `(2, 3)` and send them both to the GPU (you'll need access to a GPU for this). Set `torch.manual_seed(1234)` when creating the tensors (this doesn't have to be the GPU random seed). The output should be something like:\n",
        "\n",
        "```\n",
        "Device: cuda\n",
        "(tensor([[0.0290, 0.4019, 0.2598],\n",
        "         [0.3666, 0.0583, 0.7006]], device='cuda:0'),\n",
        " tensor([[0.0518, 0.4681, 0.6738],\n",
        "         [0.3315, 0.7837, 0.5631]], device='cuda:0'))\n",
        "```"
      ],
      "metadata": {
        "id": "Ir9qSaj6it4n"
      }
    },
    {
      "cell_type": "code",
      "source": [
        "# Set random seed\n",
        "import torch\n",
        "RANDOM_SEED = 1234\n",
        "torch.cuda.manual_seed(RANDOM_SEED)\n",
        "\n",
        "\n",
        "# Check for access to GPU\n",
        "cuda_device = \"cuda\" if torch.cuda.is_available() else \"cpu\"\n",
        "\n",
        "# Create two random tensors on GPU\n",
        "random_tensor_2_3_A = torch.rand(2, 3)\n",
        "random_tensor_2_3_B = torch.rand(2, 3)\n",
        "tensor_A_on_gpu = random_tensor_2_3_A.to(cuda_device)\n",
        "tensor_B_on_gpu = random_tensor_2_3_B.to(cuda_device)\n",
        "\n",
        "print(f\"Device: {torch.device(cuda_device)}\")\n",
        "print(f\"Tensor A: {tensor_A_on_gpu}\")\n",
        "print(f\"Tensor B: {tensor_B_on_gpu}\")"
      ],
      "metadata": {
        "id": "azXExiFZj5nm",
        "colab": {
          "base_uri": "https://localhost:8080/"
        },
        "outputId": "b21aaaed-00d0-479d-eb34-dcc1797e45d2"
      },
      "execution_count": 55,
      "outputs": [
        {
          "output_type": "stream",
          "name": "stdout",
          "text": [
            "Device: cuda\n",
            "Tensor A: tensor([[0.4963, 0.7682, 0.0885],\n",
            "        [0.1320, 0.3074, 0.6341]], device='cuda:0')\n",
            "Tensor B: tensor([[0.4901, 0.8964, 0.4556],\n",
            "        [0.6323, 0.3489, 0.4017]], device='cuda:0')\n"
          ]
        }
      ]
    },
    {
      "cell_type": "markdown",
      "source": [
        "\n",
        "### 7. Perform a matrix multiplication on the tensors you created in 6 (again, you may have to adjust the shapes of one of the tensors).\n",
        "\n",
        "The output should look like:\n",
        "```\n",
        "(tensor([[0.3647, 0.4709],\n",
        "         [0.5184, 0.5617]], device='cuda:0'), torch.Size([2, 2]))\n",
        "```"
      ],
      "metadata": {
        "id": "5TlAxeiSiu1y"
      }
    },
    {
      "cell_type": "code",
      "source": [
        "# Perform matmul on tensor_A and tensor_B\n",
        "transposed_tensor_B2 = tensor_B_on_gpu.T\n",
        "output7 = torch.mm(tensor_A_on_gpu, transposed_tensor_B2)\n",
        "print(f\"Tensor output {output7, output7.size()}\")"
      ],
      "metadata": {
        "id": "fAeG7ox0lHEO",
        "colab": {
          "base_uri": "https://localhost:8080/"
        },
        "outputId": "6fc53dcc-f55d-4d73-ef8d-d784e3950317"
      },
      "execution_count": 66,
      "outputs": [
        {
          "output_type": "stream",
          "name": "stdout",
          "text": [
            "Tensor output (tensor([[0.9722, 0.6174],\n",
            "        [0.6292, 0.4455]], device='cuda:0'), torch.Size([2, 2]))\n"
          ]
        }
      ]
    },
    {
      "cell_type": "markdown",
      "source": [
        "### 8. Find the maximum and minimum values of the output of 7."
      ],
      "metadata": {
        "id": "G7qfa5CSivwg"
      }
    },
    {
      "cell_type": "code",
      "source": [
        "# Find max\n",
        "print(f\"Max of tensor in step 7: {output7.max()}\")\n",
        "# Find min\n",
        "print(f\"Min of tensor in step 7: {output7.min()}\")\n"
      ],
      "metadata": {
        "id": "Fu8_3mZpllOd",
        "colab": {
          "base_uri": "https://localhost:8080/"
        },
        "outputId": "6d2114a8-56e4-482d-fab2-1cd957f62139"
      },
      "execution_count": 67,
      "outputs": [
        {
          "output_type": "stream",
          "name": "stdout",
          "text": [
            "Max of tensor in step 7: 0.9721932411193848\n",
            "Min of tensor in step 7: 0.4454618990421295\n"
          ]
        }
      ]
    },
    {
      "cell_type": "markdown",
      "source": [
        "### 9. Find the maximum and minimum index values of the output of 7."
      ],
      "metadata": {
        "id": "wrTj5FgNiw47"
      }
    },
    {
      "cell_type": "code",
      "source": [
        "# get the tensor\n",
        "print(f\"Tensor output: \\n{output7}\")\n",
        "# Find arg max\n",
        "print(f\"Index of max value of tensor in step 7: {torch.argmax(output7)}\")\n",
        "# Find arg min\n",
        "print(f\"Index of min value of tensor in step 7: {torch.argmin(output7)}\")\n"
      ],
      "metadata": {
        "id": "CCEKt4K2lsfQ",
        "colab": {
          "base_uri": "https://localhost:8080/"
        },
        "outputId": "20531a85-08d2-4564-fc33-ed4d5989b52d"
      },
      "execution_count": 73,
      "outputs": [
        {
          "output_type": "stream",
          "name": "stdout",
          "text": [
            "Tensor output: \n",
            "tensor([[0.9722, 0.6174],\n",
            "        [0.6292, 0.4455]], device='cuda:0')\n",
            "Index of max value of tensor in step 7: 0\n",
            "Index of min value of tensor in step 7: 3\n"
          ]
        }
      ]
    },
    {
      "cell_type": "markdown",
      "source": [
        "\n",
        "### 10. Make a random tensor with shape `(1, 1, 1, 10)` and then create a new tensor with all the `1` dimensions removed to be left with a tensor of shape `(10)`. Set the seed to `7` when you create it and print out the first tensor and it's shape as well as the second tensor and it's shape.\n",
        "\n",
        "The output should look like:\n",
        "\n",
        "```\n",
        "tensor([[[[0.5349, 0.1988, 0.6592, 0.6569, 0.2328, 0.4251, 0.2071, 0.6297,\n",
        "           0.3653, 0.8513]]]]) torch.Size([1, 1, 1, 10])\n",
        "tensor([0.5349, 0.1988, 0.6592, 0.6569, 0.2328, 0.4251, 0.2071, 0.6297, 0.3653,\n",
        "        0.8513]) torch.Size([10])\n",
        "```"
      ],
      "metadata": {
        "id": "hmeybz4uixy7"
      }
    },
    {
      "cell_type": "code",
      "source": [
        "# Set seed\n",
        "RANDOM_SEED = 7\n",
        "torch.manual_seed(RANDOM_SEED)\n",
        "\n",
        "# Create random tensor\n",
        "tensor10 = torch.rand(1, 1, 1, 10)\n",
        "\n",
        "# Remove single dimensions\n",
        "tensor10_reduced = torch.squeeze(tensor10)\n",
        "\n",
        "\n",
        "# Print out tensors and their shapes\n",
        "print(f\"Initial tensor: {tensor10, tensor10.shape}\")\n",
        "\n",
        "print(f\"Reduced tensor: {tensor10_reduced, tensor10_reduced.shape}\")"
      ],
      "metadata": {
        "id": "TQ9zbRzVl1jV",
        "colab": {
          "base_uri": "https://localhost:8080/"
        },
        "outputId": "6d941a3c-fb48-486b-a578-7b5e0d0d9c8f"
      },
      "execution_count": 77,
      "outputs": [
        {
          "output_type": "stream",
          "name": "stdout",
          "text": [
            "Initial tensor: (tensor([[[[0.5349, 0.1988, 0.6592, 0.6569, 0.2328, 0.4251, 0.2071, 0.6297,\n",
            "           0.3653, 0.8513]]]]), torch.Size([1, 1, 1, 10]))\n",
            "Reduced tensor: (tensor([0.5349, 0.1988, 0.6592, 0.6569, 0.2328, 0.4251, 0.2071, 0.6297, 0.3653,\n",
            "        0.8513]), torch.Size([10]))\n"
          ]
        }
      ]
    }
  ]
}